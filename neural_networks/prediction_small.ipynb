{
 "cells": [
  {
   "cell_type": "code",
   "execution_count": 86,
   "metadata": {},
   "outputs": [],
   "source": [
    "from keras.models import load_model\n",
    "from keras.preprocessing import image\n",
    "import numpy as np\n",
    "import keras.backend as K\n",
    "import skimage.io as io\n",
    "import skimage.transform as tr\n",
    "import matplotlib.pyplot as plt\n",
    "from glob import glob\n",
    "from keras.optimizers import *\n",
    "\n",
    "from loss_metrics import *\n",
    "from helper import * \n",
    "\n",
    "%matplotlib inline"
   ]
  },
  {
   "cell_type": "code",
   "execution_count": 444,
   "metadata": {},
   "outputs": [],
   "source": [
    "# load the model\n",
    "model = load_model('/home/dan/Desktop/Datenset_Group4_2 (Augmented)/results/training_01_best.h5', custom_objects={'iou_loss': iou_loss, 'f1': f1, 'iou':iou, 'precision' :precision, 'recall' : recall, 'error' : error})"
   ]
  },
  {
   "cell_type": "code",
   "execution_count": 445,
   "metadata": {},
   "outputs": [
    {
     "name": "stderr",
     "output_type": "stream",
     "text": [
      "/home/dan/.conda/envs/tf-gpu/lib/python3.6/site-packages/skimage/transform/_warps.py:105: UserWarning: The default mode, 'constant', will be changed to 'reflect' in skimage 0.15.\n",
      "  warn(\"The default mode, 'constant', will be changed to 'reflect' in \"\n",
      "/home/dan/.conda/envs/tf-gpu/lib/python3.6/site-packages/skimage/transform/_warps.py:110: UserWarning: Anti-aliasing will be enabled by default in skimage 0.15 to avoid aliasing artifacts when down-sampling images.\n",
      "  warn(\"Anti-aliasing will be enabled by default in skimage 0.15 to \"\n",
      "/home/dan/.conda/envs/tf-gpu/lib/python3.6/site-packages/skimage/util/dtype.py:130: UserWarning: Possible precision loss when converting from float64 to uint8\n",
      "  .format(dtypeobj_in, dtypeobj_out))\n"
     ]
    }
   ],
   "source": [
    "InputDir = '/home/dan/Desktop/views/images/data/*.png'\n",
    "\n",
    "InputMask = '/home/dan/Desktop/FINAL_DATASETS/Datenset_Group4_2/train/masks/data' + '/'\n",
    "OutputDir = '/home/dan/Desktop/views/results/4_2'\n",
    "\n",
    "# read the test-input-data\n",
    "x = None\n",
    "x = read_imgs(InputDir, (224,224,1))\n",
    "\n",
    "# read the test-groundtruth-data\n",
    "y = None\n",
    "#y = read_imgs('/home/dan/Desktop/Datenset_Block3/test/masks/data/*.png', (224,224,1))"
   ]
  },
  {
   "cell_type": "code",
   "execution_count": 446,
   "metadata": {},
   "outputs": [
    {
     "name": "stdout",
     "output_type": "stream",
     "text": [
      "\r",
      "19/19 [==============================] - 4s 217ms/step\n"
     ]
    }
   ],
   "source": [
    "# do the prediction\n",
    "#test_image = x[2]\n",
    "#test_image = np.expand_dims(test_image, axis=0)\n",
    "pred = model.predict(x, verbose=1)"
   ]
  },
  {
   "cell_type": "code",
   "execution_count": 447,
   "metadata": {},
   "outputs": [
    {
     "name": "stdout",
     "output_type": "stream",
     "text": [
      "0\n",
      "/home/dan/Desktop/FINAL_DATASETS/Datenset_Group4_2/train/masks/data/screenshot78.png\n"
     ]
    },
    {
     "name": "stderr",
     "output_type": "stream",
     "text": [
      "/home/dan/.conda/envs/tf-gpu/lib/python3.6/site-packages/ipykernel_launcher.py:24: DeprecationWarning: `imsave` is deprecated!\n",
      "`imsave` is deprecated in SciPy 1.0.0, and will be removed in 1.2.0.\n",
      "Use ``imageio.imwrite`` instead.\n",
      "/home/dan/.conda/envs/tf-gpu/lib/python3.6/site-packages/ipykernel_launcher.py:25: DeprecationWarning: `imsave` is deprecated!\n",
      "`imsave` is deprecated in SciPy 1.0.0, and will be removed in 1.2.0.\n",
      "Use ``imageio.imwrite`` instead.\n",
      "/home/dan/.conda/envs/tf-gpu/lib/python3.6/site-packages/ipykernel_launcher.py:26: DeprecationWarning: `imsave` is deprecated!\n",
      "`imsave` is deprecated in SciPy 1.0.0, and will be removed in 1.2.0.\n",
      "Use ``imageio.imwrite`` instead.\n",
      "/home/dan/.conda/envs/tf-gpu/lib/python3.6/site-packages/ipykernel_launcher.py:27: DeprecationWarning: `imsave` is deprecated!\n",
      "`imsave` is deprecated in SciPy 1.0.0, and will be removed in 1.2.0.\n",
      "Use ``imageio.imwrite`` instead.\n"
     ]
    },
    {
     "name": "stdout",
     "output_type": "stream",
     "text": [
      "1\n",
      "/home/dan/Desktop/FINAL_DATASETS/Datenset_Group4_2/train/masks/data/screenshot101.png\n",
      "2\n",
      "/home/dan/Desktop/FINAL_DATASETS/Datenset_Group4_2/train/masks/data/screenshot81.png\n",
      "3\n",
      "/home/dan/Desktop/FINAL_DATASETS/Datenset_Group4_2/train/masks/data/screenshot972.png\n",
      "4\n",
      "/home/dan/Desktop/FINAL_DATASETS/Datenset_Group4_2/train/masks/data/screenshot923.png\n",
      "5\n",
      "/home/dan/Desktop/FINAL_DATASETS/Datenset_Group4_2/train/masks/data/screenshot137.png\n",
      "6\n",
      "/home/dan/Desktop/FINAL_DATASETS/Datenset_Group4_2/train/masks/data/screenshot702.png\n",
      "7\n",
      "/home/dan/Desktop/FINAL_DATASETS/Datenset_Group4_2/train/masks/data/screenshot917.png\n",
      "8\n",
      "/home/dan/Desktop/FINAL_DATASETS/Datenset_Group4_2/train/masks/data/screenshot1221.png\n",
      "9\n",
      "/home/dan/Desktop/FINAL_DATASETS/Datenset_Group4_2/train/masks/data/screenshot1180.png\n",
      "10\n",
      "/home/dan/Desktop/FINAL_DATASETS/Datenset_Group4_2/train/masks/data/screenshot967.png\n",
      "11\n",
      "/home/dan/Desktop/FINAL_DATASETS/Datenset_Group4_2/train/masks/data/screenshot673.png\n",
      "12\n",
      "/home/dan/Desktop/FINAL_DATASETS/Datenset_Group4_2/train/masks/data/screenshot942.png\n",
      "13\n",
      "/home/dan/Desktop/FINAL_DATASETS/Datenset_Group4_2/train/masks/data/screenshot1188.png\n",
      "14\n",
      "/home/dan/Desktop/FINAL_DATASETS/Datenset_Group4_2/train/masks/data/screenshot1175.png\n",
      "15\n",
      "/home/dan/Desktop/FINAL_DATASETS/Datenset_Group4_2/train/masks/data/screenshot684.png\n",
      "16\n",
      "/home/dan/Desktop/FINAL_DATASETS/Datenset_Group4_2/train/masks/data/screenshot730.png\n",
      "17\n",
      "/home/dan/Desktop/FINAL_DATASETS/Datenset_Group4_2/train/masks/data/screenshot746.png\n",
      "18\n",
      "/home/dan/Desktop/FINAL_DATASETS/Datenset_Group4_2/train/masks/data/screenshot84.png\n"
     ]
    }
   ],
   "source": [
    "# save the images  \n",
    "import scipy.misc as sc\n",
    "\n",
    "def iterate(path, size):\n",
    "    paths = glob(path)\n",
    "    i = 0\n",
    "    for p in paths:\n",
    "        \n",
    "        print(i)       \n",
    "        tmp = p.replace(\"/home/dan/Desktop/views/images/data/\", InputMask)\n",
    "        print(tmp)\n",
    "        \n",
    "        mask = io.imread(tmp, (224,224,1))\n",
    "        \n",
    "        result = postProcessImage(pred[i][:,:,0])\n",
    "        gt = postProcessImage(mask)\n",
    "        diff = compareMasks(result, gt)\n",
    "        \n",
    "        imagePath = OutputDir + '/img/' + str(i) + '.png'\n",
    "        maskPath =  OutputDir + '/pred/' + str(i) + '_pred.png'\n",
    "        gtPath   =  OutputDir + '/gt/' + str(i) + '_gt.png'\n",
    "        diffPath =  OutputDir + '/diff/' + str(i) + '_diff.png' \n",
    "        \n",
    "        sc.imsave(imagePath, x[i, ... ,0])\n",
    "        sc.imsave(gtPath, gt)\n",
    "        sc.imsave(maskPath, result)\n",
    "        sc.imsave(diffPath, diff)\n",
    "        \n",
    "        i += 1\n",
    "           \n",
    "\n",
    "    \n",
    "       \n",
    "                             \n",
    "iterate(InputDir, (224,224,1))\n",
    "\n",
    "\n",
    "    "
   ]
  },
  {
   "cell_type": "code",
   "execution_count": 439,
   "metadata": {},
   "outputs": [
    {
     "ename": "IndexError",
     "evalue": "index 90 is out of bounds for axis 0 with size 19",
     "output_type": "error",
     "traceback": [
      "\u001b[0;31m---------------------------------------------------------------------------\u001b[0m",
      "\u001b[0;31mIndexError\u001b[0m                                Traceback (most recent call last)",
      "\u001b[0;32m<ipython-input-439-4098f35cb975>\u001b[0m in \u001b[0;36m<module>\u001b[0;34m()\u001b[0m\n\u001b[1;32m     23\u001b[0m     \u001b[0;32mreturn\u001b[0m \u001b[0mimg\u001b[0m\u001b[0;34m\u001b[0m\u001b[0m\n\u001b[1;32m     24\u001b[0m \u001b[0;34m\u001b[0m\u001b[0m\n\u001b[0;32m---> 25\u001b[0;31m \u001b[0mresult\u001b[0m \u001b[0;34m=\u001b[0m \u001b[0mpostProcessImage\u001b[0m\u001b[0;34m(\u001b[0m\u001b[0mpred\u001b[0m\u001b[0;34m[\u001b[0m\u001b[0mi\u001b[0m\u001b[0;34m]\u001b[0m\u001b[0;34m[\u001b[0m\u001b[0;34m:\u001b[0m\u001b[0;34m,\u001b[0m\u001b[0;34m:\u001b[0m\u001b[0;34m,\u001b[0m\u001b[0;36m0\u001b[0m\u001b[0;34m]\u001b[0m\u001b[0;34m)\u001b[0m\u001b[0;34m\u001b[0m\u001b[0m\n\u001b[0m\u001b[1;32m     26\u001b[0m \u001b[0mgt\u001b[0m \u001b[0;34m=\u001b[0m \u001b[0mpostProcessImage\u001b[0m\u001b[0;34m(\u001b[0m\u001b[0my\u001b[0m\u001b[0;34m[\u001b[0m\u001b[0mi\u001b[0m\u001b[0;34m]\u001b[0m\u001b[0;34m[\u001b[0m\u001b[0;34m:\u001b[0m\u001b[0;34m,\u001b[0m\u001b[0;34m:\u001b[0m\u001b[0;34m,\u001b[0m\u001b[0;36m0\u001b[0m\u001b[0;34m]\u001b[0m\u001b[0;34m)\u001b[0m\u001b[0;34m\u001b[0m\u001b[0m\n\u001b[1;32m     27\u001b[0m \u001b[0mdiff\u001b[0m \u001b[0;34m=\u001b[0m \u001b[0mcompareMasks\u001b[0m\u001b[0;34m(\u001b[0m\u001b[0mresult\u001b[0m\u001b[0;34m,\u001b[0m \u001b[0mgt\u001b[0m\u001b[0;34m)\u001b[0m\u001b[0;34m\u001b[0m\u001b[0m\n",
      "\u001b[0;31mIndexError\u001b[0m: index 90 is out of bounds for axis 0 with size 19"
     ]
    }
   ],
   "source": [
    "from helper import * \n",
    "# Plots the prediction in jupyter notebook for comparison\n",
    "i = 90\n",
    "\n",
    "def compareMasks(prediction, groundTruth):\n",
    "    \n",
    "    diff_img = np.zeros((224,224,3), dtype=np.uint8)\n",
    "\n",
    "    for x in range(prediction.shape[0]):\n",
    "        for y in range(prediction.shape[1]):\n",
    "            if ((prediction[x,y] == groundTruth[x,y]) & groundTruth[x,y].all() != False):\n",
    "                diff_img[x,y] = (255,255,255)\n",
    "            elif (prediction[x,y] > groundTruth[x,y]):\n",
    "                diff_img[x,y] = (255,0,0)\n",
    "            elif (groundTruth[x,y] > prediction[x,y]):\n",
    "                diff_img[x,y] = (0,255,0)\n",
    "\n",
    "    return diff_img\n",
    "\n",
    "def postProcessImage(img):\n",
    "    img[img > 0.4] = 255\n",
    "    img[img <= 0.4] = 0\n",
    "    return img\n",
    "    \n",
    "result = postProcessImage(pred[i][:,:,0])\n",
    "gt = postProcessImage(y[i][:,:,0])\n",
    "diff = compareMasks(result, gt)\n",
    "\n",
    "# Input Picture\n",
    "plt.imshow(x[i, ..., 0], cmap='gray')\n",
    "plt.axis('off')\n",
    "plt.title('Eingabebild')\n",
    "plt.show()\n",
    "\n",
    "# Ground Truth\n",
    "plt.imshow(gt, cmap = 'gray')\n",
    "plt.title('Grundwahrheit')\n",
    "plt.axis('off')\n",
    "plt.show()\n",
    "\n",
    "# Prediction Dim 0\n",
    "plt.imshow(result, cmap = 'gray')\n",
    "plt.title('Vorhersage')\n",
    "plt.axis('off')\n",
    "plt.show()\n",
    "\n",
    "# Prediction Dim 1\n",
    "\n",
    "plt.imshow(diff)\n",
    "plt.title('Differenz')\n",
    "plt.axis('off')\n",
    "plt.show()"
   ]
  },
  {
   "cell_type": "markdown",
   "metadata": {},
   "source": [
    "OutputDir = '/home/dan/Desktop/Datenset_Block3/test/output'\n",
    "    \n",
    "imagePath = OutputDir + '/img/' + str(i) + '.png'\n",
    "maskPath =  OutputDir + '/pred/' + str(i) + '_pred.png'\n",
    "gtPath =    OutputDir + '/gt/' + str(i) + '_gt.png'\n",
    "diffPath =  OutputDir + '/diff/' + str(i) + '_diff.png'\n",
    "    \n",
    "    \n",
    "sc.imsave(imagePath, x[i, ... ,0])\n",
    "sc.imsave(gtPath, gt)\n",
    "sc.imsave(maskPath, result)\n",
    "sc.imsave(diffPath, diff)"
   ]
  },
  {
   "cell_type": "code",
   "execution_count": null,
   "metadata": {},
   "outputs": [],
   "source": [
    "'''\n",
    "for i in range(0, len(x)):    \n",
    "    \n",
    "    number = ('0'+ str(i)) if (i < 10) else str(i)\n",
    "    \n",
    "    result = postProcessImage(pred[i][:,:,0])\n",
    "    gt     = postProcessImage(y[i][:,:,0])\n",
    "    diff   = compareMasks(result, gt)\n",
    "    \n",
    "    imagePath = OutputDir + '/img/' + number + '.png'\n",
    "    maskPath =  OutputDir + '/pred/' + number + '_pred.png'\n",
    "    gtPath =    OutputDir + '/gt/' + number + '_gt.png'\n",
    "    diffPath =  OutputDir + '/diff/' + number + '_diff.png'\n",
    "    \n",
    "    \n",
    "    sc.imsave(imagePath, x[i, ... ,0])\n",
    "    sc.imsave(gtPath, gt)\n",
    "    sc.imsave(maskPath, result)\n",
    "    sc.imsave(diffPath, gt)\n",
    "    \n",
    "    if (i % 200 == 0):\n",
    "        print (i)\n",
    "'''"
   ]
  },
  {
   "cell_type": "code",
   "execution_count": null,
   "metadata": {},
   "outputs": [],
   "source": [
    "import loss_metrics \n",
    "\n",
    "print('DSC:       ' + str(f1_np(y, pred)))\n",
    "print('IoU:       ' + str(iou_np(y, pred)))\n",
    "print('Precision: ' + str(precision_np(y, pred)))\n",
    "print('Recall:    ' + str(recall_np(y, pred)))\n",
    "print('Error:     ' + str(error_np(y, pred)))"
   ]
  },
  {
   "cell_type": "code",
   "execution_count": null,
   "metadata": {},
   "outputs": [],
   "source": [
    "# list all data in history\n",
    "\n",
    "print(model.history.keys())\n",
    "# summarize history for accuracy\n",
    "plt.plot(hist.history['acc'])\n",
    "plt.plot(hist.history['val_acc'])\n",
    "plt.title('model accuracy')                      # Benennung des Grafen\n",
    "plt.ylabel('accuracy')                           # Benennung der y-Achse\n",
    "plt.xlabel('epoch')                              # Benennung der x-Achse\n",
    "plt.legend(['train', 'test'], loc='upper left')  # Legende\n",
    "plt.show()\n",
    "\n",
    "# summarize history for loss\n",
    "plt.plot(hist.history['loss'])\n",
    "plt.plot(hist.history['val_loss'])\n",
    "plt.title('model loss')                          # Benennung des Grafen\n",
    "plt.ylabel('loss')                               # Benennung der y-Achse\n",
    "plt.xlabel('epoch')                              # Benennung der x-Achse\n",
    "plt.legend(['train', 'test'], loc='upper left')\n",
    "plt.show()"
   ]
  },
  {
   "cell_type": "code",
   "execution_count": null,
   "metadata": {},
   "outputs": [],
   "source": [
    "print(pred.shape)"
   ]
  },
  {
   "cell_type": "code",
   "execution_count": null,
   "metadata": {},
   "outputs": [],
   "source": [
    "from keras.models import Model\n",
    "layer_outputs = [layer.output for layer in model.layers]\n",
    "activation_model = Model(input=model.input, output=layer_outputs)\n",
    "activations = activation_model.predict(test_image,1)\n",
    "\n",
    "print(test_image.shape)\n",
    "\n",
    "def display_activation(activations, col_size, row_size, act_index): \n",
    "    \n",
    "    activation = activations[act_index]\n",
    "    activation_index=0\n",
    "    fig, ax = plt.subplots(row_size, col_size, figsize=(row_size*2.5,col_size*1.5))\n",
    "    \n",
    "    for row in range(0,row_size): \n",
    "        for col in range(0,col_size):\n",
    "            ax[row][col].imshow(activation[:, :, activation_index], cmap='gray')\n",
    "            activation_index += 1\n",
    "            \n",
    "#display_activation(pred, 6, 5, 0)"
   ]
  },
  {
   "cell_type": "code",
   "execution_count": null,
   "metadata": {},
   "outputs": [],
   "source": []
  }
 ],
 "metadata": {
  "kernelspec": {
   "display_name": "TensorFlow-GPU",
   "language": "python",
   "name": "tf-gpu"
  },
  "language_info": {
   "codemirror_mode": {
    "name": "ipython",
    "version": 3
   },
   "file_extension": ".py",
   "mimetype": "text/x-python",
   "name": "python",
   "nbconvert_exporter": "python",
   "pygments_lexer": "ipython3",
   "version": "3.6.6"
  }
 },
 "nbformat": 4,
 "nbformat_minor": 2
}
