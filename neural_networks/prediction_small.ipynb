{
 "cells": [
  {
   "cell_type": "code",
   "execution_count": null,
   "metadata": {},
   "outputs": [],
   "source": [
    "from keras.models import load_model\n",
    "from keras.preprocessing import image\n",
    "import numpy as np\n",
    "import keras.backend as K\n",
    "import skimage.io as io\n",
    "import skimage.transform as tr\n",
    "import matplotlib.pyplot as plt\n",
    "from glob import glob\n",
    "from keras.optimizers import *\n",
    "\n",
    "import loss_metrics\n",
    "import helper\n",
    "\n",
    "%matplotlib inline"
   ]
  },
  {
   "cell_type": "code",
   "execution_count": null,
   "metadata": {},
   "outputs": [],
   "source": [
    "# load the model\n",
    "model = load_model('/home/dan/Desktop/model_combined_3.h5', custom_objects={'f1_loss': f1_loss})"
   ]
  },
  {
   "cell_type": "code",
   "execution_count": null,
   "metadata": {},
   "outputs": [],
   "source": [
    "# read the test-input-data\n",
    "x = read_imgs('/home/dan/Desktop/Datenset_TowerBuilding/test/images/data/*.png', (224,224,1))\n",
    "\n",
    "# read the test-groundtruth-data\n",
    "y = read_imgs('/home/dan/Desktop/Datenset_TowerBuilding/test/masks/data/*.png', (224,224,1))"
   ]
  },
  {
   "cell_type": "code",
   "execution_count": null,
   "metadata": {},
   "outputs": [],
   "source": [
    "# do the prediction\n",
    "pred = model.predict(x, verbose=1)"
   ]
  },
  {
   "cell_type": "code",
   "execution_count": null,
   "metadata": {},
   "outputs": [],
   "source": [
    "# Plots the prediction in jupyter notebook for comparison\n",
    "i = 445\n",
    "\n",
    "# Input Picture\n",
    "plt.imshow(x[i, ..., 0], cmap='gray')\n",
    "plt.show()\n",
    "\n",
    "# Ground Truth\n",
    "plt.imshow(y[i][:,:,0], cmap = 'gray')\n",
    "plt.show()\n",
    "\n",
    "# Prediction Dim 0\n",
    "plt.imshow(pred[i][:,:,0], cmap = 'gray')\n",
    "plt.show()\n",
    "\n",
    "# Prediction Dim 1\n",
    "plt.imshow(pred[i][:,:,1], cmap = 'gray')\n",
    "plt.show()\n",
    "\n",
    "# Prediction Dim 2\n",
    "plt.imshow(pred[i][:,:,2], cmap = 'gray')\n",
    "plt.show()\n"
   ]
  },
  {
   "cell_type": "code",
   "execution_count": null,
   "metadata": {},
   "outputs": [],
   "source": [
    "import loss_metrics \n",
    "\n",
    "print('DSC:       ' + str(f1_np(y, pred)))\n",
    "print('IoU:       ' + str(iou_np(y, pred)))\n",
    "print('Precision: ' + str(precision_np(y, pred)))\n",
    "print('Recall:    ' + str(recall_np(y, pred)))\n",
    "print('Error:     ' + str(error_np(y, pred)))"
   ]
  },
  {
   "cell_type": "code",
   "execution_count": null,
   "metadata": {},
   "outputs": [],
   "source": [
    "# list all data in history\n",
    "\n",
    "print(hist.history.keys())\n",
    "# summarize history for accuracy\n",
    "plt.plot(hist.history['acc'])\n",
    "plt.plot(hist.history['val_acc'])\n",
    "plt.title('model accuracy')                      # Benennung des Grafen\n",
    "plt.ylabel('accuracy')                           # Benennung der y-Achse\n",
    "plt.xlabel('epoch')                              # Benennung der x-Achse\n",
    "plt.legend(['train', 'test'], loc='upper left')  # Legende\n",
    "plt.show()\n",
    "\n",
    "# summarize history for loss\n",
    "plt.plot(hist.history['loss'])\n",
    "plt.plot(hist.history['val_loss'])\n",
    "plt.title('model loss')                          # Benennung des Grafen\n",
    "plt.ylabel('loss')                               # Benennung der y-Achse\n",
    "plt.xlabel('epoch')                              # Benennung der x-Achse\n",
    "plt.legend(['train', 'test'], loc='upper left')\n",
    "plt.show()"
   ]
  },
  {
   "cell_type": "code",
   "execution_count": null,
   "metadata": {},
   "outputs": [],
   "source": [
    "# save the images  \n",
    "import scipy.misc as sc\n",
    "\n",
    "OutputDir = '/home/dan/Desktop/Datenset_TowerBuilding/test/output'\n",
    "\n",
    "for i in range(0, len(x)):    \n",
    "    number = ('0'+ str(i)) if (i < 10) else str(i)\n",
    "    imagePath = OutputDir + '/pred_' + number + '.png'\n",
    "    maskPath = OutputDir + '/pred_' + number + '_mask.png'\n",
    "    sc.imsave(imagePath, x[i, ... ,0])\n",
    "    sc.imsave(maskPath, pred[i, ... ,0])"
   ]
  }
 ],
 "metadata": {
  "kernelspec": {
   "display_name": "TensorFlow-GPU",
   "language": "python",
   "name": "tf-gpu"
  },
  "language_info": {
   "codemirror_mode": {
    "name": "ipython",
    "version": 3
   },
   "file_extension": ".py",
   "mimetype": "text/x-python",
   "name": "python",
   "nbconvert_exporter": "python",
   "pygments_lexer": "ipython3",
   "version": "3.6.6"
  }
 },
 "nbformat": 4,
 "nbformat_minor": 2
}
