{
 "cells": [
  {
   "cell_type": "markdown",
   "metadata": {},
   "source": [
    "# Prediction of a trained model\n",
    "by DevNesh"
   ]
  },
  {
   "cell_type": "code",
   "execution_count": null,
   "metadata": {},
   "outputs": [],
   "source": [
    "from keras.models import load_model\n",
    "from keras.preprocessing import image\n",
    "import numpy as np\n",
    "import keras.backend as K\n",
    "import skimage.io as io\n",
    "import skimage.transform as tr\n",
    "import matplotlib.pyplot as plt\n",
    "import scipy.misc as sc\n",
    "from glob import glob\n",
    "from keras.optimizers import *\n",
    "\n",
    "from loss_metrics import *\n",
    "from helper import * \n",
    "\n",
    "%matplotlib inline"
   ]
  },
  {
   "cell_type": "code",
   "execution_count": null,
   "metadata": {},
   "outputs": [],
   "source": [
    "# setting necessary values\n",
    "dsPath = '/home/dan/Desktop/Datenset_Tower (Augmented)'\n",
    "OutputDir = dsPath + '/results/output'"
   ]
  },
  {
   "cell_type": "markdown",
   "metadata": {},
   "source": [
    "## Load Model"
   ]
  },
  {
   "cell_type": "code",
   "execution_count": null,
   "metadata": {},
   "outputs": [],
   "source": [
    "# load the model\n",
    "model = load_model(dsPath + '/results/training_01_best.h5', custom_objects={'iou_loss': iou_loss, 'f1': f1, 'iou':iou, 'precision' :precision, 'recall' : recall, 'error' : error})"
   ]
  },
  {
   "cell_type": "markdown",
   "metadata": {},
   "source": [
    "## Load Testdata"
   ]
  },
  {
   "cell_type": "code",
   "execution_count": null,
   "metadata": {},
   "outputs": [],
   "source": [
    "# load the testdata \n",
    "x = None\n",
    "x = read_imgs( dsPath + '/test/images/data/*.png', (224,224,1))\n",
    "y = None\n",
    "y = read_imgs( dsPath + '/test/masks/data/*.png', (224,224,1))"
   ]
  },
  {
   "cell_type": "markdown",
   "metadata": {},
   "source": [
    "## Predict Testdata"
   ]
  },
  {
   "cell_type": "code",
   "execution_count": null,
   "metadata": {},
   "outputs": [],
   "source": [
    "pred = model.predict(x, verbose=1)"
   ]
  },
  {
   "cell_type": "markdown",
   "metadata": {},
   "source": [
    "## Numeric Results"
   ]
  },
  {
   "cell_type": "code",
   "execution_count": null,
   "metadata": {},
   "outputs": [],
   "source": [
    "print('DSC:       ' + str(f1_np(y, pred)))\n",
    "print('IoU:       ' + str(iou_np(y, pred)))\n",
    "print('Precision: ' + str(precision_np(y, pred)))\n",
    "print('Recall:    ' + str(recall_np(y, pred)))\n",
    "print('Error:     ' + str(error_np(y, pred)))"
   ]
  },
  {
   "cell_type": "markdown",
   "metadata": {},
   "source": [
    "## Visual Results"
   ]
  },
  {
   "cell_type": "code",
   "execution_count": null,
   "metadata": {},
   "outputs": [],
   "source": [
    "from helper import * \n",
    "# Plots the prediction in jupyter notebook for comparison\n",
    "i = 90\n",
    "\n",
    "result = postProcessMask(pred[i][:,:,0])\n",
    "gt     = postProcessMask(y[i][:,:,0])\n",
    "diff   = compareMasks(result, gt)\n",
    "\n",
    "# Input\n",
    "plt.imshow(x[i, ..., 0], cmap='gray')\n",
    "plt.axis('off')\n",
    "plt.title('Eingabebild')\n",
    "plt.show()\n",
    "\n",
    "# Ground Truth\n",
    "plt.imshow(gt, cmap = 'gray')\n",
    "plt.title('Grundwahrheit')\n",
    "plt.axis('off')\n",
    "plt.show()\n",
    "\n",
    "# Prediction\n",
    "plt.imshow(result, cmap = 'gray')\n",
    "plt.title('Vorhersage')\n",
    "plt.axis('off')\n",
    "plt.show()\n",
    "\n",
    "# Difference \n",
    "plt.imshow(diff)\n",
    "plt.title('Differenz')\n",
    "plt.axis('off')\n",
    "plt.show()"
   ]
  },
  {
   "cell_type": "markdown",
   "metadata": {},
   "source": [
    "## Saving Data"
   ]
  },
  {
   "cell_type": "code",
   "execution_count": null,
   "metadata": {},
   "outputs": [],
   "source": [
    "def savePredictions(x, y, pred):\n",
    "    \n",
    "    i = 0\n",
    "    for i in range(len(x)):\n",
    "                \n",
    "        result = postProcessMask(pred[i][:,:,0])\n",
    "        gt     = postProcessMask(y[i][:,:,0])\n",
    "        diff   = compareMasks(result, gt)\n",
    "        \n",
    "        imagePath = OutputDir + '/img/' + str(i) + '.png'\n",
    "        maskPath =  OutputDir + '/pred/' + str(i) + '_pred.png'\n",
    "        gtPath   =  OutputDir + '/gt/' + str(i) + '_gt.png'\n",
    "        diffPath =  OutputDir + '/diff/' + str(i) + '_diff.png' \n",
    "        \n",
    "        sc.imsave(imagePath, x[i, ... ,0])\n",
    "        sc.imsave(gtPath, gt)\n",
    "        sc.imsave(maskPath, result)\n",
    "        sc.imsave(diffPath, diff)\n",
    "        \n",
    "                             \n",
    "savePredictions(x, y, pred)"
   ]
  }
 ],
 "metadata": {
  "kernelspec": {
   "display_name": "TensorFlow-GPU",
   "language": "python",
   "name": "tf-gpu"
  },
  "language_info": {
   "codemirror_mode": {
    "name": "ipython",
    "version": 3
   },
   "file_extension": ".py",
   "mimetype": "text/x-python",
   "name": "python",
   "nbconvert_exporter": "python",
   "pygments_lexer": "ipython3",
   "version": "3.6.6"
  }
 },
 "nbformat": 4,
 "nbformat_minor": 2
}
