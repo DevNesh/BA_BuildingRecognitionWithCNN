{
 "cells": [
  {
   "cell_type": "code",
   "execution_count": 1,
   "metadata": {},
   "outputs": [
    {
     "name": "stderr",
     "output_type": "stream",
     "text": [
      "Using TensorFlow backend.\n"
     ]
    }
   ],
   "source": [
    "import numpy as np\n",
    "import pandas as pd\n",
    "import matplotlib.pyplot as plt\n",
    "%matplotlib inline\n",
    "import keras.backend as K\n",
    "from keras.models import *\n",
    "from keras.layers import *\n",
    "from keras.optimizers import *\n",
    "from keras.callbacks import *\n",
    "from keras.losses import *\n",
    "import skimage.io as io\n",
    "import skimage.transform as tr\n",
    "import skimage.color\n",
    "import dask.array as da\n",
    "from glob import glob\n",
    "from dask.array.image import imread\n",
    "from keras.preprocessing.image import ImageDataGenerator"
   ]
  },
  {
   "cell_type": "code",
   "execution_count": 127,
   "metadata": {},
   "outputs": [
    {
     "name": "stdout",
     "output_type": "stream",
     "text": [
      "(224, 224, 3)\n"
     ]
    }
   ],
   "source": [
    "import numpy as np\n",
    "\n",
    "arr1 = np.zeros((224,224,1))\n",
    "arr2 = np.zeros((224,224,1))\n",
    "arr3 = np.zeros((224,224,1))\n",
    "\n",
    "arr = np.concatenate([arr1,arr2,arr3], axis=2)\n",
    "\n",
    "print(arr.shape)"
   ]
  },
  {
   "cell_type": "code",
   "execution_count": 30,
   "metadata": {},
   "outputs": [
    {
     "name": "stdout",
     "output_type": "stream",
     "text": [
      "(224, 224, 3)\n",
      "(224, 224, 1)\n"
     ]
    },
    {
     "name": "stderr",
     "output_type": "stream",
     "text": [
      "/home/dan/.conda/envs/tf-gpu/lib/python3.6/site-packages/skimage/transform/_warps.py:105: UserWarning: The default mode, 'constant', will be changed to 'reflect' in skimage 0.15.\n",
      "  warn(\"The default mode, 'constant', will be changed to 'reflect' in \"\n",
      "/home/dan/.conda/envs/tf-gpu/lib/python3.6/site-packages/skimage/transform/_warps.py:110: UserWarning: Anti-aliasing will be enabled by default in skimage 0.15 to avoid aliasing artifacts when down-sampling images.\n",
      "  warn(\"Anti-aliasing will be enabled by default in skimage 0.15 to \"\n",
      "/home/dan/.conda/envs/tf-gpu/lib/python3.6/site-packages/skimage/util/dtype.py:130: UserWarning: Possible precision loss when converting from float64 to uint8\n",
      "  .format(dtypeobj_in, dtypeobj_out))\n"
     ]
    },
    {
     "data": {
      "image/png": "[encoded data removed]",
      "text/plain": [
       "<Figure size 432x288 with 1 Axes>"
      ]
     },
     "metadata": {},
     "output_type": "display_data"
    },
    {
     "data": {
      "image/png": "[encoded data removed]",
      "text/plain": [
       "<Figure size 432x288 with 1 Axes>"
      ]
     },
     "metadata": {},
     "output_type": "display_data"
    },
    {
     "name": "stdout",
     "output_type": "stream",
     "text": [
      "(224, 224, 2)\n"
     ]
    },
    {
     "data": {
      "text/plain": [
       "<function matplotlib.pyplot.show(*args, **kw)>"
      ]
     },
     "execution_count": 30,
     "metadata": {},
     "output_type": "execute_result"
    },
    {
     "data": {
      "image/png": "[encoded data removed]",
      "text/plain": [
       "<Figure size 432x288 with 1 Axes>"
      ]
     },
     "metadata": {},
     "output_type": "display_data"
    }
   ],
   "source": [
    "from skimage import img_as_ubyte\n",
    "\n",
    "def showImage(img, title=None, cmap=None):\n",
    "    \n",
    "    if (title != None):\n",
    "        plt.title(title)\n",
    "    plt.imshow(img[:,:,0], cmap = cmap)\n",
    "    plt.show()    \n",
    "\n",
    "\n",
    "def showImageFromArray(arr, i, title=None, cmap=None):\n",
    "    showImage(arr[i],title,cmap)\n",
    "\n",
    "\n",
    "size = (224,224,1)\n",
    "img = io.imread('/home/dan/Desktop/Datenset_TowerBuilding/test/masks/data/screenshot4.png')\n",
    "img = tr.resize(img, size)\n",
    "img_as_ubyte(img)\n",
    "\n",
    "img2 = io.imread('/home/dan/Desktop/Datenset_TowerBuilding/test/masks/data/screenshot18.png')\n",
    "img2 = tr.resize(img2, size)\n",
    "img3 = io.imread('/home/dan/Desktop/Datenset_TowerBuilding/test/masks/data/screenshot19.png')\n",
    "img3 = tr.resize(img3, size)\n",
    "\n",
    "arr = np.concatenate([img,img2, img3], axis = 2)\n",
    "\n",
    "print (arr.shape)\n",
    "\n",
    "images = np.split(arr,3,axis=2)\n",
    "print(images[2].shape)\n",
    "showImageFromArray(images, 2, 'Test', cmap='gray')\n",
    "showImage(images[2], cmap='gray')\n",
    "\n",
    "teast = tf.keras.utils.to_categorical(images[2],2)\n",
    "print(teast.shape)\n",
    "\n",
    "plt.imshow(teast[:,:,0], cmap='gray')\n",
    "plt.show"
   ]
  },
  {
   "cell_type": "code",
   "execution_count": 116,
   "metadata": {},
   "outputs": [
    {
     "data": {
      "image/png": "[encoded data removed]",
      "text/plain": [
       "<Figure size 432x288 with 1 Axes>"
      ]
     },
     "metadata": {},
     "output_type": "display_data"
    }
   ],
   "source": [
    "result = np.zeros((224,224,3), np.uint8)\n",
    "\n",
    "img = img_as_ubyte(img)\n",
    "twat = np.squeeze(img,axis=2)\n",
    "plt.imshow(twat, cmap = 'gray')\n",
    "plt.show()\n",
    "\n",
    "np.copyto(result[:,:,2],  img[:,:,0])\n",
    "\n",
    "#showImage(img, cmap='gray')\n"
   ]
  },
  {
   "cell_type": "code",
   "execution_count": 146,
   "metadata": {},
   "outputs": [
    {
     "name": "stdout",
     "output_type": "stream",
     "text": [
      "Number Of MaskFolder: 2\n",
      "Found 157 images belonging to 1 classes.\n",
      "Found 18300 images belonging to 1 classes.\n",
      "(32, 224, 224, 1)\n"
     ]
    }
   ],
   "source": [
    "path = '/home/dan/Desktop/combined_masks'\n",
    "\n",
    "if os.path.exists(path):\n",
    "    maskfolders = os.listdir(path)\n",
    "    print('Number Of MaskFolder: ' + str(len(maskfolders)))\n",
    "    index = 0\n",
    "    \n",
    "    generators = []\n",
    "    \n",
    "    while index < len(maskfolders):\n",
    "        maskfolder = os.path.join(path, maskfolders[index])\n",
    "        generators.append(ImageDataGenerator().flow_from_directory(maskfolder,  color_mode ='grayscale', target_size=(224,224), batch_size=32 , class_mode=None, shuffle=False, seed=1))\n",
    "        index += 1\n",
    "else:\n",
    "    print ('The following path does not exists:',path)\n",
    "    \n",
    "print(generators[0][0].shape)"
   ]
  },
  {
   "cell_type": "code",
   "execution_count": null,
   "metadata": {},
   "outputs": [],
   "source": [
    "pred = pred.reshape((3064,224,224,2))\n",
    "print(testPred.shape)"
   ]
  },
  {
   "cell_type": "code",
   "execution_count": null,
   "metadata": {},
   "outputs": [],
   "source": [
    "def showImage(arr, i, title=None):\n",
    "    if (title != None):\n",
    "        plt.title(title)\n",
    "        \n",
    "    plt.imshow(arr[i, ..., 0], cmap = 'gray')\n",
    "    plt.show()\n",
    "    print(arr[i].shape)"
   ]
  },
  {
   "cell_type": "code",
   "execution_count": null,
   "metadata": {},
   "outputs": [],
   "source": [
    "#black = np.zeros((224,224,1))\n",
    "        #black[black[:,:,0] == 0] = 1\n",
    "        #black[(mask1[:,:,0] == 1)|(mask2[:,:,0] == 1)] = 0"
   ]
  }
 ],
 "metadata": {
  "kernelspec": {
   "display_name": "TensorFlow-GPU",
   "language": "python",
   "name": "tf-gpu"
  },
  "language_info": {
   "codemirror_mode": {
    "name": "ipython",
    "version": 3
   },
   "file_extension": ".py",
   "mimetype": "text/x-python",
   "name": "python",
   "nbconvert_exporter": "python",
   "pygments_lexer": "ipython3",
   "version": "3.6.6"
  }
 },
 "nbformat": 4,
 "nbformat_minor": 2
}
