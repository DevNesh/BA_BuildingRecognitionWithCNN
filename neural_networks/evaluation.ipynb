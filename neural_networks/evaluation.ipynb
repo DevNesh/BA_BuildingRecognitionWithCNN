{
 "cells": [
  {
   "cell_type": "code",
   "execution_count": 1,
   "metadata": {},
   "outputs": [
    {
     "name": "stderr",
     "output_type": "stream",
     "text": [
      "Using TensorFlow backend.\n"
     ]
    }
   ],
   "source": [
    "import numpy as np\n",
    "import pandas as pd\n",
    "import matplotlib.pyplot as plt\n",
    "%matplotlib inline\n",
    "import keras.backend as K\n",
    "from keras.models import *\n",
    "from keras.layers import *\n",
    "from keras.optimizers import *\n",
    "from keras.callbacks import *\n",
    "from keras.losses import *\n",
    "from keras.preprocessing.image import ImageDataGenerator\n",
    "import skimage.io as io\n",
    "import skimage.transform as tr\n",
    "import skimage.color\n",
    "from sklearn.metrics import classification_report\n",
    "from glob import glob\n",
    "\n",
    "## Own Scripts\n",
    "from helper import * \n",
    "from loss_metrics import *\n",
    "from unet import *"
   ]
  },
  {
   "cell_type": "code",
   "execution_count": 3,
   "metadata": {},
   "outputs": [],
   "source": [
    "# initialise train data\n",
    "train_size = 18300\n",
    "val_size = 3922\n",
    "test_size = 3922\n",
    "batch_size = 32\n",
    "dsPath = '/home/dan/Desktop/Datenset_Tower (Augmented)'\n",
    "epochs = 40"
   ]
  },
  {
   "cell_type": "code",
   "execution_count": null,
   "metadata": {},
   "outputs": [],
   "source": [
    "# load the model\n",
    "model = load_model('/home/dan/Desktop/FINAL_DATASETS/Datenset_Tower/results/training_05_best.h5', custom_objects={'iou_loss': iou_loss, 'f1': f1, 'iou':iou, 'precision' :precision, 'recall' : recall, 'error' : error})\n",
    "#model.compile(optimizer=Adam(lr=0.0001), loss=iou_loss, metrics=['accuracy'])"
   ]
  },
  {
   "cell_type": "code",
   "execution_count": 12,
   "metadata": {},
   "outputs": [],
   "source": [
    "# evaluate on the test dataset\n",
    "testInputPath = dsPath + '/test/images'\n",
    "testOutputPath = dsPath + '/test/masks'\n",
    "\n",
    "testGen = loadData(testInputPath, testOutputPath, batch_size)"
   ]
  },
  {
   "cell_type": "code",
   "execution_count": 13,
   "metadata": {},
   "outputs": [
    {
     "name": "stdout",
     "output_type": "stream",
     "text": [
      "Found 3922 images belonging to 1 classes.\n",
      "Found 3922 images belonging to 1 classes.\n",
      "(32, 224, 224, 1)\n",
      "(32, 224, 224, 1)\n",
      "123/122 [==============================] - 17s 137ms/step\n"
     ]
    },
    {
     "data": {
      "text/plain": [
       "[-0.6043294269718849,\n",
       " 0.7473918913822281,\n",
       " 0.6043294269718849,\n",
       " 0.7986441654918268,\n",
       " 0.7117126440284569,\n",
       " 0.3099465848747897]"
      ]
     },
     "execution_count": 13,
     "metadata": {},
     "output_type": "execute_result"
    }
   ],
   "source": [
    "model.evaluate_generator(testGen, steps=test_size/batch_size ,verbose=1 )"
   ]
  },
  {
   "cell_type": "code",
   "execution_count": 3,
   "metadata": {},
   "outputs": [
    {
     "name": "stderr",
     "output_type": "stream",
     "text": [
      "/home/dan/.conda/envs/tf-gpu/lib/python3.6/site-packages/skimage/transform/_warps.py:105: UserWarning: The default mode, 'constant', will be changed to 'reflect' in skimage 0.15.\n",
      "  warn(\"The default mode, 'constant', will be changed to 'reflect' in \"\n",
      "/home/dan/.conda/envs/tf-gpu/lib/python3.6/site-packages/skimage/transform/_warps.py:110: UserWarning: Anti-aliasing will be enabled by default in skimage 0.15 to avoid aliasing artifacts when down-sampling images.\n",
      "  warn(\"Anti-aliasing will be enabled by default in skimage 0.15 to \"\n",
      "/home/dan/.conda/envs/tf-gpu/lib/python3.6/site-packages/skimage/util/dtype.py:130: UserWarning: Possible precision loss when converting from float64 to uint8\n",
      "  .format(dtypeobj_in, dtypeobj_out))\n"
     ]
    },
    {
     "name": "stdout",
     "output_type": "stream",
     "text": [
      "200\n",
      "400\n",
      "600\n",
      "800\n",
      "1000\n",
      "1200\n",
      "1400\n",
      "1600\n",
      "1800\n",
      "2000\n",
      "2200\n",
      "2400\n",
      "2600\n",
      "2800\n",
      "3000\n",
      "3200\n",
      "3400\n",
      "3600\n",
      "3800\n",
      "200\n",
      "400\n",
      "600\n",
      "800\n",
      "1000\n",
      "1200\n",
      "1400\n",
      "1600\n",
      "1800\n",
      "2000\n",
      "2200\n",
      "2400\n",
      "2600\n",
      "2800\n",
      "3000\n",
      "3200\n",
      "3400\n",
      "3600\n",
      "3800\n"
     ]
    }
   ],
   "source": [
    "x = None\n",
    "x = read_imgs('/home/dan/Desktop/Datenset_Tower/test/images/data/*.png', (224,224,1))\n",
    "y = None\n",
    "y = read_imgs('/home/dan/Desktop/Datenset_Tower/test/masks/data/*.png', (224,224,1))"
   ]
  },
  {
   "cell_type": "code",
   "execution_count": 4,
   "metadata": {},
   "outputs": [
    {
     "name": "stdout",
     "output_type": "stream",
     "text": [
      "3922/3922 [==============================] - 18s 5ms/step\n"
     ]
    }
   ],
   "source": [
    "pred = model.predict(x, verbose=1)"
   ]
  },
  {
   "cell_type": "code",
   "execution_count": 23,
   "metadata": {},
   "outputs": [
    {
     "data": {
      "image/png": "[encoded data removed]",
      "text/plain": [
       "<Figure size 432x288 with 1 Axes>"
      ]
     },
     "metadata": {},
     "output_type": "display_data"
    },
    {
     "data": {
      "image/png": "[encoded data removed]",
      "text/plain": [
       "<Figure size 432x288 with 1 Axes>"
      ]
     },
     "metadata": {},
     "output_type": "display_data"
    },
    {
     "data": {
      "image/png": "[encoded data removed]",
      "text/plain": [
       "<Figure size 432x288 with 1 Axes>"
      ]
     },
     "metadata": {},
     "output_type": "display_data"
    },
    {
     "ename": "IndexError",
     "evalue": "index 1 is out of bounds for axis 2 with size 1",
     "output_type": "error",
     "traceback": [
      "\u001b[0;31m---------------------------------------------------------------------------\u001b[0m",
      "\u001b[0;31mIndexError\u001b[0m                                Traceback (most recent call last)",
      "\u001b[0;32m<ipython-input-23-a329bb20f8f1>\u001b[0m in \u001b[0;36m<module>\u001b[0;34m()\u001b[0m\n\u001b[1;32m     22\u001b[0m \u001b[0;34m\u001b[0m\u001b[0m\n\u001b[1;32m     23\u001b[0m \u001b[0;31m# Prediction Dim 1\u001b[0m\u001b[0;34m\u001b[0m\u001b[0;34m\u001b[0m\u001b[0m\n\u001b[0;32m---> 24\u001b[0;31m \u001b[0mplt\u001b[0m\u001b[0;34m.\u001b[0m\u001b[0mimshow\u001b[0m\u001b[0;34m(\u001b[0m\u001b[0mpred\u001b[0m\u001b[0;34m[\u001b[0m\u001b[0mi\u001b[0m\u001b[0;34m]\u001b[0m\u001b[0;34m[\u001b[0m\u001b[0;34m:\u001b[0m\u001b[0;34m,\u001b[0m\u001b[0;34m:\u001b[0m\u001b[0;34m,\u001b[0m\u001b[0;36m1\u001b[0m\u001b[0;34m]\u001b[0m\u001b[0;34m,\u001b[0m \u001b[0mcmap\u001b[0m \u001b[0;34m=\u001b[0m \u001b[0;34m'gray'\u001b[0m\u001b[0;34m)\u001b[0m\u001b[0;34m\u001b[0m\u001b[0m\n\u001b[0m\u001b[1;32m     25\u001b[0m \u001b[0mplt\u001b[0m\u001b[0;34m.\u001b[0m\u001b[0mshow\u001b[0m\u001b[0;34m(\u001b[0m\u001b[0;34m)\u001b[0m\u001b[0;34m\u001b[0m\u001b[0m\n\u001b[1;32m     26\u001b[0m \u001b[0;34m\u001b[0m\u001b[0m\n",
      "\u001b[0;31mIndexError\u001b[0m: index 1 is out of bounds for axis 2 with size 1"
     ]
    }
   ],
   "source": [
    "import scipy.misc\n",
    "# Plots the prediction in jupyter notebook for comparison\n",
    "i = 150\n",
    "\n",
    "# Input Picture\n",
    "plt.imshow(x[i, ..., 0], cmap='gray')\n",
    "plt.show()\n",
    "\n",
    "# Prediction as RGB\n",
    "#plt.imshow(pred[i])\n",
    "#plt.show()\n",
    "\n",
    "# Ground Truth\n",
    "plt.imshow(y[i][:,:,0], cmap = 'gray')\n",
    "plt.axis('off')\n",
    "plt.show()\n",
    "\n",
    "# Prediction Dim 0\n",
    "plt.imshow(pred[i][:,:,0], cmap = 'gray')\n",
    "plt.axis('off')\n",
    "plt.show()\n",
    "\n",
    "# Prediction Dim 1\n",
    "plt.imshow(pred[i][:,:,1], cmap = 'gray')\n",
    "plt.show()\n",
    "\n",
    "# Prediction Dim 2\n",
    "plt.imshow(pred[i][:,:,2], cmap = 'gray')\n",
    "plt.show()\n",
    "\n"
   ]
  },
  {
   "cell_type": "code",
   "execution_count": 17,
   "metadata": {},
   "outputs": [
    {
     "name": "stdout",
     "output_type": "stream",
     "text": [
      "3922/3922 [==============================] - 16s 4ms/step\n"
     ]
    },
    {
     "data": {
      "text/plain": [
       "[-0.4189567444337867, 0.9915314723738963]"
      ]
     },
     "execution_count": 17,
     "metadata": {},
     "output_type": "execute_result"
    }
   ],
   "source": [
    "model.evaluate(x ,y ,batch_size = 32,verbose=1)"
   ]
  },
  {
   "cell_type": "code",
   "execution_count": 14,
   "metadata": {},
   "outputs": [
    {
     "name": "stdout",
     "output_type": "stream",
     "text": [
      "DSC:       0.5907045531098558\n",
      "IoU:       0.41914894983936873\n",
      "Precision: 0.6400522310434714\n",
      "Recall:    0.5484217370854018\n",
      "Error:     0.007871819726275134\n"
     ]
    }
   ],
   "source": [
    "print('DSC:       ' + str(f1_np(y, pred)))\n",
    "print('IoU:       ' + str(iou_np(y, pred)))\n",
    "print('Precision: ' + str(precision_np(y, pred)))\n",
    "print('Recall:    ' + str(recall_np(y, pred)))\n",
    "print('Error:     ' + str(error_np(y, pred)))"
   ]
  },
  {
   "cell_type": "code",
   "execution_count": null,
   "metadata": {},
   "outputs": [],
   "source": []
  }
 ],
 "metadata": {
  "kernelspec": {
   "display_name": "TensorFlow-GPU",
   "language": "python",
   "name": "tf-gpu"
  },
  "language_info": {
   "codemirror_mode": {
    "name": "ipython",
    "version": 3
   },
   "file_extension": ".py",
   "mimetype": "text/x-python",
   "name": "python",
   "nbconvert_exporter": "python",
   "pygments_lexer": "ipython3",
   "version": "3.6.6"
  }
 },
 "nbformat": 4,
 "nbformat_minor": 2
}
