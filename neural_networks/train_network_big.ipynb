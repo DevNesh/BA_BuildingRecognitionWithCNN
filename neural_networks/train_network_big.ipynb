{
 "cells": [
  {
   "cell_type": "code",
   "execution_count": 2,
   "metadata": {},
   "outputs": [],
   "source": [
    "import numpy as np\n",
    "import pandas as pd\n",
    "import matplotlib.pyplot as plt\n",
    "%matplotlib inline\n",
    "import keras.backend as K\n",
    "from keras.models import *\n",
    "from keras.layers import *\n",
    "from keras.optimizers import *\n",
    "from keras.callbacks import *\n",
    "from keras.losses import *\n",
    "from keras.preprocessing.image import ImageDataGenerator\n",
    "import skimage.io as io\n",
    "import skimage.transform as tr\n",
    "import skimage.color\n",
    "from sklearn.metrics import classification_report\n",
    "from glob import glob\n",
    "\n",
    "## Own Scripts\n",
    "from helper import * \n",
    "from loss_metrics import *\n",
    "from unet import *\n"
   ]
  },
  {
   "cell_type": "code",
   "execution_count": 25,
   "metadata": {},
   "outputs": [],
   "source": [
    "# initialise train data\n",
    "train_size = 18300\n",
    "val_size = 3922\n",
    "test_size = 3922\n",
    "batch_size = 32\n",
    "dsPath = '/home/dan/Desktop/Datenset_Block3'\n",
    "epochs = 40"
   ]
  },
  {
   "cell_type": "code",
   "execution_count": 26,
   "metadata": {},
   "outputs": [],
   "source": [
    "# create generators for training \n",
    "\n",
    "trainInputPath = dsPath + '/train/images'\n",
    "trainOutputPath = dsPath + '/train/masks'\n",
    "\n",
    "valInputPath = dsPath + '/validate/images'\n",
    "valOutputPath = dsPath + '/validate/masks'\n",
    "\n",
    "trainGen = loadData(trainInputPath, trainOutputPath, batch_size)\n",
    "valGen   = loadData(valInputPath, valOutputPath, batch_size)"
   ]
  },
  {
   "cell_type": "code",
   "execution_count": 27,
   "metadata": {},
   "outputs": [
    {
     "name": "stdout",
     "output_type": "stream",
     "text": [
      "__________________________________________________________________________________________________\n",
      "Layer (type)                    Output Shape         Param #     Connected to                     \n",
      "==================================================================================================\n",
      "input_6 (InputLayer)            (None, 224, 224, 1)  0                                            \n",
      "__________________________________________________________________________________________________\n",
      "conv2d_121 (Conv2D)             (None, 224, 224, 16) 160         input_6[0][0]                    \n",
      "__________________________________________________________________________________________________\n",
      "batch_normalization_95 (BatchNo (None, 224, 224, 16) 64          conv2d_121[0][0]                 \n",
      "__________________________________________________________________________________________________\n",
      "conv2d_122 (Conv2D)             (None, 224, 224, 16) 2320        batch_normalization_95[0][0]     \n",
      "__________________________________________________________________________________________________\n",
      "batch_normalization_96 (BatchNo (None, 224, 224, 16) 64          conv2d_122[0][0]                 \n",
      "__________________________________________________________________________________________________\n",
      "max_pooling2d_22 (MaxPooling2D) (None, 112, 112, 16) 0           batch_normalization_96[0][0]     \n",
      "__________________________________________________________________________________________________\n",
      "conv2d_123 (Conv2D)             (None, 112, 112, 32) 4640        max_pooling2d_22[0][0]           \n",
      "__________________________________________________________________________________________________\n",
      "batch_normalization_97 (BatchNo (None, 112, 112, 32) 128         conv2d_123[0][0]                 \n",
      "__________________________________________________________________________________________________\n",
      "conv2d_124 (Conv2D)             (None, 112, 112, 32) 9248        batch_normalization_97[0][0]     \n",
      "__________________________________________________________________________________________________\n",
      "batch_normalization_98 (BatchNo (None, 112, 112, 32) 128         conv2d_124[0][0]                 \n",
      "__________________________________________________________________________________________________\n",
      "max_pooling2d_23 (MaxPooling2D) (None, 56, 56, 32)   0           batch_normalization_98[0][0]     \n",
      "__________________________________________________________________________________________________\n",
      "conv2d_125 (Conv2D)             (None, 56, 56, 64)   18496       max_pooling2d_23[0][0]           \n",
      "__________________________________________________________________________________________________\n",
      "batch_normalization_99 (BatchNo (None, 56, 56, 64)   256         conv2d_125[0][0]                 \n",
      "__________________________________________________________________________________________________\n",
      "conv2d_126 (Conv2D)             (None, 56, 56, 64)   36928       batch_normalization_99[0][0]     \n",
      "__________________________________________________________________________________________________\n",
      "batch_normalization_100 (BatchN (None, 56, 56, 64)   256         conv2d_126[0][0]                 \n",
      "__________________________________________________________________________________________________\n",
      "max_pooling2d_24 (MaxPooling2D) (None, 28, 28, 64)   0           batch_normalization_100[0][0]    \n",
      "__________________________________________________________________________________________________\n",
      "conv2d_127 (Conv2D)             (None, 28, 28, 128)  73856       max_pooling2d_24[0][0]           \n",
      "__________________________________________________________________________________________________\n",
      "batch_normalization_101 (BatchN (None, 28, 28, 128)  512         conv2d_127[0][0]                 \n",
      "__________________________________________________________________________________________________\n",
      "conv2d_128 (Conv2D)             (None, 28, 28, 128)  147584      batch_normalization_101[0][0]    \n",
      "__________________________________________________________________________________________________\n",
      "batch_normalization_102 (BatchN (None, 28, 28, 128)  512         conv2d_128[0][0]                 \n",
      "__________________________________________________________________________________________________\n",
      "max_pooling2d_25 (MaxPooling2D) (None, 14, 14, 128)  0           batch_normalization_102[0][0]    \n",
      "__________________________________________________________________________________________________\n",
      "conv2d_129 (Conv2D)             (None, 14, 14, 256)  295168      max_pooling2d_25[0][0]           \n",
      "__________________________________________________________________________________________________\n",
      "batch_normalization_103 (BatchN (None, 14, 14, 256)  1024        conv2d_129[0][0]                 \n",
      "__________________________________________________________________________________________________\n",
      "conv2d_130 (Conv2D)             (None, 14, 14, 256)  590080      batch_normalization_103[0][0]    \n",
      "__________________________________________________________________________________________________\n",
      "batch_normalization_104 (BatchN (None, 14, 14, 256)  1024        conv2d_130[0][0]                 \n",
      "__________________________________________________________________________________________________\n",
      "max_pooling2d_26 (MaxPooling2D) (None, 7, 7, 256)    0           batch_normalization_104[0][0]    \n",
      "__________________________________________________________________________________________________\n",
      "conv2d_131 (Conv2D)             (None, 7, 7, 512)    1180160     max_pooling2d_26[0][0]           \n",
      "__________________________________________________________________________________________________\n",
      "batch_normalization_105 (BatchN (None, 7, 7, 512)    2048        conv2d_131[0][0]                 \n",
      "__________________________________________________________________________________________________\n",
      "dropout_6 (Dropout)             (None, 7, 7, 512)    0           batch_normalization_105[0][0]    \n",
      "__________________________________________________________________________________________________\n",
      "conv2d_132 (Conv2D)             (None, 7, 7, 512)    2359808     dropout_6[0][0]                  \n",
      "__________________________________________________________________________________________________\n",
      "batch_normalization_106 (BatchN (None, 7, 7, 512)    2048        conv2d_132[0][0]                 \n",
      "__________________________________________________________________________________________________\n",
      "up_sampling2d_22 (UpSampling2D) (None, 14, 14, 512)  0           batch_normalization_106[0][0]    \n",
      "__________________________________________________________________________________________________\n",
      "conv2d_133 (Conv2D)             (None, 14, 14, 256)  524544      up_sampling2d_22[0][0]           \n",
      "__________________________________________________________________________________________________\n",
      "concatenate_22 (Concatenate)    (None, 14, 14, 512)  0           batch_normalization_104[0][0]    \n",
      "                                                                 conv2d_133[0][0]                 \n",
      "__________________________________________________________________________________________________\n",
      "conv2d_134 (Conv2D)             (None, 14, 14, 256)  1179904     concatenate_22[0][0]             \n",
      "__________________________________________________________________________________________________\n",
      "batch_normalization_107 (BatchN (None, 14, 14, 256)  1024        conv2d_134[0][0]                 \n",
      "__________________________________________________________________________________________________\n",
      "conv2d_135 (Conv2D)             (None, 14, 14, 256)  590080      batch_normalization_107[0][0]    \n",
      "__________________________________________________________________________________________________\n",
      "batch_normalization_108 (BatchN (None, 14, 14, 256)  1024        conv2d_135[0][0]                 \n",
      "__________________________________________________________________________________________________\n",
      "up_sampling2d_23 (UpSampling2D) (None, 28, 28, 256)  0           batch_normalization_108[0][0]    \n",
      "__________________________________________________________________________________________________\n",
      "conv2d_136 (Conv2D)             (None, 28, 28, 128)  131200      up_sampling2d_23[0][0]           \n",
      "__________________________________________________________________________________________________\n",
      "concatenate_23 (Concatenate)    (None, 28, 28, 256)  0           batch_normalization_102[0][0]    \n",
      "                                                                 conv2d_136[0][0]                 \n",
      "__________________________________________________________________________________________________\n",
      "conv2d_137 (Conv2D)             (None, 28, 28, 128)  295040      concatenate_23[0][0]             \n",
      "__________________________________________________________________________________________________\n",
      "batch_normalization_109 (BatchN (None, 28, 28, 128)  512         conv2d_137[0][0]                 \n",
      "__________________________________________________________________________________________________\n",
      "conv2d_138 (Conv2D)             (None, 28, 28, 128)  147584      batch_normalization_109[0][0]    \n",
      "__________________________________________________________________________________________________\n",
      "batch_normalization_110 (BatchN (None, 28, 28, 128)  512         conv2d_138[0][0]                 \n",
      "__________________________________________________________________________________________________\n",
      "up_sampling2d_24 (UpSampling2D) (None, 56, 56, 128)  0           batch_normalization_110[0][0]    \n",
      "__________________________________________________________________________________________________\n",
      "conv2d_139 (Conv2D)             (None, 56, 56, 64)   32832       up_sampling2d_24[0][0]           \n",
      "__________________________________________________________________________________________________\n",
      "concatenate_24 (Concatenate)    (None, 56, 56, 128)  0           batch_normalization_100[0][0]    \n",
      "                                                                 conv2d_139[0][0]                 \n",
      "__________________________________________________________________________________________________\n",
      "conv2d_140 (Conv2D)             (None, 56, 56, 64)   73792       concatenate_24[0][0]             \n",
      "__________________________________________________________________________________________________\n",
      "batch_normalization_111 (BatchN (None, 56, 56, 64)   256         conv2d_140[0][0]                 \n",
      "__________________________________________________________________________________________________\n",
      "conv2d_141 (Conv2D)             (None, 56, 56, 64)   36928       batch_normalization_111[0][0]    \n",
      "__________________________________________________________________________________________________\n",
      "batch_normalization_112 (BatchN (None, 56, 56, 64)   256         conv2d_141[0][0]                 \n",
      "__________________________________________________________________________________________________\n",
      "up_sampling2d_25 (UpSampling2D) (None, 112, 112, 64) 0           batch_normalization_112[0][0]    \n",
      "__________________________________________________________________________________________________\n",
      "conv2d_142 (Conv2D)             (None, 112, 112, 32) 8224        up_sampling2d_25[0][0]           \n",
      "__________________________________________________________________________________________________\n",
      "concatenate_25 (Concatenate)    (None, 112, 112, 64) 0           batch_normalization_98[0][0]     \n",
      "                                                                 conv2d_142[0][0]                 \n",
      "__________________________________________________________________________________________________\n",
      "conv2d_143 (Conv2D)             (None, 112, 112, 32) 18464       concatenate_25[0][0]             \n",
      "__________________________________________________________________________________________________\n",
      "batch_normalization_113 (BatchN (None, 112, 112, 32) 128         conv2d_143[0][0]                 \n",
      "__________________________________________________________________________________________________\n",
      "conv2d_144 (Conv2D)             (None, 112, 112, 32) 9248        batch_normalization_113[0][0]    \n",
      "__________________________________________________________________________________________________\n",
      "batch_normalization_114 (BatchN (None, 112, 112, 32) 128         conv2d_144[0][0]                 \n",
      "__________________________________________________________________________________________________\n",
      "up_sampling2d_26 (UpSampling2D) (None, 224, 224, 32) 0           batch_normalization_114[0][0]    \n",
      "__________________________________________________________________________________________________\n",
      "conv2d_145 (Conv2D)             (None, 224, 224, 16) 2064        up_sampling2d_26[0][0]           \n",
      "__________________________________________________________________________________________________\n",
      "concatenate_26 (Concatenate)    (None, 224, 224, 32) 0           batch_normalization_96[0][0]     \n",
      "                                                                 conv2d_145[0][0]                 \n",
      "__________________________________________________________________________________________________\n",
      "conv2d_146 (Conv2D)             (None, 224, 224, 16) 4624        concatenate_26[0][0]             \n",
      "__________________________________________________________________________________________________\n",
      "batch_normalization_115 (BatchN (None, 224, 224, 16) 64          conv2d_146[0][0]                 \n",
      "__________________________________________________________________________________________________\n",
      "conv2d_147 (Conv2D)             (None, 224, 224, 16) 2320        batch_normalization_115[0][0]    \n",
      "__________________________________________________________________________________________________\n",
      "batch_normalization_116 (BatchN (None, 224, 224, 16) 64          conv2d_147[0][0]                 \n",
      "__________________________________________________________________________________________________\n",
      "conv2d_148 (Conv2D)             (None, 224, 224, 1)  17          batch_normalization_116[0][0]    \n",
      "==================================================================================================\n",
      "Total params: 7,787,345\n",
      "Trainable params: 7,781,329\n",
      "Non-trainable params: 6,016\n",
      "__________________________________________________________________________________________________\n"
     ]
    }
   ],
   "source": [
    "# initialise new model\n",
    "model = None\n",
    "model = UNet((224,224,1), 1, 16, 5, 2.0, batchnorm = True)\n",
    "model.summary()"
   ]
  },
  {
   "cell_type": "code",
   "execution_count": 8,
   "metadata": {},
   "outputs": [
    {
     "ename": "ImportError",
     "evalue": "Failed to import `pydot`. Please install `pydot`. For example with `pip install pydot`.",
     "output_type": "error",
     "traceback": [
      "\u001b[1;31m---------------------------------------------------------------------------\u001b[0m",
      "\u001b[1;31mImportError\u001b[0m                               Traceback (most recent call last)",
      "\u001b[1;32m<ipython-input-8-a70009143d02>\u001b[0m in \u001b[0;36m<module>\u001b[1;34m()\u001b[0m\n\u001b[0;32m      1\u001b[0m \u001b[1;32mfrom\u001b[0m \u001b[0mkeras\u001b[0m\u001b[1;33m.\u001b[0m\u001b[0mutils\u001b[0m \u001b[1;32mimport\u001b[0m \u001b[0mplot_model\u001b[0m\u001b[1;33m\u001b[0m\u001b[0m\n\u001b[1;32m----> 2\u001b[1;33m \u001b[0mplot_model\u001b[0m\u001b[1;33m(\u001b[0m\u001b[0mmodel\u001b[0m\u001b[1;33m,\u001b[0m \u001b[0mto_file\u001b[0m\u001b[1;33m=\u001b[0m\u001b[1;34m'model.png'\u001b[0m\u001b[1;33m)\u001b[0m\u001b[1;33m\u001b[0m\u001b[0m\n\u001b[0m",
      "\u001b[1;32mc:\\users\\wohlfart\\appdata\\local\\programs\\python\\python36\\lib\\site-packages\\keras\\utils\\vis_utils.py\u001b[0m in \u001b[0;36mplot_model\u001b[1;34m(model, to_file, show_shapes, show_layer_names, rankdir)\u001b[0m\n\u001b[0;32m    132\u001b[0m             \u001b[1;34m'LR'\u001b[0m \u001b[0mcreates\u001b[0m \u001b[0ma\u001b[0m \u001b[0mhorizontal\u001b[0m \u001b[0mplot\u001b[0m\u001b[1;33m.\u001b[0m\u001b[1;33m\u001b[0m\u001b[0m\n\u001b[0;32m    133\u001b[0m     \"\"\"\n\u001b[1;32m--> 134\u001b[1;33m     \u001b[0mdot\u001b[0m \u001b[1;33m=\u001b[0m \u001b[0mmodel_to_dot\u001b[0m\u001b[1;33m(\u001b[0m\u001b[0mmodel\u001b[0m\u001b[1;33m,\u001b[0m \u001b[0mshow_shapes\u001b[0m\u001b[1;33m,\u001b[0m \u001b[0mshow_layer_names\u001b[0m\u001b[1;33m,\u001b[0m \u001b[0mrankdir\u001b[0m\u001b[1;33m)\u001b[0m\u001b[1;33m\u001b[0m\u001b[0m\n\u001b[0m\u001b[0;32m    135\u001b[0m     \u001b[0m_\u001b[0m\u001b[1;33m,\u001b[0m \u001b[0mextension\u001b[0m \u001b[1;33m=\u001b[0m \u001b[0mos\u001b[0m\u001b[1;33m.\u001b[0m\u001b[0mpath\u001b[0m\u001b[1;33m.\u001b[0m\u001b[0msplitext\u001b[0m\u001b[1;33m(\u001b[0m\u001b[0mto_file\u001b[0m\u001b[1;33m)\u001b[0m\u001b[1;33m\u001b[0m\u001b[0m\n\u001b[0;32m    136\u001b[0m     \u001b[1;32mif\u001b[0m \u001b[1;32mnot\u001b[0m \u001b[0mextension\u001b[0m\u001b[1;33m:\u001b[0m\u001b[1;33m\u001b[0m\u001b[0m\n",
      "\u001b[1;32mc:\\users\\wohlfart\\appdata\\local\\programs\\python\\python36\\lib\\site-packages\\keras\\utils\\vis_utils.py\u001b[0m in \u001b[0;36mmodel_to_dot\u001b[1;34m(model, show_shapes, show_layer_names, rankdir)\u001b[0m\n\u001b[0;32m     53\u001b[0m     \u001b[1;32mfrom\u001b[0m \u001b[1;33m.\u001b[0m\u001b[1;33m.\u001b[0m\u001b[0mmodels\u001b[0m \u001b[1;32mimport\u001b[0m \u001b[0mSequential\u001b[0m\u001b[1;33m\u001b[0m\u001b[0m\n\u001b[0;32m     54\u001b[0m \u001b[1;33m\u001b[0m\u001b[0m\n\u001b[1;32m---> 55\u001b[1;33m     \u001b[0m_check_pydot\u001b[0m\u001b[1;33m(\u001b[0m\u001b[1;33m)\u001b[0m\u001b[1;33m\u001b[0m\u001b[0m\n\u001b[0m\u001b[0;32m     56\u001b[0m     \u001b[0mdot\u001b[0m \u001b[1;33m=\u001b[0m \u001b[0mpydot\u001b[0m\u001b[1;33m.\u001b[0m\u001b[0mDot\u001b[0m\u001b[1;33m(\u001b[0m\u001b[1;33m)\u001b[0m\u001b[1;33m\u001b[0m\u001b[0m\n\u001b[0;32m     57\u001b[0m     \u001b[0mdot\u001b[0m\u001b[1;33m.\u001b[0m\u001b[0mset\u001b[0m\u001b[1;33m(\u001b[0m\u001b[1;34m'rankdir'\u001b[0m\u001b[1;33m,\u001b[0m \u001b[0mrankdir\u001b[0m\u001b[1;33m)\u001b[0m\u001b[1;33m\u001b[0m\u001b[0m\n",
      "\u001b[1;32mc:\\users\\wohlfart\\appdata\\local\\programs\\python\\python36\\lib\\site-packages\\keras\\utils\\vis_utils.py\u001b[0m in \u001b[0;36m_check_pydot\u001b[1;34m()\u001b[0m\n\u001b[0;32m     18\u001b[0m     \u001b[1;32mif\u001b[0m \u001b[0mpydot\u001b[0m \u001b[1;32mis\u001b[0m \u001b[1;32mNone\u001b[0m\u001b[1;33m:\u001b[0m\u001b[1;33m\u001b[0m\u001b[0m\n\u001b[0;32m     19\u001b[0m         raise ImportError(\n\u001b[1;32m---> 20\u001b[1;33m             \u001b[1;34m'Failed to import `pydot`. '\u001b[0m\u001b[1;33m\u001b[0m\u001b[0m\n\u001b[0m\u001b[0;32m     21\u001b[0m             \u001b[1;34m'Please install `pydot`. '\u001b[0m\u001b[1;33m\u001b[0m\u001b[0m\n\u001b[0;32m     22\u001b[0m             'For example with `pip install pydot`.')\n",
      "\u001b[1;31mImportError\u001b[0m: Failed to import `pydot`. Please install `pydot`. For example with `pip install pydot`."
     ]
    }
   ],
   "source": [
    "from keras.utils import plot_model\n",
    "plot_model(model, to_file='model.png')"
   ]
  },
  {
   "cell_type": "code",
   "execution_count": 7,
   "metadata": {},
   "outputs": [
    {
     "ename": "OSError",
     "evalue": "Unable to open file (unable to open file: name = 'ds_step08.h5', errno = 2, error message = 'No such file or directory', flags = 0, o_flags = 0)",
     "output_type": "error",
     "traceback": [
      "\u001b[1;31m---------------------------------------------------------------------------\u001b[0m",
      "\u001b[1;31mOSError\u001b[0m                                   Traceback (most recent call last)",
      "\u001b[1;32m<ipython-input-7-b67d6e9f275c>\u001b[0m in \u001b[0;36m<module>\u001b[1;34m()\u001b[0m\n\u001b[0;32m      1\u001b[0m \u001b[1;31m# load trained Model\u001b[0m\u001b[1;33m\u001b[0m\u001b[1;33m\u001b[0m\u001b[0m\n\u001b[0;32m      2\u001b[0m \u001b[1;32mfrom\u001b[0m \u001b[0mkeras\u001b[0m\u001b[1;33m.\u001b[0m\u001b[0mmodels\u001b[0m \u001b[1;32mimport\u001b[0m \u001b[0mload_model\u001b[0m\u001b[1;33m\u001b[0m\u001b[0m\n\u001b[1;32m----> 3\u001b[1;33m \u001b[0mmodel\u001b[0m \u001b[1;33m=\u001b[0m \u001b[0mload_model\u001b[0m\u001b[1;33m(\u001b[0m\u001b[1;34m'ds_step08.h5'\u001b[0m\u001b[1;33m,\u001b[0m \u001b[0mcustom_objects\u001b[0m\u001b[1;33m=\u001b[0m\u001b[1;33m{\u001b[0m\u001b[1;34m'iou_loss'\u001b[0m\u001b[1;33m:\u001b[0m \u001b[0miou_loss\u001b[0m\u001b[1;33m}\u001b[0m\u001b[1;33m)\u001b[0m\u001b[1;33m\u001b[0m\u001b[0m\n\u001b[0m\u001b[0;32m      4\u001b[0m \u001b[0mmodel\u001b[0m\u001b[1;33m.\u001b[0m\u001b[0msummary\u001b[0m\u001b[1;33m(\u001b[0m\u001b[1;33m)\u001b[0m\u001b[1;33m\u001b[0m\u001b[0m\n",
      "\u001b[1;32mc:\\users\\wohlfart\\appdata\\local\\programs\\python\\python36\\lib\\site-packages\\keras\\models.py\u001b[0m in \u001b[0;36mload_model\u001b[1;34m(filepath, custom_objects, compile)\u001b[0m\n\u001b[0;32m    258\u001b[0m     \u001b[0mopened_new_file\u001b[0m \u001b[1;33m=\u001b[0m \u001b[1;32mnot\u001b[0m \u001b[0misinstance\u001b[0m\u001b[1;33m(\u001b[0m\u001b[0mfilepath\u001b[0m\u001b[1;33m,\u001b[0m \u001b[0mh5py\u001b[0m\u001b[1;33m.\u001b[0m\u001b[0mFile\u001b[0m\u001b[1;33m)\u001b[0m\u001b[1;33m\u001b[0m\u001b[0m\n\u001b[0;32m    259\u001b[0m     \u001b[1;32mif\u001b[0m \u001b[0mopened_new_file\u001b[0m\u001b[1;33m:\u001b[0m\u001b[1;33m\u001b[0m\u001b[0m\n\u001b[1;32m--> 260\u001b[1;33m         \u001b[0mf\u001b[0m \u001b[1;33m=\u001b[0m \u001b[0mh5py\u001b[0m\u001b[1;33m.\u001b[0m\u001b[0mFile\u001b[0m\u001b[1;33m(\u001b[0m\u001b[0mfilepath\u001b[0m\u001b[1;33m,\u001b[0m \u001b[0mmode\u001b[0m\u001b[1;33m=\u001b[0m\u001b[1;34m'r'\u001b[0m\u001b[1;33m)\u001b[0m\u001b[1;33m\u001b[0m\u001b[0m\n\u001b[0m\u001b[0;32m    261\u001b[0m     \u001b[1;32melse\u001b[0m\u001b[1;33m:\u001b[0m\u001b[1;33m\u001b[0m\u001b[0m\n\u001b[0;32m    262\u001b[0m         \u001b[0mf\u001b[0m \u001b[1;33m=\u001b[0m \u001b[0mfilepath\u001b[0m\u001b[1;33m\u001b[0m\u001b[0m\n",
      "\u001b[1;32mc:\\users\\wohlfart\\appdata\\local\\programs\\python\\python36\\lib\\site-packages\\h5py\\_hl\\files.py\u001b[0m in \u001b[0;36m__init__\u001b[1;34m(self, name, mode, driver, libver, userblock_size, swmr, **kwds)\u001b[0m\n\u001b[0;32m    267\u001b[0m             \u001b[1;32mwith\u001b[0m \u001b[0mphil\u001b[0m\u001b[1;33m:\u001b[0m\u001b[1;33m\u001b[0m\u001b[0m\n\u001b[0;32m    268\u001b[0m                 \u001b[0mfapl\u001b[0m \u001b[1;33m=\u001b[0m \u001b[0mmake_fapl\u001b[0m\u001b[1;33m(\u001b[0m\u001b[0mdriver\u001b[0m\u001b[1;33m,\u001b[0m \u001b[0mlibver\u001b[0m\u001b[1;33m,\u001b[0m \u001b[1;33m**\u001b[0m\u001b[0mkwds\u001b[0m\u001b[1;33m)\u001b[0m\u001b[1;33m\u001b[0m\u001b[0m\n\u001b[1;32m--> 269\u001b[1;33m                 \u001b[0mfid\u001b[0m \u001b[1;33m=\u001b[0m \u001b[0mmake_fid\u001b[0m\u001b[1;33m(\u001b[0m\u001b[0mname\u001b[0m\u001b[1;33m,\u001b[0m \u001b[0mmode\u001b[0m\u001b[1;33m,\u001b[0m \u001b[0muserblock_size\u001b[0m\u001b[1;33m,\u001b[0m \u001b[0mfapl\u001b[0m\u001b[1;33m,\u001b[0m \u001b[0mswmr\u001b[0m\u001b[1;33m=\u001b[0m\u001b[0mswmr\u001b[0m\u001b[1;33m)\u001b[0m\u001b[1;33m\u001b[0m\u001b[0m\n\u001b[0m\u001b[0;32m    270\u001b[0m \u001b[1;33m\u001b[0m\u001b[0m\n\u001b[0;32m    271\u001b[0m                 \u001b[1;32mif\u001b[0m \u001b[0mswmr_support\u001b[0m\u001b[1;33m:\u001b[0m\u001b[1;33m\u001b[0m\u001b[0m\n",
      "\u001b[1;32mc:\\users\\wohlfart\\appdata\\local\\programs\\python\\python36\\lib\\site-packages\\h5py\\_hl\\files.py\u001b[0m in \u001b[0;36mmake_fid\u001b[1;34m(name, mode, userblock_size, fapl, fcpl, swmr)\u001b[0m\n\u001b[0;32m     97\u001b[0m         \u001b[1;32mif\u001b[0m \u001b[0mswmr\u001b[0m \u001b[1;32mand\u001b[0m \u001b[0mswmr_support\u001b[0m\u001b[1;33m:\u001b[0m\u001b[1;33m\u001b[0m\u001b[0m\n\u001b[0;32m     98\u001b[0m             \u001b[0mflags\u001b[0m \u001b[1;33m|=\u001b[0m \u001b[0mh5f\u001b[0m\u001b[1;33m.\u001b[0m\u001b[0mACC_SWMR_READ\u001b[0m\u001b[1;33m\u001b[0m\u001b[0m\n\u001b[1;32m---> 99\u001b[1;33m         \u001b[0mfid\u001b[0m \u001b[1;33m=\u001b[0m \u001b[0mh5f\u001b[0m\u001b[1;33m.\u001b[0m\u001b[0mopen\u001b[0m\u001b[1;33m(\u001b[0m\u001b[0mname\u001b[0m\u001b[1;33m,\u001b[0m \u001b[0mflags\u001b[0m\u001b[1;33m,\u001b[0m \u001b[0mfapl\u001b[0m\u001b[1;33m=\u001b[0m\u001b[0mfapl\u001b[0m\u001b[1;33m)\u001b[0m\u001b[1;33m\u001b[0m\u001b[0m\n\u001b[0m\u001b[0;32m    100\u001b[0m     \u001b[1;32melif\u001b[0m \u001b[0mmode\u001b[0m \u001b[1;33m==\u001b[0m \u001b[1;34m'r+'\u001b[0m\u001b[1;33m:\u001b[0m\u001b[1;33m\u001b[0m\u001b[0m\n\u001b[0;32m    101\u001b[0m         \u001b[0mfid\u001b[0m \u001b[1;33m=\u001b[0m \u001b[0mh5f\u001b[0m\u001b[1;33m.\u001b[0m\u001b[0mopen\u001b[0m\u001b[1;33m(\u001b[0m\u001b[0mname\u001b[0m\u001b[1;33m,\u001b[0m \u001b[0mh5f\u001b[0m\u001b[1;33m.\u001b[0m\u001b[0mACC_RDWR\u001b[0m\u001b[1;33m,\u001b[0m \u001b[0mfapl\u001b[0m\u001b[1;33m=\u001b[0m\u001b[0mfapl\u001b[0m\u001b[1;33m)\u001b[0m\u001b[1;33m\u001b[0m\u001b[0m\n",
      "\u001b[1;32mh5py\\_objects.pyx\u001b[0m in \u001b[0;36mh5py._objects.with_phil.wrapper\u001b[1;34m()\u001b[0m\n",
      "\u001b[1;32mh5py\\_objects.pyx\u001b[0m in \u001b[0;36mh5py._objects.with_phil.wrapper\u001b[1;34m()\u001b[0m\n",
      "\u001b[1;32mh5py\\h5f.pyx\u001b[0m in \u001b[0;36mh5py.h5f.open\u001b[1;34m()\u001b[0m\n",
      "\u001b[1;31mOSError\u001b[0m: Unable to open file (unable to open file: name = 'ds_step08.h5', errno = 2, error message = 'No such file or directory', flags = 0, o_flags = 0)"
     ]
    }
   ],
   "source": [
    "# load trained Model  \n",
    "from keras.models import load_model \n",
    "model = load_model('ds_step08.h5', custom_objects={'iou_loss': iou_loss})\n",
    "model.summary()"
   ]
  },
  {
   "cell_type": "code",
   "execution_count": 28,
   "metadata": {},
   "outputs": [],
   "source": [
    "# create callbacks\n",
    "earlyStop = EarlyStopping(monitor='val_loss', patience = 5)\n",
    "checkpoint = ModelCheckpoint(dsPath + '/results/training_01_best.h5', save_best_only=True)\n",
    "#tensorBoard = keras.callbacks.TensorBoard(log_dir= dsPath + '/logs', histogram_freq=0, batch_size=batch_size, write_graph=True, write_grads=False, write_images=False, embeddings_freq=0, embeddings_layer_names=None, embeddings_metadata=None, embeddings_data=None)"
   ]
  },
  {
   "cell_type": "code",
   "execution_count": 29,
   "metadata": {},
   "outputs": [],
   "source": [
    "# compile the model\n",
    "model.compile(optimizer=Adam(lr=0.0001), loss=iou_loss, metrics=[f1, iou, precision, recall, error])"
   ]
  },
  {
   "cell_type": "code",
   "execution_count": 30,
   "metadata": {
    "scrolled": true
   },
   "outputs": [
    {
     "name": "stdout",
     "output_type": "stream",
     "text": [
      "Epoch 1/40\n",
      "Found 18300 images belonging to 1 classes.\n",
      "Found 18300 images belonging to 1 classes.\n",
      "(32, 224, 224, 1)\n",
      "(32, 224, 224, 1)\n",
      "571/571 [============================>.] - ETA: 0s - loss: -0.0192 - f1: 0.0375 - iou: 0.0192 - precision: 0.0192 - recall: 0.9688 - error: 11.8236Found 3922 images belonging to 1 classes.\n",
      "Found 3922 images belonging to 1 classes.\n",
      "(32, 224, 224, 1)\n",
      "(32, 224, 224, 1)\n",
      "572/571 [==============================] - 216s 378ms/step - loss: -0.0192 - f1: 0.0375 - iou: 0.0192 - precision: 0.0192 - recall: 0.9688 - error: 11.8171 - val_loss: -0.0298 - val_f1: 0.0577 - val_iou: 0.0298 - val_precision: 0.0298 - val_recall: 0.9716 - val_error: 7.2406\n",
      "Epoch 2/40\n",
      "572/571 [==============================] - 209s 365ms/step - loss: -0.0296 - f1: 0.0572 - iou: 0.0296 - precision: 0.0297 - recall: 0.9644 - error: 7.6111 - val_loss: -0.0102 - val_f1: 0.0201 - val_iou: 0.0102 - val_precision: 0.0127 - val_recall: 0.0524 - val_error: 1.1908\n",
      "Epoch 3/40\n",
      "572/571 [==============================] - 208s 364ms/step - loss: -0.0553 - f1: 0.1039 - iou: 0.0553 - precision: 0.0558 - recall: 0.9132 - error: 3.6454 - val_loss: -0.0575 - val_f1: 0.1072 - val_iou: 0.0575 - val_precision: 0.0620 - val_recall: 0.4200 - val_error: 1.6138\n",
      "Epoch 4/40\n",
      "572/571 [==============================] - 208s 364ms/step - loss: -0.0865 - f1: 0.1577 - iou: 0.0865 - precision: 0.0885 - recall: 0.8415 - error: 2.0250 - val_loss: -0.1002 - val_f1: 0.1791 - val_iou: 0.1002 - val_precision: 0.1132 - val_recall: 0.4653 - val_error: 0.9749\n",
      "Epoch 5/40\n",
      "572/571 [==============================] - 208s 364ms/step - loss: -0.1305 - f1: 0.2277 - iou: 0.1305 - precision: 0.1392 - recall: 0.7165 - error: 1.0855 - val_loss: -0.1425 - val_f1: 0.2437 - val_iou: 0.1425 - val_precision: 0.1895 - val_recall: 0.4363 - val_error: 0.6009\n",
      "Epoch 6/40\n",
      "572/571 [==============================] - 208s 364ms/step - loss: -0.1896 - f1: 0.3113 - iou: 0.1896 - precision: 0.2186 - recall: 0.5951 - error: 0.5893 - val_loss: -0.1437 - val_f1: 0.2396 - val_iou: 0.1437 - val_precision: 0.2480 - val_recall: 0.2649 - val_error: 0.3321\n",
      "Epoch 7/40\n",
      "572/571 [==============================] - 208s 364ms/step - loss: -0.2417 - f1: 0.3782 - iou: 0.2417 - precision: 0.2990 - recall: 0.5498 - error: 0.4064 - val_loss: -0.1290 - val_f1: 0.2147 - val_iou: 0.1290 - val_precision: 0.2941 - val_recall: 0.1895 - val_error: 0.2738\n",
      "Epoch 8/40\n",
      "572/571 [==============================] - 208s 364ms/step - loss: -0.2873 - f1: 0.4334 - iou: 0.2873 - precision: 0.3716 - recall: 0.5475 - error: 0.3318 - val_loss: -0.2208 - val_f1: 0.3516 - val_iou: 0.2208 - val_precision: 0.3958 - val_recall: 0.3525 - val_error: 0.2762\n",
      "Epoch 9/40\n",
      "572/571 [==============================] - 208s 364ms/step - loss: -0.3148 - f1: 0.4645 - iou: 0.3148 - precision: 0.4207 - recall: 0.5419 - error: 0.2948 - val_loss: -0.2222 - val_f1: 0.3526 - val_iou: 0.2222 - val_precision: 0.4416 - val_recall: 0.3363 - val_error: 0.2646\n",
      "Epoch 10/40\n",
      "572/571 [==============================] - 208s 364ms/step - loss: -0.3314 - f1: 0.4830 - iou: 0.3314 - precision: 0.4466 - recall: 0.5478 - error: 0.2776 - val_loss: -0.2656 - val_f1: 0.4084 - val_iou: 0.2656 - val_precision: 0.5458 - val_recall: 0.3559 - val_error: 0.2258\n",
      "Epoch 11/40\n",
      "572/571 [==============================] - 209s 365ms/step - loss: -0.3550 - f1: 0.5093 - iou: 0.3550 - precision: 0.4796 - recall: 0.5629 - error: 0.2589 - val_loss: -0.2013 - val_f1: 0.3205 - val_iou: 0.2013 - val_precision: 0.5727 - val_recall: 0.2410 - val_error: 0.2157\n",
      "Epoch 12/40\n",
      "572/571 [==============================] - 209s 365ms/step - loss: -0.3694 - f1: 0.5258 - iou: 0.3694 - precision: 0.5078 - recall: 0.5631 - error: 0.2370 - val_loss: -0.2652 - val_f1: 0.4059 - val_iou: 0.2652 - val_precision: 0.5846 - val_recall: 0.3412 - val_error: 0.2156\n",
      "Epoch 13/40\n",
      "572/571 [==============================] - 209s 365ms/step - loss: -0.3873 - f1: 0.5445 - iou: 0.3873 - precision: 0.5314 - recall: 0.5747 - error: 0.2332 - val_loss: -0.3145 - val_f1: 0.4698 - val_iou: 0.3145 - val_precision: 0.5782 - val_recall: 0.4231 - val_error: 0.2158\n",
      "Epoch 14/40\n",
      "572/571 [==============================] - 208s 364ms/step - loss: -0.3907 - f1: 0.5481 - iou: 0.3907 - precision: 0.5426 - recall: 0.5681 - error: 0.2221 - val_loss: -0.3012 - val_f1: 0.4543 - val_iou: 0.3012 - val_precision: 0.5631 - val_recall: 0.4127 - val_error: 0.2305\n",
      "Epoch 15/40\n",
      "572/571 [==============================] - 208s 364ms/step - loss: -0.4131 - f1: 0.5709 - iou: 0.4131 - precision: 0.5612 - recall: 0.5951 - error: 0.2136 - val_loss: -0.3066 - val_f1: 0.4623 - val_iou: 0.3066 - val_precision: 0.5910 - val_recall: 0.4045 - val_error: 0.2167\n",
      "Epoch 16/40\n",
      "572/571 [==============================] - 208s 364ms/step - loss: -0.4135 - f1: 0.5708 - iou: 0.4135 - precision: 0.5556 - recall: 0.6014 - error: 0.2221 - val_loss: -0.3265 - val_f1: 0.4834 - val_iou: 0.3265 - val_precision: 0.6198 - val_recall: 0.4280 - val_error: 0.2088\n",
      "Epoch 17/40\n",
      "572/571 [==============================] - 209s 365ms/step - loss: -0.4266 - f1: 0.5856 - iou: 0.4266 - precision: 0.5845 - recall: 0.6015 - error: 0.2008 - val_loss: -0.3321 - val_f1: 0.4884 - val_iou: 0.3321 - val_precision: 0.6150 - val_recall: 0.4375 - val_error: 0.2075\n",
      "Epoch 18/40\n",
      "572/571 [==============================] - 208s 364ms/step - loss: -0.4433 - f1: 0.6011 - iou: 0.4433 - precision: 0.5995 - recall: 0.6169 - error: 0.1985 - val_loss: -0.3460 - val_f1: 0.5067 - val_iou: 0.3460 - val_precision: 0.5441 - val_recall: 0.5094 - val_error: 0.2332\n",
      "Epoch 19/40\n",
      "572/571 [==============================] - 208s 364ms/step - loss: -0.4519 - f1: 0.6097 - iou: 0.4519 - precision: 0.6108 - recall: 0.6216 - error: 0.1923 - val_loss: -0.2927 - val_f1: 0.4396 - val_iou: 0.2927 - val_precision: 0.6940 - val_recall: 0.3503 - val_error: 0.1961\n",
      "Epoch 20/40\n",
      "572/571 [==============================] - 208s 364ms/step - loss: -0.4592 - f1: 0.6172 - iou: 0.4592 - precision: 0.6163 - recall: 0.6312 - error: 0.1877 - val_loss: -0.3309 - val_f1: 0.4858 - val_iou: 0.3309 - val_precision: 0.6627 - val_recall: 0.4151 - val_error: 0.1968\n",
      "Epoch 21/40\n",
      "572/571 [==============================] - 208s 364ms/step - loss: -0.4632 - f1: 0.6209 - iou: 0.4632 - precision: 0.6223 - recall: 0.6299 - error: 0.1828 - val_loss: -0.3619 - val_f1: 0.5245 - val_iou: 0.3619 - val_precision: 0.6211 - val_recall: 0.4773 - val_error: 0.1960\n",
      "Epoch 22/40\n",
      "572/571 [==============================] - 209s 365ms/step - loss: -0.4686 - f1: 0.6261 - iou: 0.4686 - precision: 0.6216 - recall: 0.6421 - error: 0.1831 - val_loss: -0.3552 - val_f1: 0.5148 - val_iou: 0.3552 - val_precision: 0.6495 - val_recall: 0.4600 - val_error: 0.1947\n",
      "Epoch 23/40\n",
      "572/571 [==============================] - 209s 365ms/step - loss: -0.4836 - f1: 0.6408 - iou: 0.4836 - precision: 0.6431 - recall: 0.6497 - error: 0.1742 - val_loss: -0.3627 - val_f1: 0.5232 - val_iou: 0.3627 - val_precision: 0.6276 - val_recall: 0.4801 - val_error: 0.2068\n",
      "Epoch 24/40\n",
      "572/571 [==============================] - 208s 364ms/step - loss: -0.4891 - f1: 0.6460 - iou: 0.4891 - precision: 0.6553 - recall: 0.6482 - error: 0.1711 - val_loss: -0.3717 - val_f1: 0.5326 - val_iou: 0.3717 - val_precision: 0.6578 - val_recall: 0.4723 - val_error: 0.1861\n",
      "Epoch 25/40\n",
      "572/571 [==============================] - 208s 364ms/step - loss: -0.4875 - f1: 0.6448 - iou: 0.4875 - precision: 0.6460 - recall: 0.6545 - error: 0.1721 - val_loss: -0.3708 - val_f1: 0.5307 - val_iou: 0.3708 - val_precision: 0.6747 - val_recall: 0.4660 - val_error: 0.1883\n",
      "Epoch 26/40\n",
      "572/571 [==============================] - 208s 364ms/step - loss: -0.4950 - f1: 0.6519 - iou: 0.4950 - precision: 0.6543 - recall: 0.6604 - error: 0.1677 - val_loss: -0.3601 - val_f1: 0.5183 - val_iou: 0.3601 - val_precision: 0.6908 - val_recall: 0.4435 - val_error: 0.1811\n",
      "Epoch 27/40\n",
      "572/571 [==============================] - 208s 364ms/step - loss: -0.5033 - f1: 0.6591 - iou: 0.5033 - precision: 0.6682 - recall: 0.6598 - error: 0.1624 - val_loss: -0.3872 - val_f1: 0.5487 - val_iou: 0.3872 - val_precision: 0.6439 - val_recall: 0.5077 - val_error: 0.1880\n",
      "Epoch 28/40\n"
     ]
    },
    {
     "name": "stdout",
     "output_type": "stream",
     "text": [
      "572/571 [==============================] - 207s 362ms/step - loss: -0.4972 - f1: 0.6541 - iou: 0.4972 - precision: 0.6586 - recall: 0.6609 - error: 0.1658 - val_loss: -0.3724 - val_f1: 0.5324 - val_iou: 0.3724 - val_precision: 0.6846 - val_recall: 0.4657 - val_error: 0.1837\n",
      "Epoch 29/40\n",
      "572/571 [==============================] - 207s 362ms/step - loss: -0.5152 - f1: 0.6704 - iou: 0.5152 - precision: 0.6767 - recall: 0.6741 - error: 0.1585 - val_loss: -0.3632 - val_f1: 0.5210 - val_iou: 0.3632 - val_precision: 0.6992 - val_recall: 0.4471 - val_error: 0.1836\n",
      "Epoch 30/40\n",
      "572/571 [==============================] - 207s 361ms/step - loss: -0.5119 - f1: 0.6673 - iou: 0.5119 - precision: 0.6770 - recall: 0.6670 - error: 0.1566 - val_loss: -0.2931 - val_f1: 0.4343 - val_iou: 0.2931 - val_precision: 0.6581 - val_recall: 0.3696 - val_error: 0.1954\n",
      "Epoch 31/40\n",
      "572/571 [==============================] - 207s 362ms/step - loss: -0.5164 - f1: 0.6714 - iou: 0.5164 - precision: 0.6780 - recall: 0.6747 - error: 0.1574 - val_loss: -0.3882 - val_f1: 0.5486 - val_iou: 0.3882 - val_precision: 0.6879 - val_recall: 0.4874 - val_error: 0.1783\n",
      "Epoch 32/40\n",
      "572/571 [==============================] - 207s 361ms/step - loss: -0.5248 - f1: 0.6792 - iou: 0.5248 - precision: 0.6900 - recall: 0.6800 - error: 0.1533 - val_loss: -0.3969 - val_f1: 0.5609 - val_iou: 0.3969 - val_precision: 0.6537 - val_recall: 0.5180 - val_error: 0.1872\n",
      "Epoch 33/40\n",
      "572/571 [==============================] - 207s 361ms/step - loss: -0.5304 - f1: 0.6846 - iou: 0.5304 - precision: 0.6977 - recall: 0.6818 - error: 0.1489 - val_loss: -0.4033 - val_f1: 0.5673 - val_iou: 0.4033 - val_precision: 0.6705 - val_recall: 0.5107 - val_error: 0.1792\n",
      "Epoch 34/40\n",
      "572/571 [==============================] - 207s 361ms/step - loss: -0.5326 - f1: 0.6860 - iou: 0.5326 - precision: 0.6950 - recall: 0.6866 - error: 0.1486 - val_loss: -0.4161 - val_f1: 0.5816 - val_iou: 0.4161 - val_precision: 0.6452 - val_recall: 0.5496 - val_error: 0.1851\n",
      "Epoch 35/40\n",
      "572/571 [==============================] - 207s 362ms/step - loss: -0.5328 - f1: 0.6866 - iou: 0.5328 - precision: 0.6922 - recall: 0.6908 - error: 0.1492 - val_loss: -0.4179 - val_f1: 0.5833 - val_iou: 0.4179 - val_precision: 0.6344 - val_recall: 0.5654 - val_error: 0.1918\n",
      "Epoch 36/40\n",
      "572/571 [==============================] - 207s 362ms/step - loss: -0.5353 - f1: 0.6891 - iou: 0.5353 - precision: 0.6972 - recall: 0.6907 - error: 0.1482 - val_loss: -0.3503 - val_f1: 0.5045 - val_iou: 0.3503 - val_precision: 0.6685 - val_recall: 0.4387 - val_error: 0.1862\n",
      "Epoch 37/40\n",
      "572/571 [==============================] - 207s 361ms/step - loss: -0.5422 - f1: 0.6951 - iou: 0.5422 - precision: 0.7096 - recall: 0.6905 - error: 0.1432 - val_loss: -0.4357 - val_f1: 0.6010 - val_iou: 0.4357 - val_precision: 0.7068 - val_recall: 0.5385 - val_error: 0.1680\n",
      "Epoch 38/40\n",
      "572/571 [==============================] - 207s 361ms/step - loss: -0.5434 - f1: 0.6960 - iou: 0.5434 - precision: 0.7038 - recall: 0.6973 - error: 0.1454 - val_loss: -0.3257 - val_f1: 0.4778 - val_iou: 0.3257 - val_precision: 0.6467 - val_recall: 0.4165 - val_error: 0.1924\n",
      "Epoch 39/40\n",
      "572/571 [==============================] - 207s 361ms/step - loss: -0.5469 - f1: 0.6991 - iou: 0.5469 - precision: 0.7063 - recall: 0.7007 - error: 0.1418 - val_loss: -0.3950 - val_f1: 0.5569 - val_iou: 0.3950 - val_precision: 0.6895 - val_recall: 0.4941 - val_error: 0.1754\n",
      "Epoch 40/40\n",
      "572/571 [==============================] - 207s 362ms/step - loss: -0.5570 - f1: 0.7081 - iou: 0.5570 - precision: 0.7110 - recall: 0.7143 - error: 0.1393 - val_loss: -0.4378 - val_f1: 0.6019 - val_iou: 0.4378 - val_precision: 0.6812 - val_recall: 0.5620 - val_error: 0.1708\n"
     ]
    }
   ],
   "source": [
    "# train and validate the model \n",
    "result = model.fit_generator(trainGen, steps_per_epoch= train_size/batch_size, epochs=epochs, validation_data=valGen, validation_steps=val_size/batch_size, verbose=1, shuffle=True, callbacks=[earlyStop, checkpoint])"
   ]
  },
  {
   "cell_type": "code",
   "execution_count": 31,
   "metadata": {},
   "outputs": [],
   "source": [
    "model.save(dsPath + '/results/training_01.h5')"
   ]
  },
  {
   "cell_type": "code",
   "execution_count": 32,
   "metadata": {},
   "outputs": [
    {
     "name": "stdout",
     "output_type": "stream",
     "text": [
      "dict_keys(['val_loss', 'val_f1', 'val_iou', 'val_precision', 'val_recall', 'val_error', 'loss', 'f1', 'iou', 'precision', 'recall', 'error'])\n"
     ]
    },
    {
     "data": {
      "image/png": "[encoded data removed]",
      "text/plain": [
       "<Figure size 432x288 with 1 Axes>"
      ]
     },
     "metadata": {},
     "output_type": "display_data"
    },
    {
     "name": "stdout",
     "output_type": "stream",
     "text": [
      "{'val_loss': [-0.029754184608189564, -0.01018368242396833, -0.05751716213900176, -0.10017871041152929, -0.1424582696575358, -0.14368337190442626, -0.12904996126947174, -0.22077437340434353, -0.2221723025031141, -0.2655887921539756, -0.2012557815981213, -0.2651505991945937, -0.31447191727155327, -0.3012143842180671, -0.30656402683087847, -0.32652441297849183, -0.33210548279785124, -0.3460069287498042, -0.29274264844262676, -0.3308996642991513, -0.3618717705759693, -0.355155044584357, -0.36274522251161245, -0.3717065759911214, -0.370837506471028, -0.36013252315078687, -0.38719227905482556, -0.37244255191084685, -0.3631920612235266, -0.2930900771161356, -0.3881866629484781, -0.39685273006338057, -0.4032627532276677, -0.4161115213658723, -0.41787042358224336, -0.35033010081604143, -0.43572909047201175, -0.3257480473131747, -0.39503339499858253, -0.43777152471916825], 'val_f1': [0.05769518142388464, 0.02009784458570794, 0.10723229567959623, 0.1790755184073797, 0.24374640743071968, 0.23960078828234352, 0.2147302167715238, 0.35160021621435655, 0.3526091262249847, 0.408358459871439, 0.32050765132885817, 0.4058616542402695, 0.46979464866384324, 0.4542805729989553, 0.4623225187841938, 0.4833533993063989, 0.488447612399413, 0.506732897330522, 0.4396196127181026, 0.4858299308076068, 0.5244569041363017, 0.514767435057804, 0.5232074780770555, 0.5325653936594253, 0.5306705347680729, 0.5183033573876711, 0.5487414179013616, 0.5324463711169105, 0.5209847930619329, 0.4342977111890327, 0.5486103336705291, 0.5608780851235261, 0.5673400439333393, 0.5816329186635015, 0.5832558608006483, 0.5045496676039295, 0.6010097080137826, 0.47780726014929487, 0.55694669278406, 0.6018765523748578], 'val_iou': [0.029754184608189564, 0.01018368242396833, 0.05751716213900176, 0.10017871041152929, 0.1424582696575358, 0.14368337190442626, 0.12904996126947174, 0.22077437340434353, 0.22217230236633648, 0.2655887921539756, 0.20125578173489891, 0.2651505991945937, 0.31447191727155327, 0.3012143842180671, 0.30656402683087847, 0.32652441297849183, 0.33210548279785124, 0.3460069287498042, 0.29274264844262676, 0.3308996642991513, 0.3618717705759693, 0.355155044584357, 0.36274522251161245, 0.3717065759911214, 0.370837506471028, 0.36013252315078687, 0.38719227905482556, 0.37244255191084685, 0.3631920612235266, 0.2930900771161356, 0.3881866629484781, 0.39685273006338057, 0.4032627532276677, 0.4161115213658723, 0.41787042358224336, 0.35033010081604143, 0.43572909047201175, 0.3257480473131747, 0.39503339499858253, 0.43777152471916825], 'val_precision': [0.02978001691093255, 0.012717263387446802, 0.061992152790172804, 0.11319091842946259, 0.18954319290699004, 0.24804090155684663, 0.2940587433494821, 0.395767231670829, 0.441554572495923, 0.5457534914354716, 0.5727465226220453, 0.5846077773961287, 0.5782201069158781, 0.5630545845936294, 0.5910143660745227, 0.6197524102958473, 0.6150319216994228, 0.5441215831001822, 0.6940465334542608, 0.6627006812827554, 0.6211184715507347, 0.6495361638762159, 0.6275723406029623, 0.6577795096832171, 0.6747265890324255, 0.6907511880542477, 0.6438530069537943, 0.6846069918184606, 0.6992015735887861, 0.6581164661686618, 0.6878538342959294, 0.6537499586761393, 0.6704709413767712, 0.6452021395777149, 0.6344189901609678, 0.6685213602543607, 0.7068396023133164, 0.6467254770647075, 0.6894563755048044, 0.68122484473049], 'val_recall': [0.9716393014170089, 0.05236131884822549, 0.42003436890382784, 0.4653394812340946, 0.4362701242851366, 0.2649165176354778, 0.18950007446271722, 0.3524978372284051, 0.3363449741601336, 0.35587563809085293, 0.24102851728970934, 0.3412075685225579, 0.42307082665082085, 0.4127015959906493, 0.40451767194155586, 0.42799036697974197, 0.4374907867814861, 0.5093768689171627, 0.35030131670420783, 0.4151050751456067, 0.4772682968054056, 0.46004798967336163, 0.4801311702645597, 0.4723379935979965, 0.4659618821027387, 0.44346736332763526, 0.5077225077158332, 0.4656909797369127, 0.447140247313603, 0.36955755216500275, 0.487380292298902, 0.5180123509769838, 0.5107132731074888, 0.5496040767458614, 0.5654126120610604, 0.4387362524601101, 0.5384941444841956, 0.41646798805337, 0.49412036945113474, 0.5620468283781648], 'val_error': [7.240584644597748, 1.1907711531482503, 1.6138246785250931, 0.9749127948302386, 0.6009101881657493, 0.3320992432158556, 0.27376644165919545, 0.27622315207803083, 0.26455296613257007, 0.22582418450678204, 0.21567118077451997, 0.21556545851000836, 0.21579658416750966, 0.23054631062000153, 0.21665693799766092, 0.20881225510269083, 0.2074992673880953, 0.2331613743794566, 0.19605897469203853, 0.1967535669640398, 0.196029797967662, 0.1946774303024062, 0.20679756199246702, 0.18606929522442733, 0.18827078435598496, 0.1811455058609266, 0.1880154268989935, 0.18365340368714886, 0.18356606802318487, 0.19540774532342553, 0.17831424635505871, 0.1872008001466967, 0.17915442405474666, 0.18511020204490208, 0.19176389504564106, 0.18621690531034726, 0.1679836899338481, 0.19243240140640633, 0.17538353972505513, 0.17077448322783922], 'loss': [-0.019209984228666363, -0.029640074527003075, -0.05528035848355684, -0.08647395572050022, -0.130519770351264, -0.1895889228452099, -0.24167699284566557, -0.28723853014205974, -0.31473799799309404, -0.3314117401512594, -0.35503307413533736, -0.3694039827454937, -0.38723954056130083, -0.39064572462618674, -0.41304800870314323, -0.4134554801417179, -0.426627399719478, -0.44333786268703274, -0.4519181901639928, -0.45923516433747086, -0.46315498234795743, -0.4685938485724027, -0.4836004730977647, -0.4891132914563997, -0.4875463535486023, -0.4949632131011108, -0.50333411415418, -0.4972252470938886, -0.515181182290687, -0.5118699545677894, -0.5163933093821416, -0.5248472710124782, -0.5304254112087312, -0.532628862792677, -0.5328223752975464, -0.5353325252585073, -0.542203328049248, -0.5433572674318741, -0.5468576874498461, -0.5570440203895985], 'f1': [0.03752485508475799, 0.05716946200920584, 0.10383292120336834, 0.15761799024753884, 0.22769926570803742, 0.3112849991373677, 0.3781198186691993, 0.43338461537830164, 0.4645240715813767, 0.4830229831719008, 0.509253799772002, 0.5258003515428533, 0.5444900798406758, 0.5480801955858866, 0.570839444437965, 0.5707387209199165, 0.5856059957071732, 0.6011335289934294, 0.6097086692377518, 0.617222296618373, 0.6208862284102726, 0.6260380033065712, 0.6407944068882635, 0.6460344961692727, 0.6448151943201575, 0.6518638177126483, 0.6591206881127071, 0.6540971685367856, 0.6704288920157594, 0.667309270777989, 0.6714401781884699, 0.6791953110564601, 0.6846411696418387, 0.6859755759161027, 0.6866321606714217, 0.6890679441644846, 0.6951051162370567, 0.6959853427397097, 0.6990862176717956, 0.7081089021469075], 'iou': [0.019209984228666363, 0.029640074527003075, 0.05528035849495664, 0.08647395572050022, 0.130519770351264, 0.1895889228452099, 0.24167699284566557, 0.28723853018765894, 0.31473799799309404, 0.3314117401056602, 0.35503307413533736, 0.3694039826998945, 0.38723954051570164, 0.3906457245805876, 0.41304800870314323, 0.4134554801417179, 0.426627399719478, 0.44333786268703274, 0.4519181901639928, 0.45923516433747086, 0.46315498234795743, 0.4685938485724027, 0.4836004730977647, 0.4891132914563997, 0.4875463535486023, 0.4949632131011108, 0.50333411415418, 0.4972252470938886, 0.515181182290687, 0.5118699545677894, 0.5163933093821416, 0.5248472710124782, 0.5304254112087312, 0.532628862792677, 0.5328223752975464, 0.5353325252585073, 0.542203328049248, 0.5433572674318741, 0.5468576874498461, 0.5570440203895985], 'precision': [0.019224237772773524, 0.029694365222271674, 0.055739236653176816, 0.08843124137875813, 0.13916763138249924, 0.21851730096209895, 0.2989349461839499, 0.3715336238328225, 0.42068663918906873, 0.4465159910103011, 0.47957992401279387, 0.5077473022442698, 0.5313935331373267, 0.5425332398883632, 0.5612115378979126, 0.5555329473552808, 0.5844765250930369, 0.5994872006106247, 0.6107295045044904, 0.6163057594156005, 0.6222574735339222, 0.6215499083787366, 0.6430817761186693, 0.6552648629386568, 0.6459582230106728, 0.6542897829592553, 0.6681588971028563, 0.6585903377220279, 0.6766332666600336, 0.6769730578485083, 0.6780107085300925, 0.6899676190569101, 0.697722957837777, 0.6950065405121266, 0.6922207414778204, 0.6971524615626518, 0.7095271281987592, 0.7037397956457294, 0.7062614634779633, 0.7109428007746004], 'recall': [0.968804494631095, 0.9643861013944032, 0.9131875982701453, 0.8414676108516631, 0.7164268496127728, 0.5951228638294616, 0.5498144682509, 0.5475262918954339, 0.5418550029087588, 0.547823404106286, 0.5629453667265469, 0.5631097332375948, 0.5747408386136664, 0.5680852191174617, 0.5951402231513476, 0.6014380278352831, 0.6015116847668841, 0.6169343253041877, 0.6216336336031637, 0.6311637646122709, 0.6299252657942433, 0.642125282339711, 0.6496580281544253, 0.6482357044167857, 0.6545397814505739, 0.66038065341001, 0.659833657910915, 0.6608983176653502, 0.6741078045850243, 0.6669872453173653, 0.674693975474665, 0.6799717509551126, 0.6818420938194775, 0.6865738596160555, 0.6908522269374034, 0.6907481851994666, 0.6905526643633191, 0.6973335630646169, 0.7007429738513758, 0.7143008542972835], 'error': [11.817866864647371, 7.611806806553909, 3.6457349695924854, 2.025113904437081, 1.085571088725752, 0.5893249818536102, 0.4064238236380405, 0.3318351009178683, 0.2947888724074338, 0.2776499522253464, 0.25894128932653226, 0.23697309320741664, 0.2331994649393311, 0.2221075065181555, 0.213623843300538, 0.2220720274884844, 0.20081681751814046, 0.1984765292484252, 0.1923336476966983, 0.18773474301471085, 0.1828102429088999, 0.18306347036296552, 0.17419778491955637, 0.17108870841440607, 0.17212060903265178, 0.16769879397473048, 0.16244369929931202, 0.1658001688920735, 0.1584539487355394, 0.156571111288227, 0.15743247551670492, 0.15328027346420808, 0.14888090887682034, 0.14858381672635104, 0.1492175712611506, 0.14822980550143236, 0.14322150441955347, 0.14540514047191444, 0.1418219748513946, 0.13932663566590658]}\n"
     ]
    }
   ],
   "source": [
    "# list all data in history\n",
    "\n",
    "print(result.history.keys())\n",
    "\n",
    "\n",
    "# summarize history for loss\n",
    "plt.plot(result.history['loss'])\n",
    "plt.plot(result.history['val_loss'])\n",
    "plt.title('model loss') #Benennung des Grafen\n",
    "plt.ylabel('loss')  #Benennung der y-Achse\n",
    "plt.xlabel('epoch') #Benennung der x-Achse\n",
    "plt.legend(['train', 'test'], loc='upper left')\n",
    "plt.show()\n",
    "\n",
    "print(result.history)"
   ]
  },
  {
   "cell_type": "code",
   "execution_count": 33,
   "metadata": {},
   "outputs": [],
   "source": [
    "# evaluate on the test dataset\n",
    "testInputPath = dsPath + '/test/images'\n",
    "testOutputPath = dsPath + '/test/masks'\n",
    "\n",
    "testGen = loadData(testInputPath, testOutputPath, batch_size)"
   ]
  },
  {
   "cell_type": "code",
   "execution_count": 34,
   "metadata": {},
   "outputs": [
    {
     "name": "stdout",
     "output_type": "stream",
     "text": [
      "Found 3922 images belonging to 1 classes.\n",
      "Found 3922 images belonging to 1 classes.\n",
      "(32, 224, 224, 1)\n",
      "(32, 224, 224, 1)\n",
      "123/122 [==============================] - 16s 131ms/step\n"
     ]
    },
    {
     "data": {
      "text/plain": [
       "[-0.4453386897520409,\n",
       " 0.6065994653696919,\n",
       " 0.4453386897520409,\n",
       " 0.6823134687954768,\n",
       " 0.5652145803856157,\n",
       " 0.16672384015140576]"
      ]
     },
     "execution_count": 34,
     "metadata": {},
     "output_type": "execute_result"
    }
   ],
   "source": [
    "model.evaluate_generator(testGen, steps=test_size/batch_size ,verbose=1 )"
   ]
  },
  {
   "cell_type": "code",
   "execution_count": 15,
   "metadata": {},
   "outputs": [
    {
     "name": "stdout",
     "output_type": "stream",
     "text": [
      "123/122 [==============================] - 16s 131ms/step\n"
     ]
    }
   ],
   "source": [
    "predict = model.predict_generator(testGen, steps=test_size/batch_size, verbose=1)"
   ]
  },
  {
   "cell_type": "code",
   "execution_count": 34,
   "metadata": {},
   "outputs": [
    {
     "name": "stdout",
     "output_type": "stream",
     "text": [
      "(3922, 224, 224, 1)\n"
     ]
    }
   ],
   "source": [
    "print (predict.shape)"
   ]
  },
  {
   "cell_type": "code",
   "execution_count": 16,
   "metadata": {},
   "outputs": [
    {
     "data": {
      "image/png": "[encoded data removed]",
      "text/plain": [
       "<Figure size 432x288 with 1 Axes>"
      ]
     },
     "metadata": {},
     "output_type": "display_data"
    }
   ],
   "source": [
    "b = 0\n",
    "i = 555\n",
    "plt.imshow(predict[i, ..., 0], cmap = 'gray')\n",
    "plt.show()\n",
    "#plt.imshow(testGen[b][i, ..., 0], cmap='gray')\n",
    "#plt.show()"
   ]
  },
  {
   "cell_type": "code",
   "execution_count": null,
   "metadata": {},
   "outputs": [],
   "source": []
  },
  {
   "cell_type": "code",
   "execution_count": null,
   "metadata": {},
   "outputs": [],
   "source": []
  }
 ],
 "metadata": {
  "kernelspec": {
   "display_name": "Python 3",
   "language": "python",
   "name": "python3"
  },
  "language_info": {
   "codemirror_mode": {
    "name": "ipython",
    "version": 3
   },
   "file_extension": ".py",
   "mimetype": "text/x-python",
   "name": "python",
   "nbconvert_exporter": "python",
   "pygments_lexer": "ipython3",
   "version": "3.6.2"
  }
 },
 "nbformat": 4,
 "nbformat_minor": 2
}
