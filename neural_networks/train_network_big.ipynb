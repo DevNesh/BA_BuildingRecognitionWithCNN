{
 "cells": [
  {
   "cell_type": "code",
   "execution_count": 1,
   "metadata": {},
   "outputs": [
    {
     "name": "stderr",
     "output_type": "stream",
     "text": [
      "Using TensorFlow backend.\n"
     ]
    }
   ],
   "source": [
    "import numpy as np\n",
    "import pandas as pd\n",
    "import matplotlib.pyplot as plt\n",
    "%matplotlib inline\n",
    "import keras.backend as K\n",
    "from keras.models import *\n",
    "from keras.layers import *\n",
    "from keras.optimizers import *\n",
    "from keras.callbacks import *\n",
    "from keras.losses import *\n",
    "from keras.preprocessing.image import ImageDataGenerator\n",
    "import skimage.io as io\n",
    "import skimage.transform as tr\n",
    "import skimage.color\n",
    "from sklearn.metrics import classification_report\n",
    "from glob import glob\n",
    "\n",
    "## Own Scripts\n",
    "from helper import * \n",
    "from loss_metrics import *\n",
    "from unet import *\n"
   ]
  },
  {
   "cell_type": "code",
   "execution_count": null,
   "metadata": {},
   "outputs": [],
   "source": [
    "# initialise train data\n",
    "train_size = 18300\n",
    "val_size = 3922\n",
    "test_size = 3922\n",
    "batch_size = 32\n",
    "dsPath = '/home/dan/Desktop/Datenset_Tower (Augmented)'\n",
    "epochs = 40"
   ]
  },
  {
   "cell_type": "code",
   "execution_count": null,
   "metadata": {},
   "outputs": [],
   "source": [
    "# create generators for training \n",
    "\n",
    "trainInputPath = dsPath + '/train/images'\n",
    "trainOutputPath = dsPath + '/train/masks'\n",
    "\n",
    "valInputPath = dsPath + '/validate/images'\n",
    "valOutputPath = dsPath + '/validate/masks'\n",
    "\n",
    "trainGen = loadData(trainInputPath, trainOutputPath, batch_size)\n",
    "valGen   = loadData(valInputPath, valOutputPath, batch_size)"
   ]
  },
  {
   "cell_type": "code",
   "execution_count": null,
   "metadata": {},
   "outputs": [],
   "source": [
    "# initialise new model\n",
    "model = None\n",
    "model = UNet((224,224,1), 1, 16, 5, 2.0)\n",
    "model.summary()"
   ]
  },
  {
   "cell_type": "code",
   "execution_count": null,
   "metadata": {},
   "outputs": [],
   "source": [
    "# load trained Model  \n",
    "from keras.models import load_model \n",
    "model = load_model('ds_step08.h5', custom_objects={'iou_loss': iou_loss})\n",
    "model.summary()"
   ]
  },
  {
   "cell_type": "code",
   "execution_count": null,
   "metadata": {},
   "outputs": [],
   "source": [
    "# create callbacks\n",
    "earlyStop = EarlyStopping(monitor='val_loss', patience = 5)\n",
    "checkpoint = ModelCheckpoint(dsPath + '/results/training02.h5', save_best_only=True)\n",
    "tensorBoard = keras.callbacks.TensorBoard(log_dir= dsPath + '/logs', histogram_freq=0, batch_size=batch_size, write_graph=True, write_grads=False, write_images=False, embeddings_freq=0, embeddings_layer_names=None, embeddings_metadata=None, embeddings_data=None)"
   ]
  },
  {
   "cell_type": "code",
   "execution_count": null,
   "metadata": {},
   "outputs": [],
   "source": [
    "# compile the model\n",
    "model.compile(optimizer=Adam(lr=0.0001), loss=iou_loss, metrics=[f1, iou, precision, recall, error])"
   ]
  },
  {
   "cell_type": "code",
   "execution_count": null,
   "metadata": {
    "scrolled": false
   },
   "outputs": [],
   "source": [
    "# train and validate the model \n",
    "result = model.fit_generator(trainGen, steps_per_epoch= train_size/batch_size, epochs=epochs, validation_data=valGen, validation_steps=val_size/batch_size, verbose=1, shuffle=True, callbacks=[earlyStop, checkpoint])"
   ]
  },
  {
   "cell_type": "code",
   "execution_count": null,
   "metadata": {},
   "outputs": [],
   "source": [
    "model.save(dsPath + '/results/training_01.h5')"
   ]
  },
  {
   "cell_type": "code",
   "execution_count": null,
   "metadata": {},
   "outputs": [],
   "source": [
    "# list all data in history\n",
    "\n",
    "print(result.history.keys())\n",
    "# summarize history for accuracy\n",
    "plt.plot(result.history['acc'])\n",
    "plt.plot(result.history['val_acc'])\n",
    "plt.title('model accuracy') #Benennung des Grafen\n",
    "plt.ylabel('accuracy') #Benennung der y-Achse\n",
    "plt.xlabel('epoch')    #Benennung der x-Achse\n",
    "plt.legend(['train', 'test'], loc='upper left')\n",
    "plt.show()\n",
    "\n",
    "# summarize history for loss\n",
    "plt.plot(result.history['loss'])\n",
    "plt.plot(result.history['val_loss'])\n",
    "plt.title('model loss') #Benennung des Grafen\n",
    "plt.ylabel('loss')  #Benennung der y-Achse\n",
    "plt.xlabel('epoch') #Benennung der x-Achse\n",
    "plt.legend(['train', 'test'], loc='upper left')\n",
    "plt.show()\n",
    "\n",
    "print(result.history)"
   ]
  },
  {
   "cell_type": "code",
   "execution_count": null,
   "metadata": {},
   "outputs": [],
   "source": [
    "# evaluate on the test dataset\n",
    "testInputPath = dsPath + '/test/images'\n",
    "testOutputPath = dsPath + '/test/masks'\n",
    "\n",
    "testGen = loadData(testInputPath, testOutputPath, batch_size)"
   ]
  },
  {
   "cell_type": "code",
   "execution_count": null,
   "metadata": {},
   "outputs": [],
   "source": [
    "model.evaluate_generator(testGen, steps=test_size/batch_size ,verbose=1 )"
   ]
  },
  {
   "cell_type": "code",
   "execution_count": null,
   "metadata": {},
   "outputs": [],
   "source": [
    "predict = model.predict_generator(testGen, steps=test_size/batch_size, verbose=1)"
   ]
  },
  {
   "cell_type": "code",
   "execution_count": null,
   "metadata": {},
   "outputs": [],
   "source": [
    "print (predict.shape)"
   ]
  },
  {
   "cell_type": "code",
   "execution_count": null,
   "metadata": {},
   "outputs": [],
   "source": [
    "b = 0\n",
    "i = 9\n",
    "plt.imshow(predict[i, ..., 0], cmap = 'gray')\n",
    "plt.show()\n",
    "#plt.imshow(testGen[b][i, ..., 0], cmap='gray')\n",
    "#plt.show()"
   ]
  },
  {
   "cell_type": "code",
   "execution_count": null,
   "metadata": {},
   "outputs": [],
   "source": []
  },
  {
   "cell_type": "code",
   "execution_count": null,
   "metadata": {},
   "outputs": [],
   "source": []
  }
 ],
 "metadata": {
  "kernelspec": {
   "display_name": "TensorFlow-GPU",
   "language": "python",
   "name": "tf-gpu"
  },
  "language_info": {
   "codemirror_mode": {
    "name": "ipython",
    "version": 3
   },
   "file_extension": ".py",
   "mimetype": "text/x-python",
   "name": "python",
   "nbconvert_exporter": "python",
   "pygments_lexer": "ipython3",
   "version": "3.6.6"
  }
 },
 "nbformat": 4,
 "nbformat_minor": 2
}
