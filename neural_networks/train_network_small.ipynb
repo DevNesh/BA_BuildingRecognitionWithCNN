{
 "cells": [
  {
   "cell_type": "code",
   "execution_count": null,
   "metadata": {},
   "outputs": [],
   "source": [
    "import numpy as np\n",
    "import pandas as pd\n",
    "import matplotlib.pyplot as plt\n",
    "%matplotlib inline\n",
    "import keras.backend as K\n",
    "from keras.models import *\n",
    "from keras.layers import *\n",
    "from keras.optimizers import *\n",
    "from keras.callbacks import *\n",
    "from keras.losses import *\n",
    "import skimage.io as io\n",
    "import skimage.transform as tr\n",
    "import skimage.color\n",
    "import dask.array as da\n",
    "from glob import glob\n",
    "from dask.array.image import imread\n",
    "\n",
    "import helper\n",
    "import loss_metrics"
   ]
  },
  {
   "cell_type": "code",
   "execution_count": null,
   "metadata": {
    "scrolled": true
   },
   "outputs": [],
   "source": [
    "# Saves the data into a variable (x = input, y = masks / ground truth)\n",
    "x = read_imgs('/home/dan/Desktop/Neural Network/data/dataset1_1/images/data/*.png', (224,224,1))\n",
    "y = read_imgs('/home/dan/Desktop/Neural Network/data/dataset1_1/masks/data/*.png', (224,224,1))"
   ]
  },
  {
   "cell_type": "code",
   "execution_count": null,
   "metadata": {},
   "outputs": [],
   "source": [
    "# Plots the images in jupyter notebook for comparison\n",
    "i = 95\n",
    "print(x[i, ..., 0].shape)\n",
    "plt.imshow(x[i, ..., 0], cmap = 'gray')\n",
    "plt.show()\n",
    "plt.imshow(y[i, ..., 0], cmap='gray')\n",
    "plt.show()"
   ]
  },
  {
   "cell_type": "markdown",
   "metadata": {
    "collapsed": true
   },
   "source": [
    "#Altes Modell laden\n",
    "from keras.models import load_model\n",
    "model = load_model('modelsave2.h5', custom_objects={'iou_loss': iou_loss})\n",
    "\n",
    "model.summary()"
   ]
  },
  {
   "cell_type": "code",
   "execution_count": null,
   "metadata": {},
   "outputs": [],
   "source": [
    "# Defining the model \n",
    "from unet import UNet\n",
    "model = None\n",
    "model = UNet((224,224,1), 1, 16, 4, 2.0)\n",
    "model.summary()"
   ]
  },
  {
   "cell_type": "code",
   "execution_count": null,
   "metadata": {},
   "outputs": [],
   "source": [
    "model.compile(optimizer=Adam(lr=0.0001), loss=iou_loss, metrics=['accuracy'])"
   ]
  },
  {
   "cell_type": "code",
   "execution_count": null,
   "metadata": {
    "scrolled": true
   },
   "outputs": [],
   "source": [
    "train = 2043 # = 80% of all given data  \n",
    "model.fit(x[:train], y[:train], batch_size=32, epochs=10,\n",
    "         validation_data=(x[train:], y[train:]), shuffle=True)"
   ]
  },
  {
   "cell_type": "code",
   "execution_count": null,
   "metadata": {},
   "outputs": [],
   "source": [
    "# makes a prediction for the whole dataset\n",
    "pred = model.predict(x, verbose=1)"
   ]
  },
  {
   "cell_type": "code",
   "execution_count": null,
   "metadata": {},
   "outputs": [],
   "source": [
    "# Plots the prediction in jupyter notebook for comparison\n",
    "i = 80\n",
    "plt.imshow(x[i, ..., 0], cmap='gray')\n",
    "plt.show()\n",
    "plt.imshow(y[i, ..., 0], cmap='gray')\n",
    "plt.show()\n",
    "plt.imshow(pred[i, ..., 0], cmap='gray')\n",
    "plt.show()"
   ]
  },
  {
   "cell_type": "markdown",
   "metadata": {},
   "source": [
    "# Save the Model\n",
    "Speichert\n",
    "* die Architektur\n",
    "* die Gewichte\n",
    "* die Trainingskonfigurationen (loss, optimizer)\n",
    "* State des Optimizers"
   ]
  },
  {
   "cell_type": "code",
   "execution_count": null,
   "metadata": {},
   "outputs": [],
   "source": [
    "model.save('ds1_1_small.h5')"
   ]
  },
  {
   "cell_type": "code",
   "execution_count": null,
   "metadata": {},
   "outputs": [],
   "source": []
  },
  {
   "cell_type": "code",
   "execution_count": null,
   "metadata": {},
   "outputs": [],
   "source": []
  }
 ],
 "metadata": {
  "kernelspec": {
   "display_name": "Python 3",
   "language": "python",
   "name": "python3"
  },
  "language_info": {
   "codemirror_mode": {
    "name": "ipython",
    "version": 3
   },
   "file_extension": ".py",
   "mimetype": "text/x-python",
   "name": "python",
   "nbconvert_exporter": "python",
   "pygments_lexer": "ipython3",
   "version": "3.6.6"
  }
 },
 "nbformat": 4,
 "nbformat_minor": 2
}
