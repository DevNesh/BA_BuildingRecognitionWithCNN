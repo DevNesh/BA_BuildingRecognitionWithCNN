{
 "cells": [
  {
   "cell_type": "markdown",
   "metadata": {},
   "source": [
    "# Train a small dataset\n",
    "by DevNesh"
   ]
  },
  {
   "cell_type": "code",
   "execution_count": null,
   "metadata": {},
   "outputs": [],
   "source": [
    "# Import statements\n",
    "import numpy as np\n",
    "import pandas as pd\n",
    "import matplotlib.pyplot as plt\n",
    "%matplotlib inline\n",
    "import keras.backend as K\n",
    "from keras.models import *\n",
    "from keras.layers import *\n",
    "from keras.optimizers import *\n",
    "from keras.callbacks import *\n",
    "from keras.losses import *\n",
    "import skimage.io as io\n",
    "import skimage.transform as tr\n",
    "import skimage.color\n",
    "import dask.array as da\n",
    "from glob import glob\n",
    "from dask.array.image import imread\n",
    "\n",
    "import helper\n",
    "import loss_metrics"
   ]
  },
  {
   "cell_type": "markdown",
   "metadata": {},
   "source": [
    "## Load Data"
   ]
  },
  {
   "cell_type": "code",
   "execution_count": null,
   "metadata": {
    "scrolled": true
   },
   "outputs": [],
   "source": [
    "# Saves the data into a variable (x = input, y = masks / ground truth)\n",
    "x = read_imgs('/home/dan/Desktop/Neural Network/data/dataset1_1/images/data/*.png', (224,224,1))\n",
    "y = read_imgs('/home/dan/Desktop/Neural Network/data/dataset1_1/masks/data/*.png', (224,224,1))"
   ]
  },
  {
   "cell_type": "code",
   "execution_count": null,
   "metadata": {},
   "outputs": [],
   "source": [
    "# Plots the images in jupyter notebook for checking\n",
    "i = 95\n",
    "print(x[i, ..., 0].shape)\n",
    "\n",
    "# Input\n",
    "plt.imshow(x[i, ..., 0], cmap = 'gray')\n",
    "plt.show()\n",
    "\n",
    "# Ground Truth\n",
    "plt.imshow(y[i, ..., 0], cmap='gray')\n",
    "plt.show()"
   ]
  },
  {
   "cell_type": "markdown",
   "metadata": {},
   "source": [
    "## Load Model"
   ]
  },
  {
   "cell_type": "code",
   "execution_count": null,
   "metadata": {},
   "outputs": [],
   "source": [
    "# loads an saved model \n",
    "from keras.models import load_model\n",
    "model = load_model('modelsave2.h5', custom_objects={'iou_loss': iou_loss})\n",
    "model.summary()"
   ]
  },
  {
   "cell_type": "code",
   "execution_count": null,
   "metadata": {},
   "outputs": [],
   "source": [
    "# defining the U-Net model \n",
    "from unet import UNet\n",
    "model = None\n",
    "model = UNet((224,224,1), 1, 16, 4, 2.0)\n",
    "model.summary()"
   ]
  },
  {
   "cell_type": "code",
   "execution_count": null,
   "metadata": {},
   "outputs": [],
   "source": [
    "# create callbacks\n",
    "earlyStop = EarlyStopping(monitor='val_loss', patience = 5)\n",
    "checkpoint = ModelCheckpoint('training_01.h5', save_best_only=True)"
   ]
  },
  {
   "cell_type": "markdown",
   "metadata": {},
   "source": [
    "## Train Model"
   ]
  },
  {
   "cell_type": "code",
   "execution_count": null,
   "metadata": {},
   "outputs": [],
   "source": [
    "# compile the model, learnng rate and loss function have to be set\n",
    "model.compile(optimizer=Adam(lr=0.0001), loss=iou_loss, metrics=['accuracy'])"
   ]
  },
  {
   "cell_type": "code",
   "execution_count": null,
   "metadata": {
    "scrolled": true
   },
   "outputs": [],
   "source": [
    "# train the model\n",
    "train = 2043 # = 80% of all given data  \n",
    "result = model.fit(x[:train], y[:train], batch_size=32, epochs=10, validation_data=(x[train:], y[train:]), shuffle=True, callbacks=[earlyStop, checkpoint])"
   ]
  },
  {
   "cell_type": "markdown",
   "metadata": {},
   "source": [
    "## Show Results"
   ]
  },
  {
   "cell_type": "code",
   "execution_count": null,
   "metadata": {},
   "outputs": [],
   "source": [
    "# list data from history\n",
    "print(result.history.keys())\n",
    "\n",
    "# plot graph for loss \n",
    "plt.plot(result.history['loss'])\n",
    "plt.plot(result.history['val_loss'])\n",
    "plt.title('model loss') # name of graph\n",
    "plt.ylabel('loss')  #name of y-axis\n",
    "plt.xlabel('epoch') #name of x-axis\n",
    "plt.legend(['train', 'test'], loc='upper left')\n",
    "plt.show()\n",
    "\n",
    "# list all information\n",
    "print(result.history)"
   ]
  },
  {
   "cell_type": "markdown",
   "metadata": {},
   "source": [
    "## Save Model"
   ]
  },
  {
   "cell_type": "code",
   "execution_count": null,
   "metadata": {},
   "outputs": [],
   "source": [
    "# saves the model\n",
    "model.save('ds1_1_small.h5')"
   ]
  }
 ],
 "metadata": {
  "kernelspec": {
   "display_name": "Python 3",
   "language": "python",
   "name": "python3"
  },
  "language_info": {
   "codemirror_mode": {
    "name": "ipython",
    "version": 3
   },
   "file_extension": ".py",
   "mimetype": "text/x-python",
   "name": "python",
   "nbconvert_exporter": "python",
   "pygments_lexer": "ipython3",
   "version": "3.6.6"
  }
 },
 "nbformat": 4,
 "nbformat_minor": 2
}
