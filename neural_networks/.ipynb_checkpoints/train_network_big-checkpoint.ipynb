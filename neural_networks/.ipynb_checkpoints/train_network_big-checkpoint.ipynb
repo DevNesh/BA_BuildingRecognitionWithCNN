{
 "cells": [
  {
   "cell_type": "code",
   "execution_count": 1,
   "metadata": {},
   "outputs": [
    {
     "name": "stderr",
     "output_type": "stream",
     "text": [
      "Using TensorFlow backend.\n"
     ]
    }
   ],
   "source": [
    "import numpy as np\n",
    "import pandas as pd\n",
    "import matplotlib.pyplot as plt\n",
    "%matplotlib inline\n",
    "import keras.backend as K\n",
    "from keras.models import *\n",
    "from keras.layers import *\n",
    "from keras.optimizers import *\n",
    "from keras.callbacks import *\n",
    "from keras.losses import *\n",
    "from keras.preprocessing.image import ImageDataGenerator\n",
    "import skimage.io as io\n",
    "import skimage.transform as tr\n",
    "import skimage.color\n",
    "from glob import glob\n",
    "\n",
    "## Own Scripts\n",
    "from helper import * \n",
    "from loss_metrics import *\n",
    "from unet import *\n"
   ]
  },
  {
   "cell_type": "code",
   "execution_count": 2,
   "metadata": {},
   "outputs": [],
   "source": [
    "# Initialise variables\n",
    "train_size = 18300\n",
    "val_size = 3922\n",
    "batch_size = 32"
   ]
  },
  {
   "cell_type": "code",
   "execution_count": 3,
   "metadata": {},
   "outputs": [],
   "source": [
    "# create generators for training \n",
    "\n",
    "trainInputPath = '/home/dan/Desktop/Datenset_TowerBuilding/train/images'\n",
    "trainOutputPath = '/home/dan/Desktop/Datenset_TowerBuilding/train/masks'\n",
    "\n",
    "valInputPath = '/home/dan/Desktop/Datenset_TowerBuilding/validate/images'\n",
    "valOutputPath = '/home/dan/Desktop/Datenset_TowerBuilding/validate/masks'\n",
    "\n",
    "trainGen = loadData(trainInputPath, trainOutputPath, batch_size)\n",
    "valGen   = loadData(valInputPath, valOutputPath, batch_size)"
   ]
  },
  {
   "cell_type": "code",
   "execution_count": 4,
   "metadata": {},
   "outputs": [
    {
     "name": "stdout",
     "output_type": "stream",
     "text": [
      "__________________________________________________________________________________________________\n",
      "Layer (type)                    Output Shape         Param #     Connected to                     \n",
      "==================================================================================================\n",
      "input_1 (InputLayer)            (None, 224, 224, 1)  0                                            \n",
      "__________________________________________________________________________________________________\n",
      "conv2d_1 (Conv2D)               (None, 224, 224, 16) 160         input_1[0][0]                    \n",
      "__________________________________________________________________________________________________\n",
      "conv2d_2 (Conv2D)               (None, 224, 224, 16) 2320        conv2d_1[0][0]                   \n",
      "__________________________________________________________________________________________________\n",
      "max_pooling2d_1 (MaxPooling2D)  (None, 112, 112, 16) 0           conv2d_2[0][0]                   \n",
      "__________________________________________________________________________________________________\n",
      "conv2d_3 (Conv2D)               (None, 112, 112, 32) 4640        max_pooling2d_1[0][0]            \n",
      "__________________________________________________________________________________________________\n",
      "conv2d_4 (Conv2D)               (None, 112, 112, 32) 9248        conv2d_3[0][0]                   \n",
      "__________________________________________________________________________________________________\n",
      "max_pooling2d_2 (MaxPooling2D)  (None, 56, 56, 32)   0           conv2d_4[0][0]                   \n",
      "__________________________________________________________________________________________________\n",
      "conv2d_5 (Conv2D)               (None, 56, 56, 64)   18496       max_pooling2d_2[0][0]            \n",
      "__________________________________________________________________________________________________\n",
      "conv2d_6 (Conv2D)               (None, 56, 56, 64)   36928       conv2d_5[0][0]                   \n",
      "__________________________________________________________________________________________________\n",
      "max_pooling2d_3 (MaxPooling2D)  (None, 28, 28, 64)   0           conv2d_6[0][0]                   \n",
      "__________________________________________________________________________________________________\n",
      "conv2d_7 (Conv2D)               (None, 28, 28, 128)  73856       max_pooling2d_3[0][0]            \n",
      "__________________________________________________________________________________________________\n",
      "conv2d_8 (Conv2D)               (None, 28, 28, 128)  147584      conv2d_7[0][0]                   \n",
      "__________________________________________________________________________________________________\n",
      "max_pooling2d_4 (MaxPooling2D)  (None, 14, 14, 128)  0           conv2d_8[0][0]                   \n",
      "__________________________________________________________________________________________________\n",
      "conv2d_9 (Conv2D)               (None, 14, 14, 256)  295168      max_pooling2d_4[0][0]            \n",
      "__________________________________________________________________________________________________\n",
      "dropout_1 (Dropout)             (None, 14, 14, 256)  0           conv2d_9[0][0]                   \n",
      "__________________________________________________________________________________________________\n",
      "conv2d_10 (Conv2D)              (None, 14, 14, 256)  590080      dropout_1[0][0]                  \n",
      "__________________________________________________________________________________________________\n",
      "up_sampling2d_1 (UpSampling2D)  (None, 28, 28, 256)  0           conv2d_10[0][0]                  \n",
      "__________________________________________________________________________________________________\n",
      "conv2d_11 (Conv2D)              (None, 28, 28, 128)  131200      up_sampling2d_1[0][0]            \n",
      "__________________________________________________________________________________________________\n",
      "concatenate_1 (Concatenate)     (None, 28, 28, 256)  0           conv2d_8[0][0]                   \n",
      "                                                                 conv2d_11[0][0]                  \n",
      "__________________________________________________________________________________________________\n",
      "conv2d_12 (Conv2D)              (None, 28, 28, 128)  295040      concatenate_1[0][0]              \n",
      "__________________________________________________________________________________________________\n",
      "conv2d_13 (Conv2D)              (None, 28, 28, 128)  147584      conv2d_12[0][0]                  \n",
      "__________________________________________________________________________________________________\n",
      "up_sampling2d_2 (UpSampling2D)  (None, 56, 56, 128)  0           conv2d_13[0][0]                  \n",
      "__________________________________________________________________________________________________\n",
      "conv2d_14 (Conv2D)              (None, 56, 56, 64)   32832       up_sampling2d_2[0][0]            \n",
      "__________________________________________________________________________________________________\n",
      "concatenate_2 (Concatenate)     (None, 56, 56, 128)  0           conv2d_6[0][0]                   \n",
      "                                                                 conv2d_14[0][0]                  \n",
      "__________________________________________________________________________________________________\n",
      "conv2d_15 (Conv2D)              (None, 56, 56, 64)   73792       concatenate_2[0][0]              \n",
      "__________________________________________________________________________________________________\n",
      "conv2d_16 (Conv2D)              (None, 56, 56, 64)   36928       conv2d_15[0][0]                  \n",
      "__________________________________________________________________________________________________\n",
      "up_sampling2d_3 (UpSampling2D)  (None, 112, 112, 64) 0           conv2d_16[0][0]                  \n",
      "__________________________________________________________________________________________________\n",
      "conv2d_17 (Conv2D)              (None, 112, 112, 32) 8224        up_sampling2d_3[0][0]            \n",
      "__________________________________________________________________________________________________\n",
      "concatenate_3 (Concatenate)     (None, 112, 112, 64) 0           conv2d_4[0][0]                   \n",
      "                                                                 conv2d_17[0][0]                  \n",
      "__________________________________________________________________________________________________\n",
      "conv2d_18 (Conv2D)              (None, 112, 112, 32) 18464       concatenate_3[0][0]              \n",
      "__________________________________________________________________________________________________\n",
      "conv2d_19 (Conv2D)              (None, 112, 112, 32) 9248        conv2d_18[0][0]                  \n",
      "__________________________________________________________________________________________________\n",
      "up_sampling2d_4 (UpSampling2D)  (None, 224, 224, 32) 0           conv2d_19[0][0]                  \n",
      "__________________________________________________________________________________________________\n",
      "conv2d_20 (Conv2D)              (None, 224, 224, 16) 2064        up_sampling2d_4[0][0]            \n",
      "__________________________________________________________________________________________________\n",
      "concatenate_4 (Concatenate)     (None, 224, 224, 32) 0           conv2d_2[0][0]                   \n",
      "                                                                 conv2d_20[0][0]                  \n",
      "__________________________________________________________________________________________________\n",
      "conv2d_21 (Conv2D)              (None, 224, 224, 16) 4624        concatenate_4[0][0]              \n",
      "__________________________________________________________________________________________________\n",
      "conv2d_22 (Conv2D)              (None, 224, 224, 16) 2320        conv2d_21[0][0]                  \n",
      "__________________________________________________________________________________________________\n",
      "conv2d_23 (Conv2D)              (None, 224, 224, 1)  17          conv2d_22[0][0]                  \n",
      "==================================================================================================\n",
      "Total params: 1,940,817\n",
      "Trainable params: 1,940,817\n",
      "Non-trainable params: 0\n",
      "__________________________________________________________________________________________________\n"
     ]
    }
   ],
   "source": [
    "# Neues Modell initialisieren\n",
    "model = None\n",
    "model = UNet((224,224,1), 1, 16, 4, 2.0)\n",
    "model.summary()"
   ]
  },
  {
   "cell_type": "code",
   "execution_count": null,
   "metadata": {},
   "outputs": [],
   "source": [
    "#Altes Modell laden \n",
    "from keras.models import load_model \n",
    "model = load_model('ds_step08.h5', custom_objects={'iou_loss': iou_loss})\n",
    "model.summary()"
   ]
  },
  {
   "cell_type": "code",
   "execution_count": 5,
   "metadata": {},
   "outputs": [],
   "source": [
    "model.compile(optimizer=Adam(lr=0.0001), loss=iou_loss, metrics=['accuracy'])"
   ]
  },
  {
   "cell_type": "code",
   "execution_count": 6,
   "metadata": {
    "scrolled": false
   },
   "outputs": [
    {
     "name": "stdout",
     "output_type": "stream",
     "text": [
      "Epoch 1/10\n",
      "Found 18300 images belonging to 1 classes.\n",
      "Found 18300 images belonging to 1 classes.\n",
      "(32, 224, 224, 1)\n",
      "(32, 224, 224, 1)\n",
      "571/571 [============================>.] - ETA: 0s - loss: -0.1412 - acc: 0.9286Found 3922 images belonging to 1 classes.\n",
      "Found 3922 images belonging to 1 classes.\n",
      "(32, 224, 224, 1)\n",
      "(32, 224, 224, 1)\n",
      "572/571 [==============================] - 156s 272ms/step - loss: -0.1413 - acc: 0.9286 - val_loss: -0.1312 - val_acc: 0.9759\n",
      "Epoch 2/10\n",
      "572/571 [==============================] - 148s 260ms/step - loss: -0.2118 - acc: 0.9651 - val_loss: -0.1566 - val_acc: 0.9807\n",
      "Epoch 3/10\n",
      "572/571 [==============================] - 149s 260ms/step - loss: -0.2460 - acc: 0.9722 - val_loss: -0.2152 - val_acc: 0.9824\n",
      "Epoch 4/10\n",
      "572/571 [==============================] - 149s 261ms/step - loss: -0.2748 - acc: 0.9745 - val_loss: -0.2586 - val_acc: 0.9816\n",
      "Epoch 5/10\n",
      "572/571 [==============================] - 149s 261ms/step - loss: -0.3098 - acc: 0.9777 - val_loss: -0.3041 - val_acc: 0.9813\n",
      "Epoch 6/10\n",
      "572/571 [==============================] - 149s 261ms/step - loss: -0.3423 - acc: 0.9801 - val_loss: -0.3363 - val_acc: 0.9837\n",
      "Epoch 7/10\n",
      "572/571 [==============================] - 150s 262ms/step - loss: -0.3833 - acc: 0.9823 - val_loss: -0.3610 - val_acc: 0.9852\n",
      "Epoch 8/10\n",
      "572/571 [==============================] - 149s 261ms/step - loss: -0.4217 - acc: 0.9842 - val_loss: -0.3787 - val_acc: 0.9858\n",
      "Epoch 9/10\n",
      "572/571 [==============================] - 150s 261ms/step - loss: -0.4454 - acc: 0.9853 - val_loss: -0.4122 - val_acc: 0.9864\n",
      "Epoch 10/10\n",
      "572/571 [==============================] - 150s 262ms/step - loss: -0.4701 - acc: 0.9865 - val_loss: -0.4353 - val_acc: 0.9875\n"
     ]
    }
   ],
   "source": [
    "# Train and validate the model \n",
    "result = model.fit_generator(trainGen, steps_per_epoch= train_size/batch_size, epochs=10, validation_data=valGen, validation_steps=val_size/batch_size, verbose=1, shuffle=False)"
   ]
  },
  {
   "cell_type": "code",
   "execution_count": 15,
   "metadata": {},
   "outputs": [],
   "source": [
    "model.save('/home/dan/Desktop/Datenset_Tower/results/training_02.h5')"
   ]
  },
  {
   "cell_type": "code",
   "execution_count": 7,
   "metadata": {},
   "outputs": [
    {
     "name": "stdout",
     "output_type": "stream",
     "text": [
      "dict_keys(['val_loss', 'val_acc', 'loss', 'acc'])\n"
     ]
    },
    {
     "data": {
      "image/png": "[encoded data removed]",
      "text/plain": [
       "<Figure size 432x288 with 1 Axes>"
      ]
     },
     "metadata": {},
     "output_type": "display_data"
    },
    {
     "data": {
      "image/png": "[encoded data removed]",
      "text/plain": [
       "<Figure size 432x288 with 1 Axes>"
      ]
     },
     "metadata": {},
     "output_type": "display_data"
    }
   ],
   "source": [
    "# list all data in history\n",
    "\n",
    "print(result.history.keys())\n",
    "# summarize history for accuracy\n",
    "plt.plot(result.history['acc'])\n",
    "plt.plot(result.history['val_acc'])\n",
    "plt.title('model accuracy') #Benennung des Grafen\n",
    "plt.ylabel('accuracy') #Benennung der y-Achse\n",
    "plt.xlabel('epoch')    #Benennung der x-Achse\n",
    "plt.legend(['train', 'test'], loc='upper left')\n",
    "plt.show()\n",
    "\n",
    "# summarize history for loss\n",
    "plt.plot(result.history['loss'])\n",
    "plt.plot(result.history['val_loss'])\n",
    "plt.title('model loss') #Benennung des Grafen\n",
    "plt.ylabel('loss')  #Benennung der y-Achse\n",
    "plt.xlabel('epoch') #Benennung der x-Achse\n",
    "plt.legend(['train', 'test'], loc='upper left')\n",
    "plt.show()"
   ]
  },
  {
   "cell_type": "code",
   "execution_count": 9,
   "metadata": {},
   "outputs": [],
   "source": [
    "# Evaluate on the test dataset\n",
    "testInputPath = '/home/dan/Desktop/Datenset_Tower/test/images'\n",
    "testOutputPath = '/home/dan/Desktop/Datenset_Tower/test/masks'\n",
    "\n",
    "testGen = loadData(testInputPath, testOutputPath, batch_size)"
   ]
  },
  {
   "cell_type": "code",
   "execution_count": 10,
   "metadata": {},
   "outputs": [
    {
     "name": "stdout",
     "output_type": "stream",
     "text": [
      "Found 3922 images belonging to 1 classes.\n",
      "Found 3922 images belonging to 1 classes.\n",
      "(32, 224, 224, 1)\n",
      "(32, 224, 224, 1)\n",
      "123/122 [==============================] - 11s 88ms/step\n"
     ]
    },
    {
     "data": {
      "text/plain": [
       "[-0.4396872049627834, 0.9908012403388949]"
      ]
     },
     "execution_count": 10,
     "metadata": {},
     "output_type": "execute_result"
    }
   ],
   "source": [
    "model.evaluate_generator(testGen, steps=3922/32 ,verbose=1 )"
   ]
  },
  {
   "cell_type": "code",
   "execution_count": 11,
   "metadata": {},
   "outputs": [
    {
     "name": "stdout",
     "output_type": "stream",
     "text": [
      "122/122 [==============================] - 10s 85ms/step\n"
     ]
    }
   ],
   "source": [
    "predict = model.predict_generator(testGen, steps=3922//batch_size, verbose=1)"
   ]
  },
  {
   "cell_type": "code",
   "execution_count": 12,
   "metadata": {},
   "outputs": [
    {
     "name": "stdout",
     "output_type": "stream",
     "text": [
      "(3890, 224, 224, 1)\n"
     ]
    }
   ],
   "source": [
    "print (predict.shape)"
   ]
  },
  {
   "cell_type": "code",
   "execution_count": 14,
   "metadata": {},
   "outputs": [
    {
     "data": {
      "image/png": "[encoded data removed]",
      "text/plain": [
       "<Figure size 432x288 with 1 Axes>"
      ]
     },
     "metadata": {},
     "output_type": "display_data"
    }
   ],
   "source": [
    "b = 0\n",
    "i = 3\n",
    "plt.imshow(predict[i, ..., 0], cmap = 'gray')\n",
    "plt.show()\n",
    "#plt.imshow(testGen[b][i, ..., 0], cmap='gray')\n",
    "#plt.show()"
   ]
  },
  {
   "cell_type": "code",
   "execution_count": null,
   "metadata": {},
   "outputs": [],
   "source": []
  }
 ],
 "metadata": {
  "kernelspec": {
   "display_name": "TensorFlow-GPU",
   "language": "python",
   "name": "tf-gpu"
  },
  "language_info": {
   "codemirror_mode": {
    "name": "ipython",
    "version": 3
   },
   "file_extension": ".py",
   "mimetype": "text/x-python",
   "name": "python",
   "nbconvert_exporter": "python",
   "pygments_lexer": "ipython3",
   "version": "3.6.6"
  }
 },
 "nbformat": 4,
 "nbformat_minor": 2
}
