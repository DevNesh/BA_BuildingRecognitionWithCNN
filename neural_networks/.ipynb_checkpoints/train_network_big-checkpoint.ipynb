{
 "cells": [
  {
   "cell_type": "code",
   "execution_count": null,
   "metadata": {},
   "outputs": [],
   "source": [
    "import numpy as np\n",
    "import pandas as pd\n",
    "import matplotlib.pyplot as plt\n",
    "%matplotlib inline\n",
    "import keras.backend as K\n",
    "from keras.models import *\n",
    "from keras.layers import *\n",
    "from keras.optimizers import *\n",
    "from keras.callbacks import *\n",
    "from keras.losses import *\n",
    "from keras.preprocessing.image import ImageDataGenerator\n",
    "import skimage.io as io\n",
    "import skimage.transform as tr\n",
    "import skimage.color\n",
    "from glob import glob\n",
    "\n",
    "## Own Scripts\n",
    "import helper\n",
    "import loss_metrics \n",
    "from unet import UNet\n"
   ]
  },
  {
   "cell_type": "code",
   "execution_count": null,
   "metadata": {},
   "outputs": [],
   "source": [
    "# Initialise variables\n",
    "train_size = 18300\n",
    "val_size = 3922\n",
    "batch_size = 32"
   ]
  },
  {
   "cell_type": "code",
   "execution_count": null,
   "metadata": {},
   "outputs": [],
   "source": [
    "# create generators for training \n",
    "\n",
    "trainInputPath = '/home/dan/Desktop/Datenset_TowerBuilding/train/images'\n",
    "trainOutputPath = '/home/dan/Desktop/Datenset_TowerBuilding/train/masks'\n",
    "\n",
    "valInputPath = '/home/dan/Desktop/Datenset_TowerBuilding/validate/images'\n",
    "valOutputPath = '/home/dan/Desktop/Datenset_TowerBuilding/validate/masks'\n",
    "\n",
    "trainGen = loadData(trainInputPath, trainOutputPath, batch_size)\n",
    "valGen   = loadData(valInputPath, valOutputPath, batch_size)\n"
   ]
  },
  {
   "cell_type": "code",
   "execution_count": null,
   "metadata": {},
   "outputs": [],
   "source": [
    "# Neues Modell initialisieren\n",
    "model = None\n",
    "model = UNet((224,224,1), 1, 16, 4, 2.0)\n",
    "model.summary()"
   ]
  },
  {
   "cell_type": "code",
   "execution_count": null,
   "metadata": {},
   "outputs": [],
   "source": [
    "#Altes Modell laden \n",
    "from keras.models import load_model \n",
    "model = load_model('ds_step08.h5', custom_objects={'iou_loss': iou_loss})\n",
    "model.summary()"
   ]
  },
  {
   "cell_type": "code",
   "execution_count": null,
   "metadata": {},
   "outputs": [],
   "source": [
    "model.compile(optimizer=Adam(lr=0.0001), loss=iou_loss, metrics=['accuracy'])"
   ]
  },
  {
   "cell_type": "code",
   "execution_count": null,
   "metadata": {
    "scrolled": true
   },
   "outputs": [],
   "source": [
    "# Train and validate the model \n",
    "result = model.fit_generator(trainGen, steps_per_epoch= train_size/batch_size, epochs=10, validation_data=valGen, validation_steps=val_size/batch_size, verbose=1, shuffle=True)\n",
    "print (result.history)"
   ]
  },
  {
   "cell_type": "code",
   "execution_count": null,
   "metadata": {},
   "outputs": [],
   "source": [
    "model.save('/home/dan/Desktop/Datenset_TowerBuilding/results/training01.h5')"
   ]
  },
  {
   "cell_type": "code",
   "execution_count": null,
   "metadata": {},
   "outputs": [],
   "source": [
    "# list all data in history\n",
    "\n",
    "print(result.history.keys())\n",
    "# summarize history for accuracy\n",
    "plt.plot(result.history['acc'])\n",
    "plt.plot(result.history['val_acc'])\n",
    "plt.title('model accuracy') #Benennung des Grafen\n",
    "plt.ylabel('accuracy') #Benennung der y-Achse\n",
    "plt.xlabel('epoch')    #Benennung der x-Achse\n",
    "plt.legend(['train', 'test'], loc='upper left')\n",
    "plt.show()\n",
    "\n",
    "# summarize history for loss\n",
    "plt.plot(result.history['loss'])\n",
    "plt.plot(result.history['val_loss'])\n",
    "plt.title('model loss') #Benennung des Grafen\n",
    "plt.ylabel('loss')  #Benennung der y-Achse\n",
    "plt.xlabel('epoch') #Benennung der x-Achse\n",
    "plt.legend(['train', 'test'], loc='upper left')\n",
    "plt.show()"
   ]
  },
  {
   "cell_type": "code",
   "execution_count": null,
   "metadata": {},
   "outputs": [],
   "source": [
    "# Evaluate on the test dataset\n",
    "testInputPath = '/home/dan/Desktop/Datenset_Tower/test/images'\n",
    "testOutputPath = '/home/dan/Desktop/Datenset_Tower/test/masks'\n",
    "\n",
    "testGen = loadData(testInputPath, testOutputPath, batch_size)"
   ]
  },
  {
   "cell_type": "code",
   "execution_count": null,
   "metadata": {},
   "outputs": [],
   "source": [
    "model.evaluate_generator(testGen, steps=3922 ,verbose=1 )"
   ]
  },
  {
   "cell_type": "code",
   "execution_count": null,
   "metadata": {},
   "outputs": [],
   "source": [
    "predict = model.predict_generator(testGen, steps=, verbose=1)"
   ]
  },
  {
   "cell_type": "code",
   "execution_count": null,
   "metadata": {},
   "outputs": [],
   "source": [
    "b = 1\n",
    "i = 85\n",
    "plt.imshow(predict[i, ..., 0], cmap = 'gray')\n",
    "plt.show()\n",
    "#plt.imshow(testGen[b][i, ..., 0], cmap='gray')\n",
    "#plt.show()"
   ]
  },
  {
   "cell_type": "code",
   "execution_count": null,
   "metadata": {},
   "outputs": [],
   "source": []
  }
 ],
 "metadata": {
  "kernelspec": {
   "display_name": "Python 3",
   "language": "python",
   "name": "python3"
  },
  "language_info": {
   "codemirror_mode": {
    "name": "ipython",
    "version": 3
   },
   "file_extension": ".py",
   "mimetype": "text/x-python",
   "name": "python",
   "nbconvert_exporter": "python",
   "pygments_lexer": "ipython3",
   "version": "3.6.6"
  }
 },
 "nbformat": 4,
 "nbformat_minor": 2
}
