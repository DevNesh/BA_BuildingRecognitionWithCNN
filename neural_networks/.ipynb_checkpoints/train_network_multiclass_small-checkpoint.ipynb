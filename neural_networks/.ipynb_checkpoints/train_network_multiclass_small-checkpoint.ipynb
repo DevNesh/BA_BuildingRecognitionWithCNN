{
 "cells": [
  {
   "cell_type": "code",
   "execution_count": 94,
   "metadata": {},
   "outputs": [],
   "source": [
    "import numpy as np\n",
    "import pandas as pd\n",
    "import matplotlib.pyplot as plt\n",
    "%matplotlib inline\n",
    "import keras.backend as K\n",
    "from keras.models import *\n",
    "from keras.layers import *\n",
    "from keras.optimizers import *\n",
    "from keras.callbacks import *\n",
    "from keras.losses import *\n",
    "import skimage.io as io\n",
    "import skimage.transform as tr\n",
    "import skimage.color\n",
    "import dask.array as da\n",
    "from glob import glob\n",
    "from dask.array.image import imread\n",
    "from skimage import img_as_ubyte"
   ]
  },
  {
   "cell_type": "code",
   "execution_count": 95,
   "metadata": {
    "scrolled": false
   },
   "outputs": [
    {
     "name": "stderr",
     "output_type": "stream",
     "text": [
      "/home/dan/.conda/envs/tf-gpu/lib/python3.6/site-packages/skimage/transform/_warps.py:105: UserWarning: The default mode, 'constant', will be changed to 'reflect' in skimage 0.15.\n",
      "  warn(\"The default mode, 'constant', will be changed to 'reflect' in \"\n",
      "/home/dan/.conda/envs/tf-gpu/lib/python3.6/site-packages/skimage/transform/_warps.py:110: UserWarning: Anti-aliasing will be enabled by default in skimage 0.15 to avoid aliasing artifacts when down-sampling images.\n",
      "  warn(\"Anti-aliasing will be enabled by default in skimage 0.15 to \"\n",
      "/home/dan/.conda/envs/tf-gpu/lib/python3.6/site-packages/skimage/util/dtype.py:130: UserWarning: Possible precision loss when converting from float64 to uint8\n",
      "  .format(dtypeobj_in, dtypeobj_out))\n"
     ]
    },
    {
     "name": "stdout",
     "output_type": "stream",
     "text": [
      "200\n",
      "400\n",
      "600\n",
      "800\n",
      "1000\n",
      "1200\n",
      "1400\n",
      "1600\n",
      "1800\n",
      "2000\n",
      "2200\n",
      "2400\n",
      "2600\n",
      "2800\n",
      "3000\n",
      "200\n",
      "400\n",
      "600\n",
      "800\n",
      "1000\n",
      "1200\n",
      "1400\n",
      "1600\n",
      "1800\n",
      "2000\n",
      "2200\n",
      "2400\n",
      "2600\n",
      "2800\n",
      "3000\n"
     ]
    },
    {
     "ename": "MemoryError",
     "evalue": "",
     "output_type": "error",
     "traceback": [
      "\u001b[0;31m---------------------------------------------------------------------------\u001b[0m",
      "\u001b[0;31mMemoryError\u001b[0m                               Traceback (most recent call last)",
      "\u001b[0;32m<ipython-input-95-b00425e4eb7b>\u001b[0m in \u001b[0;36m<module>\u001b[0;34m()\u001b[0m\n\u001b[1;32m     73\u001b[0m \u001b[0mx\u001b[0m \u001b[0;34m=\u001b[0m \u001b[0mread_imgs\u001b[0m\u001b[0;34m(\u001b[0m\u001b[0;34m'/home/dan/Desktop/combined_masks/images/data/*.png'\u001b[0m\u001b[0;34m,\u001b[0m \u001b[0;34m(\u001b[0m\u001b[0;36m224\u001b[0m\u001b[0;34m,\u001b[0m\u001b[0;36m224\u001b[0m\u001b[0;34m,\u001b[0m\u001b[0;36m1\u001b[0m\u001b[0;34m)\u001b[0m\u001b[0;34m)\u001b[0m\u001b[0;34m\u001b[0m\u001b[0m\n\u001b[1;32m     74\u001b[0m \u001b[0my\u001b[0m \u001b[0;34m=\u001b[0m \u001b[0;32mNone\u001b[0m\u001b[0;34m\u001b[0m\u001b[0m\n\u001b[0;32m---> 75\u001b[0;31m \u001b[0my\u001b[0m \u001b[0;34m=\u001b[0m \u001b[0mread_masks\u001b[0m\u001b[0;34m(\u001b[0m\u001b[0;34m'/home/dan/Desktop/combined_masks/masks_01/data/*.png'\u001b[0m\u001b[0;34m,\u001b[0m \u001b[0;34m(\u001b[0m\u001b[0;36m224\u001b[0m\u001b[0;34m,\u001b[0m\u001b[0;36m224\u001b[0m\u001b[0;34m,\u001b[0m\u001b[0;36m1\u001b[0m\u001b[0;34m)\u001b[0m\u001b[0;34m)\u001b[0m\u001b[0;34m\u001b[0m\u001b[0m\n\u001b[0m",
      "\u001b[0;32m<ipython-input-95-b00425e4eb7b>\u001b[0m in \u001b[0;36mread_masks\u001b[0;34m(path, size)\u001b[0m\n\u001b[1;32m     67\u001b[0m         \u001b[0;32mif\u001b[0m \u001b[0;34m(\u001b[0m\u001b[0mindex\u001b[0m \u001b[0;34m%\u001b[0m \u001b[0;36m200\u001b[0m \u001b[0;34m==\u001b[0m \u001b[0;36m0\u001b[0m\u001b[0;34m)\u001b[0m\u001b[0;34m:\u001b[0m\u001b[0;34m\u001b[0m\u001b[0m\n\u001b[1;32m     68\u001b[0m             \u001b[0mprint\u001b[0m\u001b[0;34m(\u001b[0m\u001b[0mindex\u001b[0m\u001b[0;34m)\u001b[0m\u001b[0;34m\u001b[0m\u001b[0m\n\u001b[0;32m---> 69\u001b[0;31m     \u001b[0;32mreturn\u001b[0m \u001b[0mnp\u001b[0m\u001b[0;34m.\u001b[0m\u001b[0marray\u001b[0m\u001b[0;34m(\u001b[0m\u001b[0mimgs\u001b[0m\u001b[0;34m)\u001b[0m\u001b[0;34m\u001b[0m\u001b[0m\n\u001b[0m\u001b[1;32m     70\u001b[0m \u001b[0;34m\u001b[0m\u001b[0m\n\u001b[1;32m     71\u001b[0m \u001b[0;31m# Saves the data into a variable (x = input, y = masks / ground truth)\u001b[0m\u001b[0;34m\u001b[0m\u001b[0;34m\u001b[0m\u001b[0m\n",
      "\u001b[0;31mMemoryError\u001b[0m: "
     ]
    }
   ],
   "source": [
    "def read_img(path, size):\n",
    "    img = io.imread(path)\n",
    "    img = tr.resize(img, size)\n",
    "    img_as_ubyte(img)\n",
    "    return img\n",
    "\n",
    "def read_imgs(path, size):\n",
    "    imgs = []\n",
    "    paths = glob(path)\n",
    "    index = 0\n",
    "    for p in paths:\n",
    "        img = read_img(p, size)\n",
    "        imgs.append(img)\n",
    "        index += 1\n",
    "        if (index % 200 == 0):\n",
    "            print(index)\n",
    "    return np.array(imgs)\n",
    "\n",
    "\n",
    "# Reads the images from a path, iterating over all images\n",
    "# - resizing them to a 1 channel grayscale image\n",
    "# - saving all images in a numpy array, returns this array \n",
    "def read_masks(path, size):\n",
    "    imgs = []\n",
    "    paths = glob(path)\n",
    "    index = 0\n",
    "    for p in paths:\n",
    "        \n",
    "        mask1 = read_img(p, (224,224,1))\n",
    "        mask1 = np.array(mask1)\n",
    "        mask1[mask1[:,:,0] > 0.001] = 1\n",
    "        #mask1[mask1 > 0.01] = 1\n",
    "        \n",
    "        p2 = p.replace(\"masks_01\",\"masks_02\")\n",
    "        mask2 = read_img(p2, (224,224,1))\n",
    "        mask2 = np.array(mask2)\n",
    "        mask2[mask2[:,:,0] > 0.001] = 1\n",
    "        \n",
    "        p3 = p.replace(\"masks_01\",\"masks_03\")\n",
    "        mask3 = read_img(p3, (224,224,1))\n",
    "        mask3 = np.array(mask3)\n",
    "        mask3[mask3[:,:,0] > 0.001] = 1\n",
    "        \n",
    "        \n",
    "        black = np.zeros((224,224,1))\n",
    "       \n",
    "        \n",
    "        \n",
    "        #if (index == 4):\n",
    "        #    arr1 = np.zeros((224,224,1))\n",
    "         #   arr2 = np.zeros((224,224,1))\n",
    "         #   neu = np.zeros((224,224,1))\n",
    "            \n",
    "         #   neu = np.concatenate([arr1,arr2,mask2], axis=2)\n",
    "        #    io.imsave('teeeeest.png',neu)\n",
    "        #    print('Done')\n",
    "        \n",
    "\n",
    "        #p3 = p.replace(\"masks_03\",\"masks_02\")\n",
    "        #print(p3)\n",
    "        #mask3 = read_img(p3, (224,224,1))\n",
    "        \n",
    "        masks = np.concatenate([mask1, mask2, mask3], axis=2)\n",
    "        \n",
    "        imgs.append(masks)\n",
    "        index += 1\n",
    "        if (index % 200 == 0):\n",
    "            print(index)\n",
    "    return np.array(imgs)\n",
    "\n",
    "# Saves the data into a variable (x = input, y = masks / ground truth)\n",
    "x = None\n",
    "x = read_imgs('/home/dan/Desktop/combined_masks/images/data/*.png', (224,224,1))\n",
    "y = None\n",
    "y = read_masks('/home/dan/Desktop/combined_masks/masks_01/data/*.png', (224,224,1))"
   ]
  },
  {
   "cell_type": "code",
   "execution_count": 3,
   "metadata": {},
   "outputs": [],
   "source": [
    "mask_train = tf.keras.utils.to_categorical(y,2)"
   ]
  },
  {
   "cell_type": "code",
   "execution_count": 90,
   "metadata": {},
   "outputs": [
    {
     "name": "stdout",
     "output_type": "stream",
     "text": [
      "(3064, 224, 224, 2)\n",
      "3064\n",
      "(3064, 50176, 2)\n"
     ]
    }
   ],
   "source": [
    "print(y.shape)\n",
    "print(y.shape[0])\n",
    "\n",
    "test = y.reshape(y.shape[0],-1,y.shape[3])\n",
    "print(test.shape)\n",
    "\n",
    "u = test.reshape((3064,224,224,2))\n"
   ]
  },
  {
   "cell_type": "code",
   "execution_count": 96,
   "metadata": {},
   "outputs": [
    {
     "ename": "AttributeError",
     "evalue": "'NoneType' object has no attribute 'shape'",
     "output_type": "error",
     "traceback": [
      "\u001b[0;31m---------------------------------------------------------------------------\u001b[0m",
      "\u001b[0;31mAttributeError\u001b[0m                            Traceback (most recent call last)",
      "\u001b[0;32m<ipython-input-96-d9cf478e3cb0>\u001b[0m in \u001b[0;36m<module>\u001b[0;34m()\u001b[0m\n\u001b[0;32m----> 1\u001b[0;31m \u001b[0mprint\u001b[0m \u001b[0;34m(\u001b[0m\u001b[0my\u001b[0m\u001b[0;34m.\u001b[0m\u001b[0mshape\u001b[0m\u001b[0;34m)\u001b[0m\u001b[0;34m\u001b[0m\u001b[0m\n\u001b[0m",
      "\u001b[0;31mAttributeError\u001b[0m: 'NoneType' object has no attribute 'shape'"
     ]
    }
   ],
   "source": [
    "print (y.shape)"
   ]
  },
  {
   "cell_type": "code",
   "execution_count": 5,
   "metadata": {},
   "outputs": [],
   "source": [
    "def showImage(img, title=None, cmap=None):\n",
    "    \n",
    "    if (title != None):\n",
    "        plt.title(title)\n",
    "        \n",
    "    plt.imshow(img[:,:,0], cmap = cmap)\n",
    "    plt.show()    \n",
    "\n",
    "\n",
    "def showImageFromArray(arr, i, title=None, cmap=None):\n",
    "    showImage(arr[i],title,cmap)"
   ]
  },
  {
   "cell_type": "code",
   "execution_count": 10,
   "metadata": {},
   "outputs": [
    {
     "data": {
      "image/png": "[encoded data removed]",
      "text/plain": [
       "<Figure size 432x288 with 1 Axes>"
      ]
     },
     "metadata": {},
     "output_type": "display_data"
    },
    {
     "data": {
      "image/png": "[encoded data removed]",
      "text/plain": [
       "<Figure size 432x288 with 1 Axes>"
      ]
     },
     "metadata": {},
     "output_type": "display_data"
    },
    {
     "data": {
      "image/png": "[encoded data removed]",
      "text/plain": [
       "<Figure size 432x288 with 1 Axes>"
      ]
     },
     "metadata": {},
     "output_type": "display_data"
    }
   ],
   "source": [
    "# Plots the images in jupyter notebook for comparison\n",
    "#y = y/255\n",
    "#showImage(x[600], cmap='gray')\n",
    "\n",
    "plt.imshow(y[4][:,:,0], cmap = 'gray')\n",
    "plt.show()\n",
    "\n",
    "plt.imshow(y[4][:,:,1], cmap = 'gray')\n",
    "plt.show()\n",
    "\n",
    "plt.imshow(y[4][:,:,2], cmap = 'gray')\n",
    "plt.show()"
   ]
  },
  {
   "cell_type": "code",
   "execution_count": 51,
   "metadata": {},
   "outputs": [
    {
     "name": "stdout",
     "output_type": "stream",
     "text": [
      "(3064, 224, 224, 3)\n"
     ]
    }
   ],
   "source": [
    "print(y.shape)"
   ]
  },
  {
   "cell_type": "code",
   "execution_count": 12,
   "metadata": {},
   "outputs": [],
   "source": [
    "# Defining the loss function \n",
    "def iou(y_true, y_pred):\n",
    "    y_true_f = K.flatten(y_true)\n",
    "    y_pred_f = K.flatten(y_pred)\n",
    "    intersection = K.sum(y_true_f * y_pred_f)\n",
    "    return (intersection + 1.) / (K.sum(y_true_f) + K.sum(y_pred_f) + 1. - intersection)\n",
    "\n",
    "def iou_loss(y_true, y_pred):\n",
    "    return  -iou(y_true, y_pred)\n",
    "\n",
    "def f1(y_true, y_pred):\n",
    "    y_true_f = K.flatten(y_true)\n",
    "    y_pred_f = K.flatten(y_pred)\n",
    "    intersection = K.sum(y_true_f * y_pred_f)\n",
    "    return (2. * intersection + 1.) / (K.sum(y_true_f) + K.sum(y_pred_f) + 1.)\n",
    "\n",
    "def f1_np(y_true, y_pred):\n",
    "    return (2. * (y_true * y_pred).sum() + 1.) / (y_true.sum() + y_pred.sum() + 1.)\n",
    "\n",
    "def f1_loss(y_true, y_pred):\n",
    "    return 1-f1(y_true, y_pred)\n",
    "\n",
    "def precision(y_true, y_pred):\n",
    "    y_true_f = K.flatten(y_true)\n",
    "    y_pred_f = K.flatten(y_pred)\n",
    "    intersection = K.sum(y_true_f * y_pred_f)\n",
    "    return (intersection + 1.) / (K.sum(y_pred_f) + 1.)\n",
    "\n",
    "def precision_np(y_true, y_pred):\n",
    "    return ((y_true * y_pred).sum() + 1.) / (y_pred.sum() + 1.)\n",
    "\n",
    "def recall(y_true, y_pred):\n",
    "    y_true_f = K.flatten(y_true)\n",
    "    y_pred_f = K.flatten(y_pred)\n",
    "    intersection = K.sum(y_true_f * y_pred_f)\n",
    "    return (intersection + 1.) / (K.sum(y_true_f) + 1.)\n",
    "\n",
    "def recall_np(y_true, y_pred):\n",
    "    return ((y_true * y_pred).sum() + 1.) / (y_true.sum() + 1.)\n",
    "\n",
    "def mae_img(y_true, y_pred):\n",
    "    y_true_f = K.flatten(y_true)\n",
    "    y_pred_f = K.flatten(y_pred)\n",
    "    return mae(y_true_f, y_pred_f)\n",
    "\n",
    "def bce_img(y_true, y_pred):\n",
    "    y_true_f = K.flatten(y_true)\n",
    "    y_pred_f = K.flatten(y_pred)\n",
    "    return binary_crossentropy(y_true_f, y_pred_f)\n",
    "\n",
    "def f1_bce(y_true, y_pred):\n",
    "    return f1_loss(y_true, y_pred) + bce_img(y_true, y_pred)\n",
    "\n",
    "# FP + FN\n",
    "def error(y_true, y_pred):\n",
    "    y_true_f = K.flatten(y_true)\n",
    "    y_pred_f = K.flatten(y_pred)\n",
    "    return K.sum(K.abs(y_true_f - y_pred_f)) / float(224*224)\n",
    "\n",
    "def error_np(y_true, y_pred):\n",
    "    return (abs(y_true - y_pred)).sum() / float(len(y_true.flatten()))"
   ]
  },
  {
   "cell_type": "code",
   "execution_count": 75,
   "metadata": {},
   "outputs": [],
   "source": [
    "# create callbacks\n",
    "earlyStop = EarlyStopping(monitor='val_loss', patience = 5)\n",
    "checkpoint = ModelCheckpoint('training_multi_best3.h5', save_best_only=True)\n",
    "#tensorBoard = keras.callbacks.TensorBoard(log_dir= dsPath + '/logs', histogram_freq=0, batch_size=batch_size, write_graph=True, write_grads=False, write_images=False, embeddings_freq=0, embeddings_layer_names=None, embeddings_metadata=None, embeddings_data=None)"
   ]
  },
  {
   "cell_type": "markdown",
   "metadata": {
    "collapsed": true
   },
   "source": [
    "#Altes Modell laden\n",
    "from keras.models import load_model\n",
    "model = load_model('modelsave2.h5', custom_objects={'iou_loss': iou_loss})\n",
    "\n",
    "model.summary()"
   ]
  },
  {
   "cell_type": "code",
   "execution_count": 83,
   "metadata": {},
   "outputs": [
    {
     "name": "stdout",
     "output_type": "stream",
     "text": [
      "__________________________________________________________________________________________________\n",
      "Layer (type)                    Output Shape         Param #     Connected to                     \n",
      "==================================================================================================\n",
      "input_6 (InputLayer)            (None, 224, 224, 1)  0                                            \n",
      "__________________________________________________________________________________________________\n",
      "conv2d_116 (Conv2D)             (None, 224, 224, 16) 160         input_6[0][0]                    \n",
      "__________________________________________________________________________________________________\n",
      "conv2d_117 (Conv2D)             (None, 224, 224, 16) 2320        conv2d_116[0][0]                 \n",
      "__________________________________________________________________________________________________\n",
      "max_pooling2d_21 (MaxPooling2D) (None, 112, 112, 16) 0           conv2d_117[0][0]                 \n",
      "__________________________________________________________________________________________________\n",
      "conv2d_118 (Conv2D)             (None, 112, 112, 32) 4640        max_pooling2d_21[0][0]           \n",
      "__________________________________________________________________________________________________\n",
      "conv2d_119 (Conv2D)             (None, 112, 112, 32) 9248        conv2d_118[0][0]                 \n",
      "__________________________________________________________________________________________________\n",
      "max_pooling2d_22 (MaxPooling2D) (None, 56, 56, 32)   0           conv2d_119[0][0]                 \n",
      "__________________________________________________________________________________________________\n",
      "conv2d_120 (Conv2D)             (None, 56, 56, 64)   18496       max_pooling2d_22[0][0]           \n",
      "__________________________________________________________________________________________________\n",
      "conv2d_121 (Conv2D)             (None, 56, 56, 64)   36928       conv2d_120[0][0]                 \n",
      "__________________________________________________________________________________________________\n",
      "max_pooling2d_23 (MaxPooling2D) (None, 28, 28, 64)   0           conv2d_121[0][0]                 \n",
      "__________________________________________________________________________________________________\n",
      "conv2d_122 (Conv2D)             (None, 28, 28, 128)  73856       max_pooling2d_23[0][0]           \n",
      "__________________________________________________________________________________________________\n",
      "conv2d_123 (Conv2D)             (None, 28, 28, 128)  147584      conv2d_122[0][0]                 \n",
      "__________________________________________________________________________________________________\n",
      "max_pooling2d_24 (MaxPooling2D) (None, 14, 14, 128)  0           conv2d_123[0][0]                 \n",
      "__________________________________________________________________________________________________\n",
      "conv2d_124 (Conv2D)             (None, 14, 14, 256)  295168      max_pooling2d_24[0][0]           \n",
      "__________________________________________________________________________________________________\n",
      "dropout_6 (Dropout)             (None, 14, 14, 256)  0           conv2d_124[0][0]                 \n",
      "__________________________________________________________________________________________________\n",
      "conv2d_125 (Conv2D)             (None, 14, 14, 256)  590080      dropout_6[0][0]                  \n",
      "__________________________________________________________________________________________________\n",
      "up_sampling2d_21 (UpSampling2D) (None, 28, 28, 256)  0           conv2d_125[0][0]                 \n",
      "__________________________________________________________________________________________________\n",
      "conv2d_126 (Conv2D)             (None, 28, 28, 128)  131200      up_sampling2d_21[0][0]           \n",
      "__________________________________________________________________________________________________\n",
      "concatenate_21 (Concatenate)    (None, 28, 28, 256)  0           conv2d_123[0][0]                 \n",
      "                                                                 conv2d_126[0][0]                 \n",
      "__________________________________________________________________________________________________\n",
      "conv2d_127 (Conv2D)             (None, 28, 28, 128)  295040      concatenate_21[0][0]             \n",
      "__________________________________________________________________________________________________\n",
      "conv2d_128 (Conv2D)             (None, 28, 28, 128)  147584      conv2d_127[0][0]                 \n",
      "__________________________________________________________________________________________________\n",
      "up_sampling2d_22 (UpSampling2D) (None, 56, 56, 128)  0           conv2d_128[0][0]                 \n",
      "__________________________________________________________________________________________________\n",
      "conv2d_129 (Conv2D)             (None, 56, 56, 64)   32832       up_sampling2d_22[0][0]           \n",
      "__________________________________________________________________________________________________\n",
      "concatenate_22 (Concatenate)    (None, 56, 56, 128)  0           conv2d_121[0][0]                 \n",
      "                                                                 conv2d_129[0][0]                 \n",
      "__________________________________________________________________________________________________\n",
      "conv2d_130 (Conv2D)             (None, 56, 56, 64)   73792       concatenate_22[0][0]             \n",
      "__________________________________________________________________________________________________\n",
      "conv2d_131 (Conv2D)             (None, 56, 56, 64)   36928       conv2d_130[0][0]                 \n",
      "__________________________________________________________________________________________________\n",
      "up_sampling2d_23 (UpSampling2D) (None, 112, 112, 64) 0           conv2d_131[0][0]                 \n",
      "__________________________________________________________________________________________________\n",
      "conv2d_132 (Conv2D)             (None, 112, 112, 32) 8224        up_sampling2d_23[0][0]           \n",
      "__________________________________________________________________________________________________\n",
      "concatenate_23 (Concatenate)    (None, 112, 112, 64) 0           conv2d_119[0][0]                 \n",
      "                                                                 conv2d_132[0][0]                 \n",
      "__________________________________________________________________________________________________\n",
      "conv2d_133 (Conv2D)             (None, 112, 112, 32) 18464       concatenate_23[0][0]             \n",
      "__________________________________________________________________________________________________\n",
      "conv2d_134 (Conv2D)             (None, 112, 112, 32) 9248        conv2d_133[0][0]                 \n",
      "__________________________________________________________________________________________________\n",
      "up_sampling2d_24 (UpSampling2D) (None, 224, 224, 32) 0           conv2d_134[0][0]                 \n",
      "__________________________________________________________________________________________________\n",
      "conv2d_135 (Conv2D)             (None, 224, 224, 16) 2064        up_sampling2d_24[0][0]           \n",
      "__________________________________________________________________________________________________\n",
      "concatenate_24 (Concatenate)    (None, 224, 224, 32) 0           conv2d_117[0][0]                 \n",
      "                                                                 conv2d_135[0][0]                 \n",
      "__________________________________________________________________________________________________\n",
      "conv2d_136 (Conv2D)             (None, 224, 224, 16) 4624        concatenate_24[0][0]             \n",
      "__________________________________________________________________________________________________\n",
      "conv2d_137 (Conv2D)             (None, 224, 224, 16) 2320        conv2d_136[0][0]                 \n",
      "__________________________________________________________________________________________________\n",
      "conv2d_138 (Conv2D)             (None, 224, 224, 3)  51          conv2d_137[0][0]                 \n",
      "==================================================================================================\n",
      "Total params: 1,940,851\n",
      "Trainable params: 1,940,851\n",
      "Non-trainable params: 0\n",
      "__________________________________________________________________________________________________\n"
     ]
    }
   ],
   "source": [
    "from unet import UNet\n",
    "model = None\n",
    "model = UNet((224,224,1), 3, 16, 4, 2.0)\n",
    "model.summary()"
   ]
  },
  {
   "cell_type": "code",
   "execution_count": 84,
   "metadata": {},
   "outputs": [],
   "source": [
    "model.compile(optimizer=Adam(lr=0.0001), loss=f1_loss, metrics=[iou_loss, precision, error,recall])"
   ]
  },
  {
   "cell_type": "code",
   "execution_count": 85,
   "metadata": {
    "scrolled": false
   },
   "outputs": [
    {
     "name": "stdout",
     "output_type": "stream",
     "text": [
      "Train on 2450 samples, validate on 614 samples\n",
      "Epoch 1/40\n",
      "2450/2450 [==============================] - 25s 10ms/step - loss: 0.9626 - iou_loss: -0.0191 - precision: 0.0192 - error: 52.4588 - recall: 0.7499 - val_loss: 0.9524 - val_iou_loss: -0.0244 - val_precision: 0.0244 - val_error: 53.3461 - val_recall: 0.9948\n",
      "Epoch 2/40\n",
      "2450/2450 [==============================] - 23s 9ms/step - loss: 0.8695 - iou_loss: -0.0708 - precision: 0.0776 - error: 18.1482 - recall: 0.6704 - val_loss: 0.8255 - val_iou_loss: -0.0958 - val_precision: 0.1072 - val_error: 6.0202 - val_recall: 0.4711\n",
      "Epoch 3/40\n",
      "2450/2450 [==============================] - 23s 9ms/step - loss: 0.7944 - iou_loss: -0.1151 - precision: 0.1363 - error: 4.8248 - recall: 0.4405 - val_loss: 0.7949 - val_iou_loss: -0.1148 - val_precision: 0.4676 - val_error: 1.3740 - val_recall: 0.1324\n",
      "Epoch 4/40\n",
      "2450/2450 [==============================] - 23s 9ms/step - loss: 0.7534 - iou_loss: -0.1420 - precision: 0.2487 - error: 3.1235 - recall: 0.3448 - val_loss: 0.6618 - val_iou_loss: -0.2040 - val_precision: 0.3534 - val_error: 1.7232 - val_recall: 0.3268\n",
      "Epoch 5/40\n",
      "2450/2450 [==============================] - 23s 9ms/step - loss: 0.6433 - iou_loss: -0.2181 - precision: 0.4465 - error: 1.5686 - recall: 0.3121 - val_loss: 0.6394 - val_iou_loss: -0.2206 - val_precision: 0.3445 - val_error: 1.8158 - val_recall: 0.3806\n",
      "Epoch 6/40\n",
      "2450/2450 [==============================] - 23s 9ms/step - loss: 0.5849 - iou_loss: -0.2630 - precision: 0.5450 - error: 1.3503 - recall: 0.3461 - val_loss: 0.5616 - val_iou_loss: -0.2817 - val_precision: 0.4962 - val_error: 1.3604 - val_recall: 0.3939\n",
      "Epoch 7/40\n",
      "2450/2450 [==============================] - 23s 9ms/step - loss: 0.5261 - iou_loss: -0.3119 - precision: 0.6186 - error: 1.2193 - recall: 0.3942 - val_loss: 0.5395 - val_iou_loss: -0.3003 - val_precision: 0.7637 - val_error: 1.0454 - val_recall: 0.3306\n",
      "Epoch 8/40\n",
      "2450/2450 [==============================] - 23s 9ms/step - loss: 0.4929 - iou_loss: -0.3412 - precision: 0.6837 - error: 1.1029 - recall: 0.4098 - val_loss: 0.5132 - val_iou_loss: -0.3232 - val_precision: 0.5535 - val_error: 1.2427 - val_recall: 0.4354\n",
      "Epoch 9/40\n",
      "2450/2450 [==============================] - 23s 9ms/step - loss: 0.4679 - iou_loss: -0.3644 - precision: 0.7206 - error: 1.0374 - recall: 0.4279 - val_loss: 0.4676 - val_iou_loss: -0.3642 - val_precision: 0.7520 - val_error: 0.9792 - val_recall: 0.4129\n",
      "Epoch 10/40\n",
      "2450/2450 [==============================] - 23s 9ms/step - loss: 0.4580 - iou_loss: -0.3738 - precision: 0.7330 - error: 1.0207 - recall: 0.4375 - val_loss: 0.4880 - val_iou_loss: -0.3459 - val_precision: 0.6352 - val_error: 1.1051 - val_recall: 0.4297\n",
      "Epoch 11/40\n",
      "2450/2450 [==============================] - 23s 9ms/step - loss: 0.4396 - iou_loss: -0.3908 - precision: 0.7544 - error: 0.9735 - recall: 0.4501 - val_loss: 0.4529 - val_iou_loss: -0.3781 - val_precision: 0.7295 - val_error: 0.9791 - val_recall: 0.4389\n",
      "Epoch 12/40\n",
      "2450/2450 [==============================] - 23s 9ms/step - loss: 0.4155 - iou_loss: -0.4147 - precision: 0.7948 - error: 0.9119 - recall: 0.4657 - val_loss: 0.4591 - val_iou_loss: -0.3726 - val_precision: 0.7902 - val_error: 0.9435 - val_recall: 0.4124\n",
      "Epoch 13/40\n",
      "2450/2450 [==============================] - 23s 9ms/step - loss: 0.4139 - iou_loss: -0.4160 - precision: 0.8024 - error: 0.9097 - recall: 0.4670 - val_loss: 0.4221 - val_iou_loss: -0.4082 - val_precision: 0.7857 - val_error: 0.9041 - val_recall: 0.4584\n",
      "Epoch 14/40\n",
      "2450/2450 [==============================] - 23s 10ms/step - loss: 0.3997 - iou_loss: -0.4307 - precision: 0.8266 - error: 0.8708 - recall: 0.4747 - val_loss: 0.4220 - val_iou_loss: -0.4082 - val_precision: 0.7514 - val_error: 0.9279 - val_recall: 0.4707\n",
      "Epoch 15/40\n",
      "2450/2450 [==============================] - 23s 9ms/step - loss: 0.3882 - iou_loss: -0.4425 - precision: 0.8424 - error: 0.8404 - recall: 0.4828 - val_loss: 0.4351 - val_iou_loss: -0.3953 - val_precision: 0.6942 - val_error: 0.9937 - val_recall: 0.4772\n",
      "Epoch 16/40\n",
      "2450/2450 [==============================] - 23s 9ms/step - loss: 0.3892 - iou_loss: -0.4415 - precision: 0.8379 - error: 0.8465 - recall: 0.4833 - val_loss: 0.4022 - val_iou_loss: -0.4281 - val_precision: 0.8171 - val_error: 0.8580 - val_recall: 0.4726\n",
      "Epoch 17/40\n",
      "2450/2450 [==============================] - 23s 9ms/step - loss: 0.3744 - iou_loss: -0.4565 - precision: 0.8618 - error: 0.8145 - recall: 0.4931 - val_loss: 0.4082 - val_iou_loss: -0.4223 - val_precision: 0.7858 - val_error: 0.8859 - val_recall: 0.4758\n",
      "Epoch 18/40\n",
      "2450/2450 [==============================] - 23s 10ms/step - loss: 0.3712 - iou_loss: -0.4605 - precision: 0.8679 - error: 0.8060 - recall: 0.4955 - val_loss: 0.4202 - val_iou_loss: -0.4103 - val_precision: 0.7233 - val_error: 0.9547 - val_recall: 0.4854\n",
      "Epoch 19/40\n",
      "2450/2450 [==============================] - 23s 9ms/step - loss: 0.3743 - iou_loss: -0.4572 - precision: 0.8634 - error: 0.8117 - recall: 0.4939 - val_loss: 0.4096 - val_iou_loss: -0.4207 - val_precision: 0.8597 - val_error: 0.8430 - val_recall: 0.4507\n",
      "Epoch 20/40\n",
      "2450/2450 [==============================] - 23s 10ms/step - loss: 0.3678 - iou_loss: -0.4639 - precision: 0.8749 - error: 0.7973 - recall: 0.4975 - val_loss: 0.3911 - val_iou_loss: -0.4395 - val_precision: 0.8808 - val_error: 0.8061 - val_recall: 0.4664\n",
      "Epoch 21/40\n",
      "2450/2450 [==============================] - 23s 9ms/step - loss: 0.3638 - iou_loss: -0.4683 - precision: 0.8817 - error: 0.7841 - recall: 0.4996 - val_loss: 0.3843 - val_iou_loss: -0.4466 - val_precision: 0.8869 - val_error: 0.7943 - val_recall: 0.4727\n",
      "Epoch 22/40\n",
      "2450/2450 [==============================] - 23s 9ms/step - loss: 0.3627 - iou_loss: -0.4692 - precision: 0.8829 - error: 0.7840 - recall: 0.5009 - val_loss: 0.3848 - val_iou_loss: -0.4460 - val_precision: 0.8786 - val_error: 0.7987 - val_recall: 0.4745\n",
      "Epoch 23/40\n",
      "2450/2450 [==============================] - 23s 10ms/step - loss: 0.3550 - iou_loss: -0.4776 - precision: 0.8985 - error: 0.7642 - recall: 0.5050 - val_loss: 0.3832 - val_iou_loss: -0.4478 - val_precision: 0.8786 - val_error: 0.7981 - val_recall: 0.4765\n",
      "Epoch 24/40\n",
      "2450/2450 [==============================] - 23s 9ms/step - loss: 0.3594 - iou_loss: -0.4731 - precision: 0.8903 - error: 0.7748 - recall: 0.5025 - val_loss: 0.3953 - val_iou_loss: -0.4353 - val_precision: 0.8562 - val_error: 0.8259 - val_recall: 0.4688\n",
      "Epoch 25/40\n",
      "2450/2450 [==============================] - 23s 9ms/step - loss: 0.3492 - iou_loss: -0.4839 - precision: 0.9091 - error: 0.7521 - recall: 0.5085 - val_loss: 0.3765 - val_iou_loss: -0.4547 - val_precision: 0.9115 - val_error: 0.7719 - val_recall: 0.4750\n",
      "Epoch 26/40\n",
      "2450/2450 [==============================] - 23s 9ms/step - loss: 0.3490 - iou_loss: -0.4841 - precision: 0.9081 - error: 0.7512 - recall: 0.5091 - val_loss: 0.3731 - val_iou_loss: -0.4583 - val_precision: 0.8968 - val_error: 0.7742 - val_recall: 0.4830\n",
      "Epoch 27/40\n",
      "2450/2450 [==============================] - 23s 10ms/step - loss: 0.3466 - iou_loss: -0.4870 - precision: 0.9140 - error: 0.7427 - recall: 0.5102 - val_loss: 0.3743 - val_iou_loss: -0.4570 - val_precision: 0.8794 - val_error: 0.7837 - val_recall: 0.4867\n",
      "Epoch 28/40\n",
      "2450/2450 [==============================] - 23s 9ms/step - loss: 0.3432 - iou_loss: -0.4906 - precision: 0.9172 - error: 0.7385 - recall: 0.5130 - val_loss: 0.3698 - val_iou_loss: -0.4618 - val_precision: 0.9082 - val_error: 0.7639 - val_recall: 0.4838\n",
      "Epoch 29/40\n",
      "2450/2450 [==============================] - 23s 9ms/step - loss: 0.3433 - iou_loss: -0.4907 - precision: 0.9216 - error: 0.7348 - recall: 0.5123 - val_loss: 0.3791 - val_iou_loss: -0.4521 - val_precision: 0.8819 - val_error: 0.7938 - val_recall: 0.4807\n",
      "Epoch 30/40\n",
      "2450/2450 [==============================] - 23s 10ms/step - loss: 0.3441 - iou_loss: -0.4899 - precision: 0.9206 - error: 0.7349 - recall: 0.5115 - val_loss: 0.3834 - val_iou_loss: -0.4474 - val_precision: 0.8384 - val_error: 0.8170 - val_recall: 0.4888\n",
      "Epoch 31/40\n",
      "2450/2450 [==============================] - 23s 9ms/step - loss: 0.3400 - iou_loss: -0.4947 - precision: 0.9268 - error: 0.7267 - recall: 0.5146 - val_loss: 0.3683 - val_iou_loss: -0.4634 - val_precision: 0.9093 - val_error: 0.7619 - val_recall: 0.4853\n"
     ]
    },
    {
     "name": "stdout",
     "output_type": "stream",
     "text": [
      "Epoch 32/40\n",
      "2450/2450 [==============================] - 24s 10ms/step - loss: 0.3385 - iou_loss: -0.4957 - precision: 0.9284 - error: 0.7259 - recall: 0.5153 - val_loss: 0.3672 - val_iou_loss: -0.4646 - val_precision: 0.9041 - val_error: 0.7619 - val_recall: 0.4879\n",
      "Epoch 33/40\n",
      "2450/2450 [==============================] - 23s 9ms/step - loss: 0.3381 - iou_loss: -0.4960 - precision: 0.9303 - error: 0.7226 - recall: 0.5150 - val_loss: 0.3693 - val_iou_loss: -0.4624 - val_precision: 0.9232 - val_error: 0.7563 - val_recall: 0.4803\n",
      "Epoch 34/40\n",
      "2450/2450 [==============================] - 23s 9ms/step - loss: 0.3447 - iou_loss: -0.4893 - precision: 0.9162 - error: 0.7369 - recall: 0.5123 - val_loss: 0.3839 - val_iou_loss: -0.4469 - val_precision: 0.9103 - val_error: 0.7837 - val_recall: 0.4667\n",
      "Epoch 35/40\n",
      "2450/2450 [==============================] - 23s 9ms/step - loss: 0.3415 - iou_loss: -0.4927 - precision: 0.9275 - error: 0.7272 - recall: 0.5126 - val_loss: 0.3683 - val_iou_loss: -0.4635 - val_precision: 0.8969 - val_error: 0.7671 - val_recall: 0.4887\n",
      "Epoch 36/40\n",
      "2450/2450 [==============================] - 23s 9ms/step - loss: 0.3459 - iou_loss: -0.4877 - precision: 0.9128 - error: 0.7432 - recall: 0.5119 - val_loss: 0.3710 - val_iou_loss: -0.4605 - val_precision: 0.8854 - val_error: 0.7778 - val_recall: 0.4890\n",
      "Epoch 37/40\n",
      "2450/2450 [==============================] - 23s 9ms/step - loss: 0.3374 - iou_loss: -0.4979 - precision: 0.9338 - error: 0.7171 - recall: 0.5159 - val_loss: 0.3668 - val_iou_loss: -0.4649 - val_precision: 0.9278 - val_error: 0.7509 - val_recall: 0.4819\n",
      "Epoch 38/40\n",
      "2450/2450 [==============================] - 23s 9ms/step - loss: 0.3376 - iou_loss: -0.4969 - precision: 0.9323 - error: 0.7186 - recall: 0.5152 - val_loss: 0.3647 - val_iou_loss: -0.4672 - val_precision: 0.9273 - val_error: 0.7467 - val_recall: 0.4846\n",
      "Epoch 39/40\n",
      "2450/2450 [==============================] - 23s 9ms/step - loss: 0.3376 - iou_loss: -0.4967 - precision: 0.9291 - error: 0.7246 - recall: 0.5166 - val_loss: 0.3627 - val_iou_loss: -0.4694 - val_precision: 0.9224 - val_error: 0.7470 - val_recall: 0.4881\n",
      "Epoch 40/40\n",
      "2450/2450 [==============================] - 23s 9ms/step - loss: 0.3337 - iou_loss: -0.5015 - precision: 0.9409 - error: 0.7094 - recall: 0.5177 - val_loss: 0.3661 - val_iou_loss: -0.4658 - val_precision: 0.9031 - val_error: 0.7626 - val_recall: 0.4900\n"
     ]
    },
    {
     "data": {
      "text/plain": [
       "<keras.callbacks.History at 0x7f62c7f4b240>"
      ]
     },
     "execution_count": 85,
     "metadata": {},
     "output_type": "execute_result"
    }
   ],
   "source": [
    "train = 2450 # = 80% of all given data\n",
    "model.fit(x[:train], y[:train], batch_size=32, epochs=40,\n",
    "         validation_data=(x[train:], y[train:]), shuffle=True, callbacks=[earlyStop, checkpoint])"
   ]
  },
  {
   "cell_type": "code",
   "execution_count": 86,
   "metadata": {},
   "outputs": [],
   "source": [
    "model.save('training_multi4.h5')"
   ]
  },
  {
   "cell_type": "code",
   "execution_count": 87,
   "metadata": {},
   "outputs": [
    {
     "name": "stderr",
     "output_type": "stream",
     "text": [
      "/home/dan/.conda/envs/tf-gpu/lib/python3.6/site-packages/skimage/transform/_warps.py:105: UserWarning: The default mode, 'constant', will be changed to 'reflect' in skimage 0.15.\n",
      "  warn(\"The default mode, 'constant', will be changed to 'reflect' in \"\n",
      "/home/dan/.conda/envs/tf-gpu/lib/python3.6/site-packages/skimage/transform/_warps.py:110: UserWarning: Anti-aliasing will be enabled by default in skimage 0.15 to avoid aliasing artifacts when down-sampling images.\n",
      "  warn(\"Anti-aliasing will be enabled by default in skimage 0.15 to \"\n",
      "/home/dan/.conda/envs/tf-gpu/lib/python3.6/site-packages/skimage/util/dtype.py:130: UserWarning: Possible precision loss when converting from float64 to uint8\n",
      "  .format(dtypeobj_in, dtypeobj_out))\n"
     ]
    }
   ],
   "source": [
    "z = read_imgs('/home/dan/Desktop/multipredict/images/data/*.png', (224,224,1))\n",
    "#k = read_imgs('/home/dan/Desktop/Datenset_TowerBuilding/test/masks/data/*.png', (224,224,1))"
   ]
  },
  {
   "cell_type": "code",
   "execution_count": 88,
   "metadata": {},
   "outputs": [
    {
     "name": "stdout",
     "output_type": "stream",
     "text": [
      "\r",
      "19/19 [==============================] - 1s 26ms/step\n"
     ]
    }
   ],
   "source": [
    "# makes a prediction for the whole dataset\n",
    "pred = model.predict(z, verbose=1)"
   ]
  },
  {
   "cell_type": "code",
   "execution_count": 10,
   "metadata": {},
   "outputs": [
    {
     "name": "stdout",
     "output_type": "stream",
     "text": [
      "(3064, 224, 224, 2)\n"
     ]
    }
   ],
   "source": [
    "print(pred.shape)"
   ]
  },
  {
   "cell_type": "code",
   "execution_count": 109,
   "metadata": {},
   "outputs": [
    {
     "ename": "NameError",
     "evalue": "name 'testPred' is not defined",
     "output_type": "error",
     "traceback": [
      "\u001b[0;31m---------------------------------------------------------------------------\u001b[0m",
      "\u001b[0;31mNameError\u001b[0m                                 Traceback (most recent call last)",
      "\u001b[0;32m<ipython-input-109-82a6d8a7ce8e>\u001b[0m in \u001b[0;36m<module>\u001b[0;34m()\u001b[0m\n\u001b[1;32m      1\u001b[0m \u001b[0mpred\u001b[0m \u001b[0;34m=\u001b[0m \u001b[0mpred\u001b[0m\u001b[0;34m.\u001b[0m\u001b[0mreshape\u001b[0m\u001b[0;34m(\u001b[0m\u001b[0;34m(\u001b[0m\u001b[0;36m3064\u001b[0m\u001b[0;34m,\u001b[0m\u001b[0;36m224\u001b[0m\u001b[0;34m,\u001b[0m\u001b[0;36m224\u001b[0m\u001b[0;34m,\u001b[0m\u001b[0;36m2\u001b[0m\u001b[0;34m)\u001b[0m\u001b[0;34m)\u001b[0m\u001b[0;34m\u001b[0m\u001b[0m\n\u001b[0;32m----> 2\u001b[0;31m \u001b[0mprint\u001b[0m\u001b[0;34m(\u001b[0m\u001b[0mtestPred\u001b[0m\u001b[0;34m.\u001b[0m\u001b[0mshape\u001b[0m\u001b[0;34m)\u001b[0m\u001b[0;34m\u001b[0m\u001b[0m\n\u001b[0m",
      "\u001b[0;31mNameError\u001b[0m: name 'testPred' is not defined"
     ]
    }
   ],
   "source": []
  },
  {
   "cell_type": "code",
   "execution_count": 92,
   "metadata": {},
   "outputs": [
    {
     "data": {
      "image/png": "[encoded data removed]",
      "text/plain": [
       "<Figure size 432x288 with 1 Axes>"
      ]
     },
     "metadata": {},
     "output_type": "display_data"
    },
    {
     "data": {
      "image/png": "[encoded data removed]",
      "text/plain": [
       "<Figure size 432x288 with 1 Axes>"
      ]
     },
     "metadata": {},
     "output_type": "display_data"
    },
    {
     "data": {
      "image/png": "[encoded data removed]",
      "text/plain": [
       "<Figure size 432x288 with 1 Axes>"
      ]
     },
     "metadata": {},
     "output_type": "display_data"
    },
    {
     "data": {
      "image/png": "[encoded data removed]",
      "text/plain": [
       "<Figure size 432x288 with 1 Axes>"
      ]
     },
     "metadata": {},
     "output_type": "display_data"
    },
    {
     "data": {
      "image/png": "[encoded data removed]",
      "text/plain": [
       "<Figure size 432x288 with 1 Axes>"
      ]
     },
     "metadata": {},
     "output_type": "display_data"
    },
    {
     "data": {
      "image/png": "[encoded data removed]",
      "text/plain": [
       "<Figure size 432x288 with 1 Axes>"
      ]
     },
     "metadata": {},
     "output_type": "display_data"
    }
   ],
   "source": [
    "# Plots the prediction in jupyter notebook for comparison\n",
    "i = 3\n",
    "\n",
    "# Input Picture\n",
    "plt.imshow(z[i, ..., 0], cmap='gray')\n",
    "plt.axis('off')\n",
    "plt.show()\n",
    "\n",
    "plt.imshow(pred[i])\n",
    "plt.axis('off')\n",
    "plt.show()\n",
    "\n",
    "# Ground Truth\n",
    "plt.imshow(k[i][:,:,0], cmap = 'gray')\n",
    "plt.show()\n",
    "\n",
    "# Prediction Dim 0\n",
    "plt.imshow(pred[i][:,:,0], cmap = 'gray')\n",
    "plt.show()\n",
    "\n",
    "# Prediction Dim 1\n",
    "plt.imshow(pred[i][:,:,1], cmap = 'gray')\n",
    "plt.show()\n",
    "\n",
    "# Prediction Dim 1\n",
    "plt.imshow(pred[i][:,:,2], cmap = 'gray')\n",
    "plt.show\n",
    "plt.show()\n",
    "\n",
    "\n",
    "\n",
    "#plt.imshow(pred[i][:,:,2], cmap = 'gray')\n",
    "#plt.show()\n",
    "\n",
    "#plt.imshow(k[i][:,:,2], cmap = 'gray')\n",
    "#plt.show()\n",
    "\n",
    "#plt.imshow(y[i, ..., 0], cmap='gray')\n",
    "#plt.show()\n",
    "#plt.imshow(pred[i, ..., 0], cmap='gray')\n",
    "#plt.show()"
   ]
  },
  {
   "cell_type": "code",
   "execution_count": 89,
   "metadata": {},
   "outputs": [
    {
     "name": "stderr",
     "output_type": "stream",
     "text": [
      "/home/dan/.conda/envs/tf-gpu/lib/python3.6/site-packages/skimage/util/dtype.py:130: UserWarning: Possible precision loss when converting from float64 to uint8\n",
      "  .format(dtypeobj_in, dtypeobj_out))\n"
     ]
    }
   ],
   "source": [
    "l = pred[55]\n",
    "m = np.zeros((224,224,1))\n",
    "arr = np.concatenate([l,m], axis=2)\n",
    "io.imsave(\"teeest.png\",arr)"
   ]
  },
  {
   "cell_type": "markdown",
   "metadata": {},
   "source": [
    "# Save the Model\n",
    "Speichert\n",
    "* die Architektur\n",
    "* die Gewichte\n",
    "* die Trainingskonfigurationen (loss, optimizer)\n",
    "* State des Optimizers"
   ]
  },
  {
   "cell_type": "code",
   "execution_count": 14,
   "metadata": {
    "collapsed": true
   },
   "outputs": [],
   "source": [
    "model.save('ds1_1_small.h5')"
   ]
  },
  {
   "cell_type": "code",
   "execution_count": null,
   "metadata": {
    "collapsed": true
   },
   "outputs": [],
   "source": []
  },
  {
   "cell_type": "code",
   "execution_count": null,
   "metadata": {
    "collapsed": true
   },
   "outputs": [],
   "source": []
  }
 ],
 "metadata": {
  "kernelspec": {
   "display_name": "TensorFlow-GPU",
   "language": "python",
   "name": "tf-gpu"
  },
  "language_info": {
   "codemirror_mode": {
    "name": "ipython",
    "version": 3
   },
   "file_extension": ".py",
   "mimetype": "text/x-python",
   "name": "python",
   "nbconvert_exporter": "python",
   "pygments_lexer": "ipython3",
   "version": "3.6.6"
  }
 },
 "nbformat": 4,
 "nbformat_minor": 2
}
