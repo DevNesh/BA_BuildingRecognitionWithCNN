{
 "cells": [
  {
   "cell_type": "code",
   "execution_count": 86,
   "metadata": {},
   "outputs": [],
   "source": [
    "from keras.models import load_model\n",
    "from keras.preprocessing import image\n",
    "import numpy as np\n",
    "import keras.backend as K\n",
    "import skimage.io as io\n",
    "import skimage.transform as tr\n",
    "import matplotlib.pyplot as plt\n",
    "from glob import glob\n",
    "from keras.optimizers import *\n",
    "\n",
    "from loss_metrics import *\n",
    "from helper import * \n",
    "\n",
    "%matplotlib inline"
   ]
  },
  {
   "cell_type": "code",
   "execution_count": 345,
   "metadata": {},
   "outputs": [],
   "source": [
    "# load the model\n",
    "model = load_model('/home/dan/Desktop/Datenset_Block3/results/training_01_best.h5', custom_objects={'iou_loss': iou_loss, 'f1': f1, 'iou':iou, 'precision' :precision, 'recall' : recall, 'error' : error})"
   ]
  },
  {
   "cell_type": "code",
   "execution_count": 346,
   "metadata": {},
   "outputs": [
    {
     "name": "stderr",
     "output_type": "stream",
     "text": [
      "/home/dan/.conda/envs/tf-gpu/lib/python3.6/site-packages/skimage/transform/_warps.py:105: UserWarning: The default mode, 'constant', will be changed to 'reflect' in skimage 0.15.\n",
      "  warn(\"The default mode, 'constant', will be changed to 'reflect' in \"\n",
      "/home/dan/.conda/envs/tf-gpu/lib/python3.6/site-packages/skimage/transform/_warps.py:110: UserWarning: Anti-aliasing will be enabled by default in skimage 0.15 to avoid aliasing artifacts when down-sampling images.\n",
      "  warn(\"Anti-aliasing will be enabled by default in skimage 0.15 to \"\n",
      "/home/dan/.conda/envs/tf-gpu/lib/python3.6/site-packages/skimage/util/dtype.py:130: UserWarning: Possible precision loss when converting from float64 to uint8\n",
      "  .format(dtypeobj_in, dtypeobj_out))\n"
     ]
    },
    {
     "name": "stdout",
     "output_type": "stream",
     "text": [
      "200\n",
      "400\n",
      "600\n",
      "800\n",
      "1000\n",
      "1200\n",
      "1400\n",
      "1600\n",
      "1800\n",
      "2000\n",
      "2200\n",
      "2400\n",
      "2600\n",
      "2800\n",
      "3000\n",
      "3200\n",
      "3400\n",
      "3600\n",
      "3800\n",
      "200\n",
      "400\n",
      "600\n",
      "800\n",
      "1000\n",
      "1200\n",
      "1400\n",
      "1600\n",
      "1800\n",
      "2000\n",
      "2200\n",
      "2400\n",
      "2600\n",
      "2800\n",
      "3000\n",
      "3200\n",
      "3400\n",
      "3600\n",
      "3800\n"
     ]
    }
   ],
   "source": [
    "# read the test-input-data\n",
    "x = None\n",
    "x = read_imgs('/home/dan/Desktop/Datenset_Block3/test/images/data/*.png', (224,224,1))\n",
    "\n",
    "# read the test-groundtruth-data\n",
    "y = None\n",
    "y = read_imgs('/home/dan/Desktop/Datenset_Block3/test/masks/data/*.png', (224,224,1))"
   ]
  },
  {
   "cell_type": "code",
   "execution_count": 348,
   "metadata": {},
   "outputs": [
    {
     "name": "stdout",
     "output_type": "stream",
     "text": [
      "3922/3922 [==============================] - 16s 4ms/step\n"
     ]
    }
   ],
   "source": [
    "# do the prediction\n",
    "#test_image = x[2]\n",
    "#test_image = np.expand_dims(test_image, axis=0)\n",
    "pred = model.predict(x, verbose=1)"
   ]
  },
  {
   "cell_type": "code",
   "execution_count": 387,
   "metadata": {},
   "outputs": [
    {
     "data": {
      "image/png": "[encoded data removed]",
      "text/plain": [
       "<Figure size 432x288 with 1 Axes>"
      ]
     },
     "metadata": {},
     "output_type": "display_data"
    },
    {
     "data": {
      "image/png": "[encoded data removed]",
      "text/plain": [
       "<Figure size 432x288 with 1 Axes>"
      ]
     },
     "metadata": {},
     "output_type": "display_data"
    },
    {
     "data": {
      "image/png": "[encoded data removed]",
      "text/plain": [
       "<Figure size 432x288 with 1 Axes>"
      ]
     },
     "metadata": {},
     "output_type": "display_data"
    },
    {
     "data": {
      "image/png": "[encoded data removed]",
      "text/plain": [
       "<Figure size 432x288 with 1 Axes>"
      ]
     },
     "metadata": {},
     "output_type": "display_data"
    }
   ],
   "source": [
    "from helper import * \n",
    "# Plots the prediction in jupyter notebook for comparison\n",
    "i = 90\n",
    "\n",
    "def compareMasks(prediction, groundTruth):\n",
    "    \n",
    "    diff_img = np.zeros((224,224,3), dtype=np.uint8)\n",
    "\n",
    "    for x in range(prediction.shape[0]):\n",
    "        for y in range(prediction.shape[1]):\n",
    "            if ((prediction[x,y] == groundTruth[x,y]) & groundTruth[x,y].all() != False):\n",
    "                diff_img[x,y] = (255,255,255)\n",
    "            elif (prediction[x,y] > groundTruth[x,y]):\n",
    "                diff_img[x,y] = (255,0,0)\n",
    "            elif (groundTruth[x,y] > prediction[x,y]):\n",
    "                diff_img[x,y] = (0,255,0)\n",
    "\n",
    "    return diff_img\n",
    "\n",
    "def postProcessImage(img):\n",
    "    img[img > 0.4] = 255\n",
    "    img[img <= 0.4] = 0\n",
    "    return img\n",
    "    \n",
    "result = postProcessImage(pred[i][:,:,0])\n",
    "gt = postProcessImage(y[i][:,:,0])\n",
    "diff = compareMasks(result, gt)\n",
    "\n",
    "# Input Picture\n",
    "plt.imshow(x[i, ..., 0], cmap='gray')\n",
    "plt.axis('off')\n",
    "plt.title('Eingabebild')\n",
    "plt.show()\n",
    "\n",
    "# Ground Truth\n",
    "plt.imshow(gt, cmap = 'gray')\n",
    "plt.title('Grundwahrheit')\n",
    "plt.axis('off')\n",
    "plt.show()\n",
    "\n",
    "# Prediction Dim 0\n",
    "plt.imshow(result, cmap = 'gray')\n",
    "plt.title('Vorhersage')\n",
    "plt.axis('off')\n",
    "plt.show()\n",
    "\n",
    "# Prediction Dim 1\n",
    "\n",
    "plt.imshow(diff)\n",
    "plt.title('Differenz')\n",
    "plt.axis('off')\n",
    "plt.show()"
   ]
  },
  {
   "cell_type": "code",
   "execution_count": 388,
   "metadata": {},
   "outputs": [
    {
     "name": "stderr",
     "output_type": "stream",
     "text": [
      "/home/dan/.conda/envs/tf-gpu/lib/python3.6/site-packages/ipykernel_launcher.py:9: DeprecationWarning: `imsave` is deprecated!\n",
      "`imsave` is deprecated in SciPy 1.0.0, and will be removed in 1.2.0.\n",
      "Use ``imageio.imwrite`` instead.\n",
      "  if __name__ == '__main__':\n",
      "/home/dan/.conda/envs/tf-gpu/lib/python3.6/site-packages/ipykernel_launcher.py:10: DeprecationWarning: `imsave` is deprecated!\n",
      "`imsave` is deprecated in SciPy 1.0.0, and will be removed in 1.2.0.\n",
      "Use ``imageio.imwrite`` instead.\n",
      "  # Remove the CWD from sys.path while we load stuff.\n",
      "/home/dan/.conda/envs/tf-gpu/lib/python3.6/site-packages/ipykernel_launcher.py:11: DeprecationWarning: `imsave` is deprecated!\n",
      "`imsave` is deprecated in SciPy 1.0.0, and will be removed in 1.2.0.\n",
      "Use ``imageio.imwrite`` instead.\n",
      "  # This is added back by InteractiveShellApp.init_path()\n",
      "/home/dan/.conda/envs/tf-gpu/lib/python3.6/site-packages/ipykernel_launcher.py:12: DeprecationWarning: `imsave` is deprecated!\n",
      "`imsave` is deprecated in SciPy 1.0.0, and will be removed in 1.2.0.\n",
      "Use ``imageio.imwrite`` instead.\n",
      "  if sys.path[0] == '':\n"
     ]
    }
   ],
   "source": [
    "OutputDir = '/home/dan/Desktop/Datenset_Block3/test/output'\n",
    "    \n",
    "imagePath = OutputDir + '/img/' + str(i) + '.png'\n",
    "maskPath =  OutputDir + '/pred/' + str(i) + '_pred.png'\n",
    "gtPath =    OutputDir + '/gt/' + str(i) + '_gt.png'\n",
    "diffPath =  OutputDir + '/diff/' + str(i) + '_diff.png'\n",
    "    \n",
    "    \n",
    "sc.imsave(imagePath, x[i, ... ,0])\n",
    "sc.imsave(gtPath, gt)\n",
    "sc.imsave(maskPath, result)\n",
    "sc.imsave(diffPath, diff)"
   ]
  },
  {
   "cell_type": "code",
   "execution_count": 404,
   "metadata": {},
   "outputs": [
    {
     "name": "stdout",
     "output_type": "stream",
     "text": [
      "/home/dan/Desktop/views/images/data/screenshot78.png\n",
      "/home/dan/Desktop/FINAL_DATASETS/Datenset_H/train/masks/screenshot78.png\n"
     ]
    },
    {
     "data": {
      "image/png": "[encoded data removed]",
      "text/plain": [
       "<Figure size 432x288 with 1 Axes>"
      ]
     },
     "metadata": {},
     "output_type": "display_data"
    },
    {
     "name": "stdout",
     "output_type": "stream",
     "text": [
      "/home/dan/Desktop/views/images/data/screenshot101.png\n",
      "/home/dan/Desktop/FINAL_DATASETS/Datenset_H/train/masks/screenshot101.png\n"
     ]
    },
    {
     "data": {
      "image/png": "[encoded data removed]",
      "text/plain": [
       "<Figure size 432x288 with 1 Axes>"
      ]
     },
     "metadata": {},
     "output_type": "display_data"
    },
    {
     "name": "stdout",
     "output_type": "stream",
     "text": [
      "/home/dan/Desktop/views/images/data/screenshot81.png\n",
      "/home/dan/Desktop/FINAL_DATASETS/Datenset_H/train/masks/screenshot81.png\n"
     ]
    },
    {
     "data": {
      "image/png": "[encoded data removed]",
      "text/plain": [
       "<Figure size 432x288 with 1 Axes>"
      ]
     },
     "metadata": {},
     "output_type": "display_data"
    },
    {
     "name": "stdout",
     "output_type": "stream",
     "text": [
      "/home/dan/Desktop/views/images/data/screenshot972.png\n",
      "/home/dan/Desktop/FINAL_DATASETS/Datenset_H/train/masks/screenshot972.png\n"
     ]
    },
    {
     "data": {
      "image/png": "[encoded data removed]",
      "text/plain": [
       "<Figure size 432x288 with 1 Axes>"
      ]
     },
     "metadata": {},
     "output_type": "display_data"
    },
    {
     "name": "stdout",
     "output_type": "stream",
     "text": [
      "/home/dan/Desktop/views/images/data/screenshot923.png\n",
      "/home/dan/Desktop/FINAL_DATASETS/Datenset_H/train/masks/screenshot923.png\n"
     ]
    },
    {
     "data": {
      "image/png": "[encoded data removed]",
      "text/plain": [
       "<Figure size 432x288 with 1 Axes>"
      ]
     },
     "metadata": {},
     "output_type": "display_data"
    },
    {
     "name": "stdout",
     "output_type": "stream",
     "text": [
      "/home/dan/Desktop/views/images/data/screenshot137.png\n",
      "/home/dan/Desktop/FINAL_DATASETS/Datenset_H/train/masks/screenshot137.png\n"
     ]
    },
    {
     "data": {
      "image/png": "[encoded data removed]",
      "text/plain": [
       "<Figure size 432x288 with 1 Axes>"
      ]
     },
     "metadata": {},
     "output_type": "display_data"
    },
    {
     "name": "stdout",
     "output_type": "stream",
     "text": [
      "/home/dan/Desktop/views/images/data/screenshot702.png\n",
      "/home/dan/Desktop/FINAL_DATASETS/Datenset_H/train/masks/screenshot702.png\n"
     ]
    },
    {
     "data": {
      "image/png": "[encoded data removed]",
      "text/plain": [
       "<Figure size 432x288 with 1 Axes>"
      ]
     },
     "metadata": {},
     "output_type": "display_data"
    },
    {
     "name": "stdout",
     "output_type": "stream",
     "text": [
      "/home/dan/Desktop/views/images/data/screenshot917.png\n",
      "/home/dan/Desktop/FINAL_DATASETS/Datenset_H/train/masks/screenshot917.png\n"
     ]
    },
    {
     "data": {
      "image/png": "[encoded data removed]",
      "text/plain": [
       "<Figure size 432x288 with 1 Axes>"
      ]
     },
     "metadata": {},
     "output_type": "display_data"
    },
    {
     "name": "stdout",
     "output_type": "stream",
     "text": [
      "/home/dan/Desktop/views/images/data/screenshot1221.png\n",
      "/home/dan/Desktop/FINAL_DATASETS/Datenset_H/train/masks/screenshot1221.png\n"
     ]
    },
    {
     "data": {
      "image/png": "[encoded data removed]",
      "text/plain": [
       "<Figure size 432x288 with 1 Axes>"
      ]
     },
     "metadata": {},
     "output_type": "display_data"
    },
    {
     "name": "stdout",
     "output_type": "stream",
     "text": [
      "/home/dan/Desktop/views/images/data/screenshot1180.png\n",
      "/home/dan/Desktop/FINAL_DATASETS/Datenset_H/train/masks/screenshot1180.png\n"
     ]
    },
    {
     "data": {
      "image/png": "[encoded data removed]",
      "text/plain": [
       "<Figure size 432x288 with 1 Axes>"
      ]
     },
     "metadata": {},
     "output_type": "display_data"
    },
    {
     "name": "stdout",
     "output_type": "stream",
     "text": [
      "/home/dan/Desktop/views/images/data/screenshot967.png\n",
      "/home/dan/Desktop/FINAL_DATASETS/Datenset_H/train/masks/screenshot967.png\n"
     ]
    },
    {
     "data": {
      "image/png": "[encoded data removed]",
      "text/plain": [
       "<Figure size 432x288 with 1 Axes>"
      ]
     },
     "metadata": {},
     "output_type": "display_data"
    },
    {
     "name": "stdout",
     "output_type": "stream",
     "text": [
      "/home/dan/Desktop/views/images/data/screenshot673.png\n",
      "/home/dan/Desktop/FINAL_DATASETS/Datenset_H/train/masks/screenshot673.png\n"
     ]
    },
    {
     "data": {
      "image/png": "[encoded data removed]",
      "text/plain": [
       "<Figure size 432x288 with 1 Axes>"
      ]
     },
     "metadata": {},
     "output_type": "display_data"
    },
    {
     "name": "stdout",
     "output_type": "stream",
     "text": [
      "/home/dan/Desktop/views/images/data/screenshot942.png\n",
      "/home/dan/Desktop/FINAL_DATASETS/Datenset_H/train/masks/screenshot942.png\n"
     ]
    },
    {
     "data": {
      "image/png": "[encoded data removed]",
      "text/plain": [
       "<Figure size 432x288 with 1 Axes>"
      ]
     },
     "metadata": {},
     "output_type": "display_data"
    },
    {
     "name": "stdout",
     "output_type": "stream",
     "text": [
      "/home/dan/Desktop/views/images/data/screenshot1188.png\n",
      "/home/dan/Desktop/FINAL_DATASETS/Datenset_H/train/masks/screenshot1188.png\n"
     ]
    },
    {
     "data": {
      "image/png": "[encoded data removed]",
      "text/plain": [
       "<Figure size 432x288 with 1 Axes>"
      ]
     },
     "metadata": {},
     "output_type": "display_data"
    },
    {
     "name": "stdout",
     "output_type": "stream",
     "text": [
      "/home/dan/Desktop/views/images/data/screenshot1175.png\n",
      "/home/dan/Desktop/FINAL_DATASETS/Datenset_H/train/masks/screenshot1175.png\n"
     ]
    },
    {
     "data": {
      "image/png": "[encoded data removed]",
      "text/plain": [
       "<Figure size 432x288 with 1 Axes>"
      ]
     },
     "metadata": {},
     "output_type": "display_data"
    },
    {
     "name": "stdout",
     "output_type": "stream",
     "text": [
      "/home/dan/Desktop/views/images/data/screenshot684.png\n",
      "/home/dan/Desktop/FINAL_DATASETS/Datenset_H/train/masks/screenshot684.png\n"
     ]
    },
    {
     "data": {
      "image/png": "[encoded data removed]",
      "text/plain": [
       "<Figure size 432x288 with 1 Axes>"
      ]
     },
     "metadata": {},
     "output_type": "display_data"
    },
    {
     "name": "stdout",
     "output_type": "stream",
     "text": [
      "/home/dan/Desktop/views/images/data/screenshot730.png\n",
      "/home/dan/Desktop/FINAL_DATASETS/Datenset_H/train/masks/screenshot730.png\n"
     ]
    },
    {
     "data": {
      "image/png": "[encoded data removed]",
      "text/plain": [
       "<Figure size 432x288 with 1 Axes>"
      ]
     },
     "metadata": {},
     "output_type": "display_data"
    },
    {
     "name": "stdout",
     "output_type": "stream",
     "text": [
      "/home/dan/Desktop/views/images/data/screenshot746.png\n",
      "/home/dan/Desktop/FINAL_DATASETS/Datenset_H/train/masks/screenshot746.png\n"
     ]
    },
    {
     "data": {
      "image/png": "[encoded data removed]",
      "text/plain": [
       "<Figure size 432x288 with 1 Axes>"
      ]
     },
     "metadata": {},
     "output_type": "display_data"
    },
    {
     "name": "stdout",
     "output_type": "stream",
     "text": [
      "/home/dan/Desktop/views/images/data/screenshot84.png\n",
      "/home/dan/Desktop/FINAL_DATASETS/Datenset_H/train/masks/screenshot84.png\n"
     ]
    },
    {
     "data": {
      "image/png": "[encoded data removed]",
      "text/plain": [
       "<Figure size 432x288 with 1 Axes>"
      ]
     },
     "metadata": {},
     "output_type": "display_data"
    }
   ],
   "source": [
    "# save the images  \n",
    "import scipy.misc as sc\n",
    "\n",
    "def iterate(path, size):\n",
    "    paths = glob(path)\n",
    "    i = 0\n",
    "    for p in paths:\n",
    "        print(p)\n",
    "        \n",
    "        \n",
    "        maskPath = p.replace(\"/home/dan/Desktop/views/images/data/\", InputMask)\n",
    "        mask = io.imread(maskPath, (224,224,1))\n",
    "        \n",
    "        result = postProcessImage(pred[i][:,:,0])\n",
    "        gt = postProcessImage(mask)\n",
    "        diff = compareMasks(result, gt)\n",
    "      \n",
    "        # Input Picture\n",
    "        plt.imshow(x[i, ..., 0], cmap='gray')\n",
    "        plt.axis('off')\n",
    "        plt.title('Eingabebild')\n",
    "        plt.show()\n",
    "\n",
    "        # Ground Truth\n",
    "        plt.imshow(gt, cmap = 'gray')\n",
    "        plt.title('Grundwahrheit')\n",
    "        plt.axis('off')\n",
    "        plt.show()\n",
    "\n",
    "        # Prediction Dim 0\n",
    "        plt.imshow(result, cmap = 'gray')\n",
    "        plt.title('Vorhersage')\n",
    "        plt.axis('off')\n",
    "        plt.show()\n",
    "        \n",
    "        \n",
    "        i += 1\n",
    "        # mask1 = np.array(mask1)\n",
    "        # mask1[mask1[:,:,0] > 0.001] = 1\n",
    "        # mask1[mask1 > 0.01] = 1\n",
    "        \n",
    "        # p2 = p.replace(\"/\",\"masks_02\")\n",
    "        # mask2 = read_img(p2, (224,224,1))\n",
    "        # mask2 = np.array(mask2)\n",
    "        # mask2[mask2[:,:,0] > 0.001] = 1\n",
    "\n",
    "\n",
    "InputDir = '/home/dan/Desktop/views/images/data/*.png'\n",
    "InputMask = '/home/dan/Desktop/FINAL_DATASETS/Datenset_H/train/masks' + '/'\n",
    "                             \n",
    "iterate(InputDir, (224,224,1))\n",
    "OutputDir = '/home/dan/Desktop/Datenset_Tower (Augmented)/test/output'\n",
    "\n",
    "    "
   ]
  },
  {
   "cell_type": "code",
   "execution_count": null,
   "metadata": {},
   "outputs": [],
   "source": [
    "'''\n",
    "for i in range(0, len(x)):    \n",
    "    \n",
    "    number = ('0'+ str(i)) if (i < 10) else str(i)\n",
    "    \n",
    "    result = postProcessImage(pred[i][:,:,0])\n",
    "    gt     = postProcessImage(y[i][:,:,0])\n",
    "    diff   = compareMasks(result, gt)\n",
    "    \n",
    "    imagePath = OutputDir + '/img/' + number + '.png'\n",
    "    maskPath =  OutputDir + '/pred/' + number + '_pred.png'\n",
    "    gtPath =    OutputDir + '/gt/' + number + '_gt.png'\n",
    "    diffPath =  OutputDir + '/diff/' + number + '_diff.png'\n",
    "    \n",
    "    \n",
    "    sc.imsave(imagePath, x[i, ... ,0])\n",
    "    sc.imsave(gtPath, gt)\n",
    "    sc.imsave(maskPath, result)\n",
    "    sc.imsave(diffPath, gt)\n",
    "    \n",
    "    if (i % 200 == 0):\n",
    "        print (i)\n",
    "'''"
   ]
  },
  {
   "cell_type": "code",
   "execution_count": null,
   "metadata": {},
   "outputs": [],
   "source": [
    "import loss_metrics \n",
    "\n",
    "print('DSC:       ' + str(f1_np(y, pred)))\n",
    "print('IoU:       ' + str(iou_np(y, pred)))\n",
    "print('Precision: ' + str(precision_np(y, pred)))\n",
    "print('Recall:    ' + str(recall_np(y, pred)))\n",
    "print('Error:     ' + str(error_np(y, pred)))"
   ]
  },
  {
   "cell_type": "code",
   "execution_count": null,
   "metadata": {},
   "outputs": [],
   "source": [
    "# list all data in history\n",
    "\n",
    "print(model.history.keys())\n",
    "# summarize history for accuracy\n",
    "plt.plot(hist.history['acc'])\n",
    "plt.plot(hist.history['val_acc'])\n",
    "plt.title('model accuracy')                      # Benennung des Grafen\n",
    "plt.ylabel('accuracy')                           # Benennung der y-Achse\n",
    "plt.xlabel('epoch')                              # Benennung der x-Achse\n",
    "plt.legend(['train', 'test'], loc='upper left')  # Legende\n",
    "plt.show()\n",
    "\n",
    "# summarize history for loss\n",
    "plt.plot(hist.history['loss'])\n",
    "plt.plot(hist.history['val_loss'])\n",
    "plt.title('model loss')                          # Benennung des Grafen\n",
    "plt.ylabel('loss')                               # Benennung der y-Achse\n",
    "plt.xlabel('epoch')                              # Benennung der x-Achse\n",
    "plt.legend(['train', 'test'], loc='upper left')\n",
    "plt.show()"
   ]
  },
  {
   "cell_type": "code",
   "execution_count": null,
   "metadata": {},
   "outputs": [],
   "source": [
    "print(pred.shape)"
   ]
  },
  {
   "cell_type": "code",
   "execution_count": null,
   "metadata": {},
   "outputs": [],
   "source": [
    "from keras.models import Model\n",
    "layer_outputs = [layer.output for layer in model.layers]\n",
    "activation_model = Model(input=model.input, output=layer_outputs)\n",
    "activations = activation_model.predict(test_image,1)\n",
    "\n",
    "print(test_image.shape)\n",
    "\n",
    "def display_activation(activations, col_size, row_size, act_index): \n",
    "    \n",
    "    activation = activations[act_index]\n",
    "    activation_index=0\n",
    "    fig, ax = plt.subplots(row_size, col_size, figsize=(row_size*2.5,col_size*1.5))\n",
    "    \n",
    "    for row in range(0,row_size): \n",
    "        for col in range(0,col_size):\n",
    "            ax[row][col].imshow(activation[:, :, activation_index], cmap='gray')\n",
    "            activation_index += 1\n",
    "            \n",
    "#display_activation(pred, 6, 5, 0)"
   ]
  },
  {
   "cell_type": "code",
   "execution_count": null,
   "metadata": {},
   "outputs": [],
   "source": []
  }
 ],
 "metadata": {
  "kernelspec": {
   "display_name": "TensorFlow-GPU",
   "language": "python",
   "name": "tf-gpu"
  },
  "language_info": {
   "codemirror_mode": {
    "name": "ipython",
    "version": 3
   },
   "file_extension": ".py",
   "mimetype": "text/x-python",
   "name": "python",
   "nbconvert_exporter": "python",
   "pygments_lexer": "ipython3",
   "version": "3.6.6"
  }
 },
 "nbformat": 4,
 "nbformat_minor": 2
}
