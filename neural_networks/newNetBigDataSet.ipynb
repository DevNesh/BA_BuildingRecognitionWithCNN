{
 "cells": [
  {
   "cell_type": "code",
   "execution_count": 175,
   "metadata": {},
   "outputs": [],
   "source": [
    "import numpy as np\n",
    "import pandas as pd\n",
    "import matplotlib.pyplot as plt\n",
    "%matplotlib inline\n",
    "import keras.backend as K\n",
    "from keras.models import *\n",
    "from keras.layers import *\n",
    "from keras.optimizers import *\n",
    "from keras.callbacks import *\n",
    "from keras.losses import *\n",
    "from keras.preprocessing.image import ImageDataGenerator\n",
    "import skimage.io as io\n",
    "import skimage.transform as tr\n",
    "import skimage.color\n",
    "import dask.array as da\n",
    "from glob import glob\n",
    "from unet import UNet\n",
    "import dask_imread"
   ]
  },
  {
   "cell_type": "code",
   "execution_count": 176,
   "metadata": {},
   "outputs": [
    {
     "name": "stderr",
     "output_type": "stream",
     "text": [
      "c:\\users\\wohlfart\\appdata\\local\\programs\\python\\python36\\lib\\site-packages\\skimage\\transform\\_warps.py:105: UserWarning: The default mode, 'constant', will be changed to 'reflect' in skimage 0.15.\n",
      "  warn(\"The default mode, 'constant', will be changed to 'reflect' in \"\n",
      "c:\\users\\wohlfart\\appdata\\local\\programs\\python\\python36\\lib\\site-packages\\skimage\\transform\\_warps.py:110: UserWarning: Anti-aliasing will be enabled by default in skimage 0.15 to avoid aliasing artifacts when down-sampling images.\n",
      "  warn(\"Anti-aliasing will be enabled by default in skimage 0.15 to \"\n"
     ]
    },
    {
     "name": "stdout",
     "output_type": "stream",
     "text": [
      "(224, 244, 1)\n"
     ]
    }
   ],
   "source": [
    "def read_imgs(path, size):\n",
    "    imgs = []\n",
    "    paths = glob(path)\n",
    "    for p in paths:\n",
    "        img = io.imread(p)\n",
    "        img = tr.resize(img, size)\n",
    "        imgs.append(img)\n",
    "    return np.array(imgs)\n",
    "\n",
    "x = read_imgs('C:/Users/wohlfart/Desktop/testset2/neu2/images/*.png', (224,244,3))\n",
    "y = read_imgs('C:/Users/wohlfart/Desktop/testset2/neu/masks/*.png', (224,244,1))\n",
    "print (y[1].shape)"
   ]
  },
  {
   "cell_type": "code",
   "execution_count": 184,
   "metadata": {},
   "outputs": [
    {
     "name": "stdout",
     "output_type": "stream",
     "text": [
      "Found 15 images belonging to 1 classes.\n",
      "Found 15 images belonging to 1 classes.\n",
      "(5, 224, 224, 3)\n",
      "(5, 224, 224, 1)\n"
     ]
    }
   ],
   "source": [
    "path1 = 'C:/Users/wohlfart/Desktop/testset2/neu/'\n",
    "path2 = 'C:/Users/wohlfart/Desktop/testset2/neu2/'\n",
    "image_generator = ImageDataGenerator().flow_from_directory(path2, target_size=(224,224), batch_size=5, class_mode=None, shuffle=False)\n",
    "mask_generator =  ImageDataGenerator().flow_from_directory(path1, target_size=(224,224), color_mode ='grayscale', batch_size=5, class_mode=None, shuffle=False)\n",
    "train_generator = zip(image_generator, mask_generator)\n",
    "\n",
    "print (image_generator[0].shape)\n",
    "print (mask_generator[0].shape)\n"
   ]
  },
  {
   "cell_type": "code",
   "execution_count": 220,
   "metadata": {
    "scrolled": true
   },
   "outputs": [
    {
     "data": {
      "image/png": "[encoded data removed]",
      "text/plain": [
       "<Figure size 432x288 with 1 Axes>"
      ]
     },
     "metadata": {},
     "output_type": "display_data"
    },
    {
     "name": "stderr",
     "output_type": "stream",
     "text": [
      "c:\\users\\wohlfart\\appdata\\local\\programs\\python\\python36\\lib\\site-packages\\skimage\\transform\\_warps.py:105: UserWarning: The default mode, 'constant', will be changed to 'reflect' in skimage 0.15.\n",
      "  warn(\"The default mode, 'constant', will be changed to 'reflect' in \"\n",
      "c:\\users\\wohlfart\\appdata\\local\\programs\\python\\python36\\lib\\site-packages\\skimage\\transform\\_warps.py:110: UserWarning: Anti-aliasing will be enabled by default in skimage 0.15 to avoid aliasing artifacts when down-sampling images.\n",
      "  warn(\"Anti-aliasing will be enabled by default in skimage 0.15 to \"\n"
     ]
    },
    {
     "data": {
      "image/png": "[encoded data removed]",
      "text/plain": [
       "<Figure size 432x288 with 1 Axes>"
      ]
     },
     "metadata": {},
     "output_type": "display_data"
    }
   ],
   "source": [
    "i = 3\n",
    "plt.imshow(image_generator[0][i].astype(np.uint8))\n",
    "plt.show()\n",
    "gray = np.asarray(mask_generator[0][i].astype(np.uint8))\n",
    "gray = tr.resize(gray,(224,224,3))\n",
    "gray = skimage.color.rgb2gray(gray)\n",
    "plt.imshow(gray, cmap='gray')\n",
    "plt.show()"
   ]
  },
  {
   "cell_type": "code",
   "execution_count": 208,
   "metadata": {},
   "outputs": [],
   "source": [
    "def iou(y_true, y_pred):\n",
    "    y_true_f = K.flatten(y_true)\n",
    "    y_pred_f = K.flatten(y_pred)\n",
    "    intersection = K.sum(y_true_f * y_pred_f)\n",
    "    return (intersection + 1.) / (K.sum(y_true_f) + K.sum(y_pred_f) + 1. - intersection)\n",
    "\n",
    "def iou_loss(y_true, y_pred):\n",
    "    return  -iou(y_true, y_pred)"
   ]
  },
  {
   "cell_type": "code",
   "execution_count": null,
   "metadata": {},
   "outputs": [],
   "source": []
  },
  {
   "cell_type": "code",
   "execution_count": 186,
   "metadata": {},
   "outputs": [
    {
     "name": "stdout",
     "output_type": "stream",
     "text": [
      "__________________________________________________________________________________________________\n",
      "Layer (type)                    Output Shape         Param #     Connected to                     \n",
      "==================================================================================================\n",
      "input_31 (InputLayer)           (None, 224, 224, 3)  0                                            \n",
      "__________________________________________________________________________________________________\n",
      "conv2d_522 (Conv2D)             (None, 224, 224, 16) 448         input_31[0][0]                   \n",
      "__________________________________________________________________________________________________\n",
      "conv2d_523 (Conv2D)             (None, 224, 224, 16) 2320        conv2d_522[0][0]                 \n",
      "__________________________________________________________________________________________________\n",
      "max_pooling2d_93 (MaxPooling2D) (None, 112, 112, 16) 0           conv2d_523[0][0]                 \n",
      "__________________________________________________________________________________________________\n",
      "conv2d_524 (Conv2D)             (None, 112, 112, 32) 4640        max_pooling2d_93[0][0]           \n",
      "__________________________________________________________________________________________________\n",
      "conv2d_525 (Conv2D)             (None, 112, 112, 32) 9248        conv2d_524[0][0]                 \n",
      "__________________________________________________________________________________________________\n",
      "max_pooling2d_94 (MaxPooling2D) (None, 56, 56, 32)   0           conv2d_525[0][0]                 \n",
      "__________________________________________________________________________________________________\n",
      "conv2d_526 (Conv2D)             (None, 56, 56, 64)   18496       max_pooling2d_94[0][0]           \n",
      "__________________________________________________________________________________________________\n",
      "conv2d_527 (Conv2D)             (None, 56, 56, 64)   36928       conv2d_526[0][0]                 \n",
      "__________________________________________________________________________________________________\n",
      "max_pooling2d_95 (MaxPooling2D) (None, 28, 28, 64)   0           conv2d_527[0][0]                 \n",
      "__________________________________________________________________________________________________\n",
      "conv2d_528 (Conv2D)             (None, 28, 28, 128)  73856       max_pooling2d_95[0][0]           \n",
      "__________________________________________________________________________________________________\n",
      "conv2d_529 (Conv2D)             (None, 28, 28, 128)  147584      conv2d_528[0][0]                 \n",
      "__________________________________________________________________________________________________\n",
      "max_pooling2d_96 (MaxPooling2D) (None, 14, 14, 128)  0           conv2d_529[0][0]                 \n",
      "__________________________________________________________________________________________________\n",
      "conv2d_530 (Conv2D)             (None, 14, 14, 256)  295168      max_pooling2d_96[0][0]           \n",
      "__________________________________________________________________________________________________\n",
      "dropout_27 (Dropout)            (None, 14, 14, 256)  0           conv2d_530[0][0]                 \n",
      "__________________________________________________________________________________________________\n",
      "conv2d_531 (Conv2D)             (None, 14, 14, 256)  590080      dropout_27[0][0]                 \n",
      "__________________________________________________________________________________________________\n",
      "up_sampling2d_89 (UpSampling2D) (None, 28, 28, 256)  0           conv2d_531[0][0]                 \n",
      "__________________________________________________________________________________________________\n",
      "conv2d_532 (Conv2D)             (None, 28, 28, 128)  131200      up_sampling2d_89[0][0]           \n",
      "__________________________________________________________________________________________________\n",
      "concatenate_77 (Concatenate)    (None, 28, 28, 256)  0           conv2d_529[0][0]                 \n",
      "                                                                 conv2d_532[0][0]                 \n",
      "__________________________________________________________________________________________________\n",
      "conv2d_533 (Conv2D)             (None, 28, 28, 128)  295040      concatenate_77[0][0]             \n",
      "__________________________________________________________________________________________________\n",
      "conv2d_534 (Conv2D)             (None, 28, 28, 128)  147584      conv2d_533[0][0]                 \n",
      "__________________________________________________________________________________________________\n",
      "up_sampling2d_90 (UpSampling2D) (None, 56, 56, 128)  0           conv2d_534[0][0]                 \n",
      "__________________________________________________________________________________________________\n",
      "conv2d_535 (Conv2D)             (None, 56, 56, 64)   32832       up_sampling2d_90[0][0]           \n",
      "__________________________________________________________________________________________________\n",
      "concatenate_78 (Concatenate)    (None, 56, 56, 128)  0           conv2d_527[0][0]                 \n",
      "                                                                 conv2d_535[0][0]                 \n",
      "__________________________________________________________________________________________________\n",
      "conv2d_536 (Conv2D)             (None, 56, 56, 64)   73792       concatenate_78[0][0]             \n",
      "__________________________________________________________________________________________________\n",
      "conv2d_537 (Conv2D)             (None, 56, 56, 64)   36928       conv2d_536[0][0]                 \n",
      "__________________________________________________________________________________________________\n",
      "up_sampling2d_91 (UpSampling2D) (None, 112, 112, 64) 0           conv2d_537[0][0]                 \n",
      "__________________________________________________________________________________________________\n",
      "conv2d_538 (Conv2D)             (None, 112, 112, 32) 8224        up_sampling2d_91[0][0]           \n",
      "__________________________________________________________________________________________________\n",
      "concatenate_79 (Concatenate)    (None, 112, 112, 64) 0           conv2d_525[0][0]                 \n",
      "                                                                 conv2d_538[0][0]                 \n",
      "__________________________________________________________________________________________________\n",
      "conv2d_539 (Conv2D)             (None, 112, 112, 32) 18464       concatenate_79[0][0]             \n",
      "__________________________________________________________________________________________________\n",
      "conv2d_540 (Conv2D)             (None, 112, 112, 32) 9248        conv2d_539[0][0]                 \n",
      "__________________________________________________________________________________________________\n",
      "up_sampling2d_92 (UpSampling2D) (None, 224, 224, 32) 0           conv2d_540[0][0]                 \n",
      "__________________________________________________________________________________________________\n",
      "conv2d_541 (Conv2D)             (None, 224, 224, 16) 2064        up_sampling2d_92[0][0]           \n",
      "__________________________________________________________________________________________________\n",
      "concatenate_80 (Concatenate)    (None, 224, 224, 32) 0           conv2d_523[0][0]                 \n",
      "                                                                 conv2d_541[0][0]                 \n",
      "__________________________________________________________________________________________________\n",
      "conv2d_542 (Conv2D)             (None, 224, 224, 16) 4624        concatenate_80[0][0]             \n",
      "__________________________________________________________________________________________________\n",
      "conv2d_543 (Conv2D)             (None, 224, 224, 16) 2320        conv2d_542[0][0]                 \n",
      "__________________________________________________________________________________________________\n",
      "conv2d_544 (Conv2D)             (None, 224, 224, 1)  17          conv2d_543[0][0]                 \n",
      "==================================================================================================\n",
      "Total params: 1,941,105\n",
      "Trainable params: 1,941,105\n",
      "Non-trainable params: 0\n",
      "__________________________________________________________________________________________________\n"
     ]
    }
   ],
   "source": [
    "model = UNet((224,224,3), 1, 16, 4, 2.0)\n",
    "model.summary()"
   ]
  },
  {
   "cell_type": "code",
   "execution_count": 187,
   "metadata": {},
   "outputs": [],
   "source": [
    "model.compile(optimizer=Adam(lr=0.001), loss=iou_loss)"
   ]
  },
  {
   "cell_type": "code",
   "execution_count": 188,
   "metadata": {},
   "outputs": [
    {
     "name": "stderr",
     "output_type": "stream",
     "text": [
      "c:\\users\\wohlfart\\appdata\\local\\programs\\python\\python36\\lib\\site-packages\\ipykernel_launcher.py:1: UserWarning: Update your `fit_generator` call to the Keras 2 API: `fit_generator(<zip objec..., epochs=2, verbose=2, steps_per_epoch=3)`\n",
      "  \"\"\"Entry point for launching an IPython kernel.\n"
     ]
    },
    {
     "name": "stdout",
     "output_type": "stream",
     "text": [
      "Epoch 1/2\n",
      " - 5s - loss: -1.6854e+00\n",
      "Epoch 2/2\n",
      " - 0s - loss: -1.1350e+01\n"
     ]
    },
    {
     "data": {
      "text/plain": [
       "<keras.callbacks.History at 0x1f8483c9ac8>"
      ]
     },
     "execution_count": 188,
     "metadata": {},
     "output_type": "execute_result"
    }
   ],
   "source": [
    "model.fit_generator(train_generator, samples_per_epoch=3, epochs=2, verbose=2)"
   ]
  },
  {
   "cell_type": "code",
   "execution_count": 134,
   "metadata": {},
   "outputs": [],
   "source": [
    "model.save('modelsave5.h5')"
   ]
  },
  {
   "cell_type": "code",
   "execution_count": null,
   "metadata": {},
   "outputs": [],
   "source": []
  }
 ],
 "metadata": {
  "kernelspec": {
   "display_name": "Python 3",
   "language": "python",
   "name": "python3"
  },
  "language_info": {
   "codemirror_mode": {
    "name": "ipython",
    "version": 3
   },
   "file_extension": ".py",
   "mimetype": "text/x-python",
   "name": "python",
   "nbconvert_exporter": "python",
   "pygments_lexer": "ipython3",
   "version": "3.6.2"
  }
 },
 "nbformat": 4,
 "nbformat_minor": 2
}
