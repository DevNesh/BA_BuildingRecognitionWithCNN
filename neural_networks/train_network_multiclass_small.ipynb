{
 "cells": [
  {
   "cell_type": "code",
   "execution_count": 1,
   "metadata": {},
   "outputs": [
    {
     "name": "stderr",
     "output_type": "stream",
     "text": [
      "Using TensorFlow backend.\n"
     ]
    }
   ],
   "source": [
    "import numpy as np\n",
    "import pandas as pd\n",
    "import matplotlib.pyplot as plt\n",
    "%matplotlib inline\n",
    "import keras.backend as K\n",
    "from keras.models import *\n",
    "from keras.layers import *\n",
    "from keras.optimizers import *\n",
    "from keras.callbacks import *\n",
    "from keras.losses import *\n",
    "import skimage.io as io\n",
    "import skimage.transform as tr\n",
    "import skimage.color\n",
    "import dask.array as da\n",
    "from glob import glob\n",
    "from dask.array.image import imread\n",
    "from skimage import img_as_ubyte"
   ]
  },
  {
   "cell_type": "code",
   "execution_count": 2,
   "metadata": {
    "scrolled": false
   },
   "outputs": [
    {
     "name": "stderr",
     "output_type": "stream",
     "text": [
      "/home/dan/.conda/envs/tf-gpu/lib/python3.6/site-packages/skimage/transform/_warps.py:105: UserWarning: The default mode, 'constant', will be changed to 'reflect' in skimage 0.15.\n",
      "  warn(\"The default mode, 'constant', will be changed to 'reflect' in \"\n",
      "/home/dan/.conda/envs/tf-gpu/lib/python3.6/site-packages/skimage/transform/_warps.py:110: UserWarning: Anti-aliasing will be enabled by default in skimage 0.15 to avoid aliasing artifacts when down-sampling images.\n",
      "  warn(\"Anti-aliasing will be enabled by default in skimage 0.15 to \"\n",
      "/home/dan/.conda/envs/tf-gpu/lib/python3.6/site-packages/skimage/util/dtype.py:130: UserWarning: Possible precision loss when converting from float64 to uint8\n",
      "  .format(dtypeobj_in, dtypeobj_out))\n"
     ]
    },
    {
     "name": "stdout",
     "output_type": "stream",
     "text": [
      "200\n",
      "400\n",
      "600\n",
      "800\n",
      "1000\n",
      "1200\n",
      "1400\n",
      "1600\n",
      "1800\n",
      "2000\n",
      "2200\n",
      "2400\n",
      "2600\n",
      "2800\n",
      "3000\n",
      "200\n",
      "400\n",
      "600\n",
      "800\n",
      "1000\n",
      "1200\n",
      "1400\n",
      "1600\n",
      "1800\n",
      "2000\n",
      "2200\n",
      "2400\n",
      "2600\n",
      "2800\n",
      "3000\n"
     ]
    }
   ],
   "source": [
    "def read_img(path, size):\n",
    "    img = io.imread(path)\n",
    "    img = tr.resize(img, size)\n",
    "    img_as_ubyte(img)\n",
    "    return img\n",
    "\n",
    "def read_imgs(path, size):\n",
    "    imgs = []\n",
    "    paths = glob(path)\n",
    "    index = 0\n",
    "    for p in paths:\n",
    "        img = read_img(p, size)\n",
    "        imgs.append(img)\n",
    "        index += 1\n",
    "        if (index % 200 == 0):\n",
    "            print(index)\n",
    "    return np.array(imgs)\n",
    "\n",
    "\n",
    "# Reads the images from a path, iterating over all images\n",
    "# - resizing them to a 1 channel grayscale image\n",
    "# - saving all images in a numpy array, returns this array \n",
    "def read_masks(path, size):\n",
    "    imgs = []\n",
    "    paths = glob(path)\n",
    "    index = 0\n",
    "    for p in paths:\n",
    "        \n",
    "        mask1 = read_img(p, (224,224,1))\n",
    "        mask1 = np.array(mask1)\n",
    "        mask1[mask1[:,:,0] > 0.001] = 1\n",
    "        #mask1[mask1 > 0.01] = 1\n",
    "        \n",
    "        p2 = p.replace(\"masks_01\",\"masks_02\")\n",
    "        mask2 = read_img(p2, (224,224,1))\n",
    "        mask2 = np.array(mask2)\n",
    "        mask2[mask2[:,:,0] > 0.001] = 1\n",
    "        \n",
    "        p3 = p.replace(\"masks_01\",\"masks_03\")\n",
    "        mask3 = read_img(p3, (224,224,1))\n",
    "        mask3 = np.array(mask3)\n",
    "        mask3[mask3[:,:,0] > 0.001] = 1\n",
    "        \n",
    "        \n",
    "        #black = np.zeros((224,224,1))\n",
    "       \n",
    "        \n",
    "        \n",
    "        #if (index == 4):\n",
    "        #    arr1 = np.zeros((224,224,1))\n",
    "         #   arr2 = np.zeros((224,224,1))\n",
    "         #   neu = np.zeros((224,224,1))\n",
    "            \n",
    "         #   neu = np.concatenate([arr1,arr2,mask2], axis=2)\n",
    "        #    io.imsave('teeeeest.png',neu)\n",
    "        #    print('Done')\n",
    "        \n",
    "\n",
    "        #p3 = p.replace(\"masks_03\",\"masks_02\")\n",
    "        #print(p3)\n",
    "        #mask3 = read_img(p3, (224,224,1))\n",
    "        \n",
    "        masks = np.concatenate([mask1, mask2, mask3], axis=2)\n",
    "        \n",
    "        imgs.append(masks)\n",
    "        index += 1\n",
    "        if (index % 200 == 0):\n",
    "            print(index)\n",
    "    return np.array(imgs)\n",
    "\n",
    "# Saves the data into a variable (x = input, y = masks / ground truth)\n",
    "x = None\n",
    "x = read_imgs('/home/dan/Desktop/combined_masks/images/data/*.png', (224,224,1))\n",
    "y = None\n",
    "y = read_masks('/home/dan/Desktop/combined_masks/masks_01/data/*.png', (224,224,1))"
   ]
  },
  {
   "cell_type": "code",
   "execution_count": 3,
   "metadata": {},
   "outputs": [],
   "source": [
    "mask_train = tf.keras.utils.to_categorical(y,2)"
   ]
  },
  {
   "cell_type": "code",
   "execution_count": 90,
   "metadata": {},
   "outputs": [
    {
     "name": "stdout",
     "output_type": "stream",
     "text": [
      "(3064, 224, 224, 2)\n",
      "3064\n",
      "(3064, 50176, 2)\n"
     ]
    }
   ],
   "source": [
    "print(y.shape)\n",
    "print(y.shape[0])\n",
    "\n",
    "test = y.reshape(y.shape[0],-1,y.shape[3])\n",
    "print(test.shape)\n",
    "\n",
    "u = test.reshape((3064,224,224,2))\n"
   ]
  },
  {
   "cell_type": "code",
   "execution_count": 3,
   "metadata": {},
   "outputs": [
    {
     "name": "stdout",
     "output_type": "stream",
     "text": [
      "(3064, 224, 224, 3)\n"
     ]
    }
   ],
   "source": [
    "print (y.shape)"
   ]
  },
  {
   "cell_type": "code",
   "execution_count": 5,
   "metadata": {},
   "outputs": [],
   "source": [
    "def showImage(img, title=None, cmap=None):\n",
    "    \n",
    "    if (title != None):\n",
    "        plt.title(title)\n",
    "        \n",
    "    plt.imshow(img[:,:,0], cmap = cmap)\n",
    "    plt.show()    \n",
    "\n",
    "\n",
    "def showImageFromArray(arr, i, title=None, cmap=None):\n",
    "    showImage(arr[i],title,cmap)"
   ]
  },
  {
   "cell_type": "code",
   "execution_count": 4,
   "metadata": {},
   "outputs": [
    {
     "data": {
      "image/png": "[encoded data removed]",
      "text/plain": [
       "<Figure size 432x288 with 1 Axes>"
      ]
     },
     "metadata": {},
     "output_type": "display_data"
    },
    {
     "data": {
      "image/png": "[encoded data removed]",
      "text/plain": [
       "<Figure size 432x288 with 1 Axes>"
      ]
     },
     "metadata": {},
     "output_type": "display_data"
    },
    {
     "data": {
      "image/png": "[encoded data removed]",
      "text/plain": [
       "<Figure size 432x288 with 1 Axes>"
      ]
     },
     "metadata": {},
     "output_type": "display_data"
    }
   ],
   "source": [
    "# Plots the images in jupyter notebook for comparison\n",
    "#y = y/255\n",
    "#showImage(x[600], cmap='gray')\n",
    "\n",
    "plt.imshow(y[4][:,:,0], cmap = 'gray')\n",
    "plt.show()\n",
    "\n",
    "plt.imshow(y[4][:,:,1], cmap = 'gray')\n",
    "plt.show()\n",
    "\n",
    "plt.imshow(y[4][:,:,2], cmap = 'gray')\n",
    "plt.show()"
   ]
  },
  {
   "cell_type": "code",
   "execution_count": 51,
   "metadata": {},
   "outputs": [
    {
     "name": "stdout",
     "output_type": "stream",
     "text": [
      "(3064, 224, 224, 3)\n"
     ]
    }
   ],
   "source": [
    "print(y.shape)"
   ]
  },
  {
   "cell_type": "code",
   "execution_count": 5,
   "metadata": {},
   "outputs": [],
   "source": [
    "# Defining the loss function \n",
    "def iou(y_true, y_pred):\n",
    "    y_true_f = K.flatten(y_true)\n",
    "    y_pred_f = K.flatten(y_pred)\n",
    "    intersection = K.sum(y_true_f * y_pred_f)\n",
    "    return (intersection + 1.) / (K.sum(y_true_f) + K.sum(y_pred_f) + 1. - intersection)\n",
    "\n",
    "def iou_loss(y_true, y_pred):\n",
    "    return  -iou(y_true, y_pred)\n",
    "\n",
    "def f1(y_true, y_pred):\n",
    "    y_true_f = K.flatten(y_true)\n",
    "    y_pred_f = K.flatten(y_pred)\n",
    "    intersection = K.sum(y_true_f * y_pred_f)\n",
    "    return (2. * intersection + 1.) / (K.sum(y_true_f) + K.sum(y_pred_f) + 1.)\n",
    "\n",
    "def f1_np(y_true, y_pred):\n",
    "    return (2. * (y_true * y_pred).sum() + 1.) / (y_true.sum() + y_pred.sum() + 1.)\n",
    "\n",
    "def f1_loss(y_true, y_pred):\n",
    "    return 1-f1(y_true, y_pred)\n",
    "\n",
    "def precision(y_true, y_pred):\n",
    "    y_true_f = K.flatten(y_true)\n",
    "    y_pred_f = K.flatten(y_pred)\n",
    "    intersection = K.sum(y_true_f * y_pred_f)\n",
    "    return (intersection + 1.) / (K.sum(y_pred_f) + 1.)\n",
    "\n",
    "def precision_np(y_true, y_pred):\n",
    "    return ((y_true * y_pred).sum() + 1.) / (y_pred.sum() + 1.)\n",
    "\n",
    "def recall(y_true, y_pred):\n",
    "    y_true_f = K.flatten(y_true)\n",
    "    y_pred_f = K.flatten(y_pred)\n",
    "    intersection = K.sum(y_true_f * y_pred_f)\n",
    "    return (intersection + 1.) / (K.sum(y_true_f) + 1.)\n",
    "\n",
    "def recall_np(y_true, y_pred):\n",
    "    return ((y_true * y_pred).sum() + 1.) / (y_true.sum() + 1.)\n",
    "\n",
    "def mae_img(y_true, y_pred):\n",
    "    y_true_f = K.flatten(y_true)\n",
    "    y_pred_f = K.flatten(y_pred)\n",
    "    return mae(y_true_f, y_pred_f)\n",
    "\n",
    "def bce_img(y_true, y_pred):\n",
    "    y_true_f = K.flatten(y_true)\n",
    "    y_pred_f = K.flatten(y_pred)\n",
    "    return binary_crossentropy(y_true_f, y_pred_f)\n",
    "\n",
    "def f1_bce(y_true, y_pred):\n",
    "    return f1_loss(y_true, y_pred) + bce_img(y_true, y_pred)\n",
    "\n",
    "# FP + FN\n",
    "def error(y_true, y_pred):\n",
    "    y_true_f = K.flatten(y_true)\n",
    "    y_pred_f = K.flatten(y_pred)\n",
    "    return K.sum(K.abs(y_true_f - y_pred_f)) / float(224*224)\n",
    "\n",
    "def error_np(y_true, y_pred):\n",
    "    return (abs(y_true - y_pred)).sum() / float(len(y_true.flatten()))"
   ]
  },
  {
   "cell_type": "code",
   "execution_count": 6,
   "metadata": {},
   "outputs": [],
   "source": [
    "# create callbacks\n",
    "earlyStop = EarlyStopping(monitor='val_loss', patience = 5)\n",
    "checkpoint = ModelCheckpoint('training_multi_best5.h5', save_best_only=True)\n",
    "#tensorBoard = keras.callbacks.TensorBoard(log_dir= dsPath + '/logs', histogram_freq=0, batch_size=batch_size, write_graph=True, write_grads=False, write_images=False, embeddings_freq=0, embeddings_layer_names=None, embeddings_metadata=None, embeddings_data=None)"
   ]
  },
  {
   "cell_type": "markdown",
   "metadata": {
    "collapsed": true
   },
   "source": [
    "#Altes Modell laden\n",
    "from keras.models import load_model\n",
    "model = load_model('modelsave2.h5', custom_objects={'iou_loss': iou_loss})\n",
    "\n",
    "model.summary()"
   ]
  },
  {
   "cell_type": "code",
   "execution_count": 7,
   "metadata": {},
   "outputs": [
    {
     "name": "stdout",
     "output_type": "stream",
     "text": [
      "__________________________________________________________________________________________________\n",
      "Layer (type)                    Output Shape         Param #     Connected to                     \n",
      "==================================================================================================\n",
      "input_1 (InputLayer)            (None, 224, 224, 1)  0                                            \n",
      "__________________________________________________________________________________________________\n",
      "conv2d_1 (Conv2D)               (None, 224, 224, 16) 160         input_1[0][0]                    \n",
      "__________________________________________________________________________________________________\n",
      "conv2d_2 (Conv2D)               (None, 224, 224, 16) 2320        conv2d_1[0][0]                   \n",
      "__________________________________________________________________________________________________\n",
      "max_pooling2d_1 (MaxPooling2D)  (None, 112, 112, 16) 0           conv2d_2[0][0]                   \n",
      "__________________________________________________________________________________________________\n",
      "conv2d_3 (Conv2D)               (None, 112, 112, 32) 4640        max_pooling2d_1[0][0]            \n",
      "__________________________________________________________________________________________________\n",
      "conv2d_4 (Conv2D)               (None, 112, 112, 32) 9248        conv2d_3[0][0]                   \n",
      "__________________________________________________________________________________________________\n",
      "max_pooling2d_2 (MaxPooling2D)  (None, 56, 56, 32)   0           conv2d_4[0][0]                   \n",
      "__________________________________________________________________________________________________\n",
      "conv2d_5 (Conv2D)               (None, 56, 56, 64)   18496       max_pooling2d_2[0][0]            \n",
      "__________________________________________________________________________________________________\n",
      "conv2d_6 (Conv2D)               (None, 56, 56, 64)   36928       conv2d_5[0][0]                   \n",
      "__________________________________________________________________________________________________\n",
      "max_pooling2d_3 (MaxPooling2D)  (None, 28, 28, 64)   0           conv2d_6[0][0]                   \n",
      "__________________________________________________________________________________________________\n",
      "conv2d_7 (Conv2D)               (None, 28, 28, 128)  73856       max_pooling2d_3[0][0]            \n",
      "__________________________________________________________________________________________________\n",
      "conv2d_8 (Conv2D)               (None, 28, 28, 128)  147584      conv2d_7[0][0]                   \n",
      "__________________________________________________________________________________________________\n",
      "max_pooling2d_4 (MaxPooling2D)  (None, 14, 14, 128)  0           conv2d_8[0][0]                   \n",
      "__________________________________________________________________________________________________\n",
      "conv2d_9 (Conv2D)               (None, 14, 14, 256)  295168      max_pooling2d_4[0][0]            \n",
      "__________________________________________________________________________________________________\n",
      "dropout_1 (Dropout)             (None, 14, 14, 256)  0           conv2d_9[0][0]                   \n",
      "__________________________________________________________________________________________________\n",
      "conv2d_10 (Conv2D)              (None, 14, 14, 256)  590080      dropout_1[0][0]                  \n",
      "__________________________________________________________________________________________________\n",
      "up_sampling2d_1 (UpSampling2D)  (None, 28, 28, 256)  0           conv2d_10[0][0]                  \n",
      "__________________________________________________________________________________________________\n",
      "conv2d_11 (Conv2D)              (None, 28, 28, 128)  131200      up_sampling2d_1[0][0]            \n",
      "__________________________________________________________________________________________________\n",
      "concatenate_1 (Concatenate)     (None, 28, 28, 256)  0           conv2d_8[0][0]                   \n",
      "                                                                 conv2d_11[0][0]                  \n",
      "__________________________________________________________________________________________________\n",
      "conv2d_12 (Conv2D)              (None, 28, 28, 128)  295040      concatenate_1[0][0]              \n",
      "__________________________________________________________________________________________________\n",
      "conv2d_13 (Conv2D)              (None, 28, 28, 128)  147584      conv2d_12[0][0]                  \n",
      "__________________________________________________________________________________________________\n",
      "up_sampling2d_2 (UpSampling2D)  (None, 56, 56, 128)  0           conv2d_13[0][0]                  \n",
      "__________________________________________________________________________________________________\n",
      "conv2d_14 (Conv2D)              (None, 56, 56, 64)   32832       up_sampling2d_2[0][0]            \n",
      "__________________________________________________________________________________________________\n",
      "concatenate_2 (Concatenate)     (None, 56, 56, 128)  0           conv2d_6[0][0]                   \n",
      "                                                                 conv2d_14[0][0]                  \n",
      "__________________________________________________________________________________________________\n",
      "conv2d_15 (Conv2D)              (None, 56, 56, 64)   73792       concatenate_2[0][0]              \n",
      "__________________________________________________________________________________________________\n",
      "conv2d_16 (Conv2D)              (None, 56, 56, 64)   36928       conv2d_15[0][0]                  \n",
      "__________________________________________________________________________________________________\n",
      "up_sampling2d_3 (UpSampling2D)  (None, 112, 112, 64) 0           conv2d_16[0][0]                  \n",
      "__________________________________________________________________________________________________\n",
      "conv2d_17 (Conv2D)              (None, 112, 112, 32) 8224        up_sampling2d_3[0][0]            \n",
      "__________________________________________________________________________________________________\n",
      "concatenate_3 (Concatenate)     (None, 112, 112, 64) 0           conv2d_4[0][0]                   \n",
      "                                                                 conv2d_17[0][0]                  \n",
      "__________________________________________________________________________________________________\n",
      "conv2d_18 (Conv2D)              (None, 112, 112, 32) 18464       concatenate_3[0][0]              \n",
      "__________________________________________________________________________________________________\n",
      "conv2d_19 (Conv2D)              (None, 112, 112, 32) 9248        conv2d_18[0][0]                  \n",
      "__________________________________________________________________________________________________\n",
      "up_sampling2d_4 (UpSampling2D)  (None, 224, 224, 32) 0           conv2d_19[0][0]                  \n",
      "__________________________________________________________________________________________________\n",
      "conv2d_20 (Conv2D)              (None, 224, 224, 16) 2064        up_sampling2d_4[0][0]            \n",
      "__________________________________________________________________________________________________\n",
      "concatenate_4 (Concatenate)     (None, 224, 224, 32) 0           conv2d_2[0][0]                   \n",
      "                                                                 conv2d_20[0][0]                  \n",
      "__________________________________________________________________________________________________\n",
      "conv2d_21 (Conv2D)              (None, 224, 224, 16) 4624        concatenate_4[0][0]              \n",
      "__________________________________________________________________________________________________\n",
      "conv2d_22 (Conv2D)              (None, 224, 224, 16) 2320        conv2d_21[0][0]                  \n",
      "__________________________________________________________________________________________________\n",
      "conv2d_23 (Conv2D)              (None, 224, 224, 3)  51          conv2d_22[0][0]                  \n",
      "==================================================================================================\n",
      "Total params: 1,940,851\n",
      "Trainable params: 1,940,851\n",
      "Non-trainable params: 0\n",
      "__________________________________________________________________________________________________\n"
     ]
    }
   ],
   "source": [
    "from unet import UNet\n",
    "model = None\n",
    "model = UNet((224,224,1), 3, 16, 4, 2.0)\n",
    "model.summary()"
   ]
  },
  {
   "cell_type": "code",
   "execution_count": 8,
   "metadata": {},
   "outputs": [],
   "source": [
    "model.compile(optimizer=Adam(lr=0.0001), loss=f1_loss, metrics=[iou_loss, precision, error,recall])"
   ]
  },
  {
   "cell_type": "code",
   "execution_count": 10,
   "metadata": {
    "scrolled": false
   },
   "outputs": [
    {
     "name": "stdout",
     "output_type": "stream",
     "text": [
      "Train on 2450 samples, validate on 614 samples\n",
      "Epoch 1/20\n",
      "2450/2450 [==============================] - 25s 10ms/step - loss: 0.8843 - iou_loss: -0.0627 - precision: 0.0740 - error: 18.1199 - recall: 0.4282 - val_loss: 0.8139 - val_iou_loss: -0.1028 - val_precision: 0.1223 - val_error: 4.6176 - val_recall: 0.3911\n",
      "Epoch 2/20\n",
      "2450/2450 [==============================] - 23s 10ms/step - loss: 0.7799 - iou_loss: -0.1241 - precision: 0.1656 - error: 4.2932 - recall: 0.4193 - val_loss: 0.7567 - val_iou_loss: -0.1386 - val_precision: 0.1607 - val_error: 4.1966 - val_recall: 0.5037\n",
      "Epoch 3/20\n",
      "2450/2450 [==============================] - 23s 10ms/step - loss: 0.6802 - iou_loss: -0.1908 - precision: 0.3091 - error: 2.0660 - recall: 0.3506 - val_loss: 0.6556 - val_iou_loss: -0.2083 - val_precision: 0.2970 - val_error: 2.0986 - val_recall: 0.4123\n",
      "Epoch 4/20\n",
      "2450/2450 [==============================] - 23s 10ms/step - loss: 0.6117 - iou_loss: -0.2419 - precision: 0.4085 - error: 1.6850 - recall: 0.3845 - val_loss: 0.5958 - val_iou_loss: -0.2536 - val_precision: 0.3283 - val_error: 2.0878 - val_recall: 0.5286\n",
      "Epoch 5/20\n",
      "2450/2450 [==============================] - 24s 10ms/step - loss: 0.4808 - iou_loss: -0.3522 - precision: 0.5728 - error: 1.2544 - recall: 0.4850 - val_loss: 0.4314 - val_iou_loss: -0.3981 - val_precision: 0.6633 - val_error: 1.0232 - val_recall: 0.4984\n",
      "Epoch 6/20\n",
      "2450/2450 [==============================] - 24s 10ms/step - loss: 0.4035 - iou_loss: -0.4260 - precision: 0.6729 - error: 1.0153 - recall: 0.5434 - val_loss: 0.3781 - val_iou_loss: -0.4520 - val_precision: 0.7294 - val_error: 0.8899 - val_recall: 0.5429\n",
      "Epoch 7/20\n",
      "2450/2450 [==============================] - 24s 10ms/step - loss: 0.3659 - iou_loss: -0.4656 - precision: 0.7171 - error: 0.9177 - recall: 0.5749 - val_loss: 0.3557 - val_iou_loss: -0.4762 - val_precision: 0.6832 - val_error: 0.9132 - val_recall: 0.6109\n",
      "Epoch 8/20\n",
      "2450/2450 [==============================] - 24s 10ms/step - loss: 0.3279 - iou_loss: -0.5075 - precision: 0.7611 - error: 0.8124 - recall: 0.6060 - val_loss: 0.3463 - val_iou_loss: -0.4870 - val_precision: 0.7176 - val_error: 0.8650 - val_recall: 0.6019\n",
      "Epoch 9/20\n",
      "2450/2450 [==============================] - 24s 10ms/step - loss: 0.3088 - iou_loss: -0.5293 - precision: 0.7884 - error: 0.7656 - recall: 0.6187 - val_loss: 0.3124 - val_iou_loss: -0.5249 - val_precision: 0.7238 - val_error: 0.8032 - val_recall: 0.6560\n",
      "Epoch 10/20\n",
      "2450/2450 [==============================] - 24s 10ms/step - loss: 0.2936 - iou_loss: -0.5475 - precision: 0.8034 - error: 0.7268 - recall: 0.6332 - val_loss: 0.2874 - val_iou_loss: -0.5548 - val_precision: 0.8324 - val_error: 0.6812 - val_recall: 0.6240\n",
      "Epoch 11/20\n",
      "2450/2450 [==============================] - 24s 10ms/step - loss: 0.2781 - iou_loss: -0.5661 - precision: 0.8229 - error: 0.6874 - recall: 0.6468 - val_loss: 0.2872 - val_iou_loss: -0.5547 - val_precision: 0.7685 - val_error: 0.7227 - val_recall: 0.6655\n",
      "Epoch 12/20\n",
      "2450/2450 [==============================] - 24s 10ms/step - loss: 0.2700 - iou_loss: -0.5759 - precision: 0.8285 - error: 0.6699 - recall: 0.6555 - val_loss: 0.2807 - val_iou_loss: -0.5629 - val_precision: 0.7915 - val_error: 0.6983 - val_recall: 0.6601\n",
      "Epoch 13/20\n",
      "2450/2450 [==============================] - 24s 10ms/step - loss: 0.2541 - iou_loss: -0.5956 - precision: 0.8495 - error: 0.6257 - recall: 0.6666 - val_loss: 0.2746 - val_iou_loss: -0.5703 - val_precision: 0.8126 - val_error: 0.6736 - val_recall: 0.6560\n",
      "Epoch 14/20\n",
      "2450/2450 [==============================] - 24s 10ms/step - loss: 0.2431 - iou_loss: -0.6098 - precision: 0.8629 - error: 0.5977 - recall: 0.6752 - val_loss: 0.2602 - val_iou_loss: -0.5880 - val_precision: 0.8096 - val_error: 0.6463 - val_recall: 0.6818\n",
      "Epoch 15/20\n",
      "2450/2450 [==============================] - 24s 10ms/step - loss: 0.2450 - iou_loss: -0.6075 - precision: 0.8615 - error: 0.6046 - recall: 0.6749 - val_loss: 0.2507 - val_iou_loss: -0.6004 - val_precision: 0.8261 - val_error: 0.6230 - val_recall: 0.6864\n",
      "Epoch 16/20\n",
      "2450/2450 [==============================] - 24s 10ms/step - loss: 0.2299 - iou_loss: -0.6269 - precision: 0.8744 - error: 0.5693 - recall: 0.6893 - val_loss: 0.2480 - val_iou_loss: -0.6037 - val_precision: 0.8253 - val_error: 0.6178 - val_recall: 0.6915\n",
      "Epoch 17/20\n",
      "2450/2450 [==============================] - 24s 10ms/step - loss: 0.2241 - iou_loss: -0.6347 - precision: 0.8821 - error: 0.5539 - recall: 0.6941 - val_loss: 0.2346 - val_iou_loss: -0.6211 - val_precision: 0.8754 - val_error: 0.5652 - val_recall: 0.6808\n",
      "Epoch 18/20\n",
      "2450/2450 [==============================] - 24s 10ms/step - loss: 0.2203 - iou_loss: -0.6398 - precision: 0.8861 - error: 0.5431 - recall: 0.6972 - val_loss: 0.2397 - val_iou_loss: -0.6145 - val_precision: 0.8401 - val_error: 0.5926 - val_recall: 0.6951\n",
      "Epoch 19/20\n",
      "2450/2450 [==============================] - 24s 10ms/step - loss: 0.2141 - iou_loss: -0.6483 - precision: 0.8924 - error: 0.5288 - recall: 0.7029 - val_loss: 0.2387 - val_iou_loss: -0.6158 - val_precision: 0.8828 - val_error: 0.5680 - val_recall: 0.6701\n",
      "Epoch 20/20\n",
      "2450/2450 [==============================] - 24s 10ms/step - loss: 0.2480 - iou_loss: -0.6046 - precision: 0.8499 - error: 0.6182 - recall: 0.6781 - val_loss: 0.2635 - val_iou_loss: -0.5839 - val_precision: 0.7870 - val_error: 0.6724 - val_recall: 0.6931\n"
     ]
    },
    {
     "data": {
      "text/plain": [
       "<keras.callbacks.History at 0x7fe2682726d8>"
      ]
     },
     "execution_count": 10,
     "metadata": {},
     "output_type": "execute_result"
    }
   ],
   "source": [
    "train = 2450 # = 80% of all given data\n",
    "model.fit(x[:train], y[:train], batch_size=32, epochs=20,\n",
    "         validation_data=(x[train:], y[train:]), shuffle=True, callbacks=[earlyStop, checkpoint])"
   ]
  },
  {
   "cell_type": "code",
   "execution_count": 24,
   "metadata": {},
   "outputs": [],
   "source": [
    "model.save('training_multi5.h5')"
   ]
  },
  {
   "cell_type": "code",
   "execution_count": 28,
   "metadata": {},
   "outputs": [
    {
     "ename": "AttributeError",
     "evalue": "'History' object has no attribute 'keys'",
     "output_type": "error",
     "traceback": [
      "\u001b[0;31m---------------------------------------------------------------------------\u001b[0m",
      "\u001b[0;31mAttributeError\u001b[0m                            Traceback (most recent call last)",
      "\u001b[0;32m<ipython-input-28-f59c3018e123>\u001b[0m in \u001b[0;36m<module>\u001b[0;34m()\u001b[0m\n\u001b[0;32m----> 1\u001b[0;31m \u001b[0mmodel\u001b[0m\u001b[0;34m.\u001b[0m\u001b[0mhistory\u001b[0m\u001b[0;34m.\u001b[0m\u001b[0mkeys\u001b[0m\u001b[0;34m(\u001b[0m\u001b[0;34m)\u001b[0m\u001b[0;34m\u001b[0m\u001b[0m\n\u001b[0m",
      "\u001b[0;31mAttributeError\u001b[0m: 'History' object has no attribute 'keys'"
     ]
    }
   ],
   "source": [
    "model.history.keys()"
   ]
  },
  {
   "cell_type": "code",
   "execution_count": 11,
   "metadata": {},
   "outputs": [
    {
     "name": "stderr",
     "output_type": "stream",
     "text": [
      "/home/dan/.conda/envs/tf-gpu/lib/python3.6/site-packages/skimage/transform/_warps.py:105: UserWarning: The default mode, 'constant', will be changed to 'reflect' in skimage 0.15.\n",
      "  warn(\"The default mode, 'constant', will be changed to 'reflect' in \"\n",
      "/home/dan/.conda/envs/tf-gpu/lib/python3.6/site-packages/skimage/transform/_warps.py:110: UserWarning: Anti-aliasing will be enabled by default in skimage 0.15 to avoid aliasing artifacts when down-sampling images.\n",
      "  warn(\"Anti-aliasing will be enabled by default in skimage 0.15 to \"\n",
      "/home/dan/.conda/envs/tf-gpu/lib/python3.6/site-packages/skimage/util/dtype.py:130: UserWarning: Possible precision loss when converting from float64 to uint8\n",
      "  .format(dtypeobj_in, dtypeobj_out))\n"
     ]
    }
   ],
   "source": [
    "z = read_imgs('/home/dan/Desktop/multipredict/images/data/*.png', (224,224,1))\n",
    "#k = read_imgs('/home/dan/Desktop/Datenset_TowerBuilding/test/masks/data/*.png', (224,224,1))"
   ]
  },
  {
   "cell_type": "code",
   "execution_count": 12,
   "metadata": {},
   "outputs": [
    {
     "name": "stdout",
     "output_type": "stream",
     "text": [
      "\r",
      "19/19 [==============================] - 1s 27ms/step\n"
     ]
    }
   ],
   "source": [
    "# makes a prediction for the whole dataset\n",
    "pred = model.predict(z, verbose=1)"
   ]
  },
  {
   "cell_type": "code",
   "execution_count": 10,
   "metadata": {},
   "outputs": [
    {
     "name": "stdout",
     "output_type": "stream",
     "text": [
      "(3064, 224, 224, 2)\n"
     ]
    }
   ],
   "source": [
    "print(pred.shape)"
   ]
  },
  {
   "cell_type": "code",
   "execution_count": 109,
   "metadata": {},
   "outputs": [
    {
     "ename": "NameError",
     "evalue": "name 'testPred' is not defined",
     "output_type": "error",
     "traceback": [
      "\u001b[0;31m---------------------------------------------------------------------------\u001b[0m",
      "\u001b[0;31mNameError\u001b[0m                                 Traceback (most recent call last)",
      "\u001b[0;32m<ipython-input-109-82a6d8a7ce8e>\u001b[0m in \u001b[0;36m<module>\u001b[0;34m()\u001b[0m\n\u001b[1;32m      1\u001b[0m \u001b[0mpred\u001b[0m \u001b[0;34m=\u001b[0m \u001b[0mpred\u001b[0m\u001b[0;34m.\u001b[0m\u001b[0mreshape\u001b[0m\u001b[0;34m(\u001b[0m\u001b[0;34m(\u001b[0m\u001b[0;36m3064\u001b[0m\u001b[0;34m,\u001b[0m\u001b[0;36m224\u001b[0m\u001b[0;34m,\u001b[0m\u001b[0;36m224\u001b[0m\u001b[0;34m,\u001b[0m\u001b[0;36m2\u001b[0m\u001b[0;34m)\u001b[0m\u001b[0;34m)\u001b[0m\u001b[0;34m\u001b[0m\u001b[0m\n\u001b[0;32m----> 2\u001b[0;31m \u001b[0mprint\u001b[0m\u001b[0;34m(\u001b[0m\u001b[0mtestPred\u001b[0m\u001b[0;34m.\u001b[0m\u001b[0mshape\u001b[0m\u001b[0;34m)\u001b[0m\u001b[0;34m\u001b[0m\u001b[0m\n\u001b[0m",
      "\u001b[0;31mNameError\u001b[0m: name 'testPred' is not defined"
     ]
    }
   ],
   "source": []
  },
  {
   "cell_type": "code",
   "execution_count": 23,
   "metadata": {},
   "outputs": [
    {
     "data": {
      "image/png": "[encoded data removed]",
      "text/plain": [
       "<Figure size 432x288 with 1 Axes>"
      ]
     },
     "metadata": {},
     "output_type": "display_data"
    },
    {
     "data": {
      "image/png": "[encoded data removed]",
      "text/plain": [
       "<Figure size 432x288 with 1 Axes>"
      ]
     },
     "metadata": {},
     "output_type": "display_data"
    },
    {
     "ename": "NameError",
     "evalue": "name 'k' is not defined",
     "output_type": "error",
     "traceback": [
      "\u001b[0;31m---------------------------------------------------------------------------\u001b[0m",
      "\u001b[0;31mNameError\u001b[0m                                 Traceback (most recent call last)",
      "\u001b[0;32m<ipython-input-23-17f37e966cb1>\u001b[0m in \u001b[0;36m<module>\u001b[0;34m()\u001b[0m\n\u001b[1;32m     12\u001b[0m \u001b[0;34m\u001b[0m\u001b[0m\n\u001b[1;32m     13\u001b[0m \u001b[0;31m# Ground Truth\u001b[0m\u001b[0;34m\u001b[0m\u001b[0;34m\u001b[0m\u001b[0m\n\u001b[0;32m---> 14\u001b[0;31m \u001b[0mplt\u001b[0m\u001b[0;34m.\u001b[0m\u001b[0mimshow\u001b[0m\u001b[0;34m(\u001b[0m\u001b[0mk\u001b[0m\u001b[0;34m[\u001b[0m\u001b[0mi\u001b[0m\u001b[0;34m]\u001b[0m\u001b[0;34m[\u001b[0m\u001b[0;34m:\u001b[0m\u001b[0;34m,\u001b[0m\u001b[0;34m:\u001b[0m\u001b[0;34m,\u001b[0m\u001b[0;36m0\u001b[0m\u001b[0;34m]\u001b[0m\u001b[0;34m,\u001b[0m \u001b[0mcmap\u001b[0m \u001b[0;34m=\u001b[0m \u001b[0;34m'gray'\u001b[0m\u001b[0;34m)\u001b[0m\u001b[0;34m\u001b[0m\u001b[0m\n\u001b[0m\u001b[1;32m     15\u001b[0m \u001b[0mplt\u001b[0m\u001b[0;34m.\u001b[0m\u001b[0mshow\u001b[0m\u001b[0;34m(\u001b[0m\u001b[0;34m)\u001b[0m\u001b[0;34m\u001b[0m\u001b[0m\n\u001b[1;32m     16\u001b[0m \u001b[0;34m\u001b[0m\u001b[0m\n",
      "\u001b[0;31mNameError\u001b[0m: name 'k' is not defined"
     ]
    }
   ],
   "source": [
    "# Plots the prediction in jupyter notebook for comparison\n",
    "i = 13\n",
    "\n",
    "# Input Picture\n",
    "plt.imshow(z[i, ..., 0], cmap='gray')\n",
    "plt.axis('off')\n",
    "plt.show()\n",
    "\n",
    "plt.imshow(pred[i])\n",
    "plt.axis('off')\n",
    "plt.show()\n",
    "\n",
    "# Ground Truth\n",
    "plt.imshow(k[i][:,:,0], cmap = 'gray')\n",
    "plt.show()\n",
    "\n",
    "# Prediction Dim 0\n",
    "plt.imshow(pred[i][:,:,0], cmap = 'gray')\n",
    "plt.show()\n",
    "\n",
    "# Prediction Dim 1\n",
    "plt.imshow(pred[i][:,:,1], cmap = 'gray')\n",
    "plt.show()\n",
    "\n",
    "# Prediction Dim 1\n",
    "plt.imshow(pred[i][:,:,2], cmap = 'gray')\n",
    "plt.show\n",
    "plt.show()\n",
    "\n",
    "\n",
    "\n",
    "#plt.imshow(pred[i][:,:,2], cmap = 'gray')\n",
    "#plt.show()\n",
    "\n",
    "#plt.imshow(k[i][:,:,2], cmap = 'gray')\n",
    "#plt.show()\n",
    "\n",
    "#plt.imshow(y[i, ..., 0], cmap='gray')\n",
    "#plt.show()\n",
    "#plt.imshow(pred[i, ..., 0], cmap='gray')\n",
    "#plt.show()"
   ]
  },
  {
   "cell_type": "code",
   "execution_count": 89,
   "metadata": {},
   "outputs": [
    {
     "name": "stderr",
     "output_type": "stream",
     "text": [
      "/home/dan/.conda/envs/tf-gpu/lib/python3.6/site-packages/skimage/util/dtype.py:130: UserWarning: Possible precision loss when converting from float64 to uint8\n",
      "  .format(dtypeobj_in, dtypeobj_out))\n"
     ]
    }
   ],
   "source": [
    "l = pred[55]\n",
    "m = np.zeros((224,224,1))\n",
    "arr = np.concatenate([l,m], axis=2)\n",
    "io.imsave(\"teeest.png\",arr)"
   ]
  },
  {
   "cell_type": "markdown",
   "metadata": {},
   "source": [
    "# Save the Model\n",
    "Speichert\n",
    "* die Architektur\n",
    "* die Gewichte\n",
    "* die Trainingskonfigurationen (loss, optimizer)\n",
    "* State des Optimizers"
   ]
  },
  {
   "cell_type": "code",
   "execution_count": 14,
   "metadata": {
    "collapsed": true
   },
   "outputs": [],
   "source": [
    "model.save('ds1_1_small.h5')"
   ]
  },
  {
   "cell_type": "code",
   "execution_count": null,
   "metadata": {
    "collapsed": true
   },
   "outputs": [],
   "source": []
  },
  {
   "cell_type": "code",
   "execution_count": null,
   "metadata": {
    "collapsed": true
   },
   "outputs": [],
   "source": []
  }
 ],
 "metadata": {
  "kernelspec": {
   "display_name": "TensorFlow-GPU",
   "language": "python",
   "name": "tf-gpu"
  },
  "language_info": {
   "codemirror_mode": {
    "name": "ipython",
    "version": 3
   },
   "file_extension": ".py",
   "mimetype": "text/x-python",
   "name": "python",
   "nbconvert_exporter": "python",
   "pygments_lexer": "ipython3",
   "version": "3.6.6"
  }
 },
 "nbformat": 4,
 "nbformat_minor": 2
}
