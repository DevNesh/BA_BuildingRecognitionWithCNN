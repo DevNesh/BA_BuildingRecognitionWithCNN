{
 "cells": [
  {
   "cell_type": "code",
   "execution_count": 1,
   "metadata": {},
   "outputs": [
    {
     "name": "stderr",
     "output_type": "stream",
     "text": [
      "Using TensorFlow backend.\n"
     ]
    }
   ],
   "source": [
    "import numpy as np\n",
    "import pandas as pd\n",
    "import matplotlib.pyplot as plt\n",
    "%matplotlib inline\n",
    "import keras.backend as K\n",
    "from keras.models import *\n",
    "from keras.layers import *\n",
    "from keras.optimizers import *\n",
    "from keras.callbacks import *\n",
    "from keras.losses import *\n",
    "import skimage.io as io\n",
    "import skimage.transform as tr\n",
    "import skimage.color\n",
    "import dask.array as da\n",
    "from glob import glob\n",
    "from dask.array.image import imread\n",
    "from skimage import img_as_ubyte"
   ]
  },
  {
   "cell_type": "code",
   "execution_count": 2,
   "metadata": {
    "scrolled": false
   },
   "outputs": [
    {
     "name": "stderr",
     "output_type": "stream",
     "text": [
      "/home/dan/.conda/envs/tf-gpu/lib/python3.6/site-packages/skimage/transform/_warps.py:105: UserWarning: The default mode, 'constant', will be changed to 'reflect' in skimage 0.15.\n",
      "  warn(\"The default mode, 'constant', will be changed to 'reflect' in \"\n",
      "/home/dan/.conda/envs/tf-gpu/lib/python3.6/site-packages/skimage/transform/_warps.py:110: UserWarning: Anti-aliasing will be enabled by default in skimage 0.15 to avoid aliasing artifacts when down-sampling images.\n",
      "  warn(\"Anti-aliasing will be enabled by default in skimage 0.15 to \"\n",
      "/home/dan/.conda/envs/tf-gpu/lib/python3.6/site-packages/skimage/util/dtype.py:130: UserWarning: Possible precision loss when converting from float64 to uint8\n",
      "  .format(dtypeobj_in, dtypeobj_out))\n"
     ]
    },
    {
     "name": "stdout",
     "output_type": "stream",
     "text": [
      "200\n",
      "400\n",
      "600\n",
      "800\n",
      "1000\n",
      "1200\n",
      "1400\n",
      "1600\n",
      "1800\n",
      "2000\n",
      "2200\n",
      "2400\n",
      "2600\n",
      "2800\n",
      "3000\n"
     ]
    },
    {
     "name": "stderr",
     "output_type": "stream",
     "text": [
      "/home/dan/.conda/envs/tf-gpu/lib/python3.6/site-packages/skimage/io/_io.py:140: UserWarning: teeeeest.png is a low contrast image\n",
      "  warn('%s is a low contrast image' % fname)\n"
     ]
    },
    {
     "name": "stdout",
     "output_type": "stream",
     "text": [
      "Done\n",
      "200\n",
      "400\n",
      "600\n",
      "800\n",
      "1000\n",
      "1200\n",
      "1400\n",
      "1600\n",
      "1800\n",
      "2000\n",
      "2200\n",
      "2400\n",
      "2600\n",
      "2800\n",
      "3000\n"
     ]
    }
   ],
   "source": [
    "def read_img(path, size):\n",
    "    img = io.imread(path)\n",
    "    img = tr.resize(img, size)\n",
    "    img_as_ubyte(img)\n",
    "    return img\n",
    "\n",
    "def read_imgs(path, size):\n",
    "    imgs = []\n",
    "    paths = glob(path)\n",
    "    index = 0\n",
    "    for p in paths:\n",
    "        img = read_img(p, size)\n",
    "        imgs.append(img)\n",
    "        index += 1\n",
    "        if (index % 200 == 0):\n",
    "            print(index)\n",
    "    return np.array(imgs)\n",
    "\n",
    "\n",
    "# Reads the images from a path, iterating over all images\n",
    "# - resizing them to a 1 channel grayscale image\n",
    "# - saving all images in a numpy array, returns this array \n",
    "def read_masks(path, size):\n",
    "    imgs = []\n",
    "    paths = glob(path)\n",
    "    index = 0\n",
    "    for p in paths:\n",
    "        \n",
    "        mask1 = read_img(p, (224,224,1))\n",
    "        mask1 = np.array(mask1)\n",
    "        mask1[mask1[:,:,0] > 0.001] = 1\n",
    "        #mask1[mask1 > 0.01] = 1\n",
    "        \n",
    "        p2 = p.replace(\"masks_01\",\"masks_02\")\n",
    "        mask2 = read_img(p2, (224,224,1))\n",
    "        mask2 = np.array(mask2)\n",
    "        mask2[mask2[:,:,0] > 0.001] = 1\n",
    "        \n",
    "        \n",
    "        #black = np.zeros((224,224,1))\n",
    "        #black[black[:,:,0] == 0] = 1\n",
    "        #black[(mask1[:,:,0] == 1)|(mask2[:,:,0] == 1)] = 0\n",
    "        \n",
    "        \n",
    "        if (index == 4):\n",
    "            arr1 = np.zeros((224,224,1))\n",
    "            arr2 = np.zeros((224,224,1))\n",
    "            neu = np.zeros((224,224,1))\n",
    "            \n",
    "            neu = np.concatenate([arr1,arr2,mask2], axis=2)\n",
    "            io.imsave('teeeeest.png',neu)\n",
    "            print('Done')\n",
    "        \n",
    "\n",
    "        #p3 = p.replace(\"masks_03\",\"masks_02\")\n",
    "        #print(p3)\n",
    "        #mask3 = read_img(p3, (224,224,1))\n",
    "        \n",
    "        masks = np.concatenate([mask1, mask2], axis=2)\n",
    "        \n",
    "        imgs.append(masks)\n",
    "        index += 1\n",
    "        if (index % 200 == 0):\n",
    "            print(index)\n",
    "    return np.array(imgs)\n",
    "\n",
    "# Saves the data into a variable (x = input, y = masks / ground truth)\n",
    "x = None\n",
    "x = read_imgs('/home/dan/Desktop/combined_masks/images/data/*.png', (224,224,1))\n",
    "y = None\n",
    "y = read_masks('/home/dan/Desktop/combined_masks/masks_01/data/*.png', (224,224,1))"
   ]
  },
  {
   "cell_type": "code",
   "execution_count": 3,
   "metadata": {},
   "outputs": [],
   "source": [
    "mask_train = tf.keras.utils.to_categorical(y,2)"
   ]
  },
  {
   "cell_type": "code",
   "execution_count": 90,
   "metadata": {},
   "outputs": [
    {
     "name": "stdout",
     "output_type": "stream",
     "text": [
      "(3064, 224, 224, 2)\n",
      "3064\n",
      "(3064, 50176, 2)\n"
     ]
    }
   ],
   "source": [
    "print(y.shape)\n",
    "print(y.shape[0])\n",
    "\n",
    "test = y.reshape(y.shape[0],-1,y.shape[3])\n",
    "print(test.shape)\n",
    "\n",
    "u = test.reshape((3064,224,224,2))\n"
   ]
  },
  {
   "cell_type": "code",
   "execution_count": 4,
   "metadata": {},
   "outputs": [
    {
     "name": "stdout",
     "output_type": "stream",
     "text": [
      "(3064, 224, 224, 2, 2)\n"
     ]
    }
   ],
   "source": [
    "print (mask_train.shape)"
   ]
  },
  {
   "cell_type": "code",
   "execution_count": 3,
   "metadata": {},
   "outputs": [],
   "source": [
    "def showImage(img, title=None, cmap=None):\n",
    "    \n",
    "    if (title != None):\n",
    "        plt.title(title)\n",
    "        \n",
    "    plt.imshow(img[:,:,0], cmap = cmap)\n",
    "    plt.show()    \n",
    "\n",
    "\n",
    "def showImageFromArray(arr, i, title=None, cmap=None):\n",
    "    showImage(arr[i],title,cmap)"
   ]
  },
  {
   "cell_type": "code",
   "execution_count": 4,
   "metadata": {},
   "outputs": [
    {
     "data": {
      "image/png": "[encoded data removed]",
      "text/plain": [
       "<Figure size 432x288 with 1 Axes>"
      ]
     },
     "metadata": {},
     "output_type": "display_data"
    },
    {
     "name": "stdout",
     "output_type": "stream",
     "text": [
      "[0. 0. 0. 0. 0. 0. 0. 0. 0. 0. 0. 0. 0. 0. 0. 0. 0. 0. 0. 0. 0. 0. 0. 0.\n",
      " 0. 0. 0. 0. 0. 0. 0. 0. 0. 0. 0. 0. 0. 0. 0. 0. 0. 0. 0. 0. 0. 0. 0. 0.\n",
      " 0. 0. 0. 0. 0. 0. 0. 0. 0. 0. 0. 0. 0. 0. 0. 0. 0. 0. 0. 0. 0. 0. 0. 0.\n",
      " 0. 0. 0. 0. 0. 0. 0. 0. 0. 0. 0. 0. 0. 0. 0. 0. 0. 0. 0. 0. 0. 0. 0. 0.\n",
      " 0. 0. 0. 0. 1. 1. 1. 1. 1. 1. 1. 1. 1. 1. 1. 1. 1. 1. 1. 1. 1. 1. 1. 1.\n",
      " 1. 1. 1. 1. 1. 1. 1. 1. 1. 1. 1. 1. 1. 1. 1. 1. 1. 1. 0. 0. 0. 0. 0. 0.\n",
      " 0. 0. 0. 0. 0. 0. 0. 0. 0. 0. 0. 0. 0. 0. 0. 0. 0. 0. 0. 0. 0. 0. 0. 0.\n",
      " 0. 0. 0. 0. 0. 0. 0. 0. 0. 0. 0. 0. 0. 0. 0. 0. 0. 0. 0. 0. 0. 0. 0. 0.\n",
      " 0. 0. 0. 0. 0. 0. 0. 0. 0. 0. 0. 0. 0. 0. 0. 0. 0. 0. 0. 0. 0. 0. 0. 0.\n",
      " 0. 0. 0. 0. 0. 0. 0. 0.]\n"
     ]
    },
    {
     "data": {
      "image/png": "[encoded data removed]",
      "text/plain": [
       "<Figure size 432x288 with 1 Axes>"
      ]
     },
     "metadata": {},
     "output_type": "display_data"
    },
    {
     "name": "stdout",
     "output_type": "stream",
     "text": [
      "[0. 0. 0. 0. 0. 0. 0. 0. 0. 0. 0. 0. 0. 0. 0. 0. 0. 0. 0. 0. 0. 0. 0. 0.\n",
      " 0. 0. 0. 0. 0. 0. 0. 0. 0. 0. 0. 0. 0. 0. 0. 0. 0. 0. 0. 0. 0. 0. 0. 0.\n",
      " 0. 0. 0. 0. 0. 0. 0. 0. 0. 0. 0. 0. 0. 0. 0. 0. 0. 0. 0. 0. 0. 0. 0. 0.\n",
      " 0. 0. 0. 0. 0. 0. 0. 0. 0. 0. 0. 0. 0. 0. 0. 0. 0. 0. 0. 0. 0. 0. 0. 0.\n",
      " 0. 0. 0. 0. 0. 0. 0. 0. 0. 0. 0. 0. 0. 0. 0. 0. 0. 0. 0. 0. 0. 0. 0. 0.\n",
      " 0. 0. 0. 0. 0. 0. 0. 0. 0. 0. 0. 0. 0. 0. 0. 0. 0. 0. 0. 0. 0. 0. 0. 0.\n",
      " 0. 0. 0. 0. 0. 0. 0. 0. 0. 0. 0. 0. 0. 0. 1. 1. 1. 1. 1. 1. 1. 1. 1. 1.\n",
      " 1. 1. 1. 1. 1. 1. 1. 1. 1. 1. 1. 1. 1. 1. 1. 1. 1. 1. 1. 1. 1. 1. 1. 1.\n",
      " 1. 1. 1. 1. 1. 1. 1. 1. 0. 0. 0. 0. 0. 0. 0. 0. 0. 0. 0. 0. 0. 0. 0. 0.\n",
      " 0. 0. 0. 0. 0. 0. 0. 0.]\n"
     ]
    },
    {
     "ename": "IndexError",
     "evalue": "index 2 is out of bounds for axis 2 with size 2",
     "output_type": "error",
     "traceback": [
      "\u001b[0;31m---------------------------------------------------------------------------\u001b[0m",
      "\u001b[0;31mIndexError\u001b[0m                                Traceback (most recent call last)",
      "\u001b[0;32m<ipython-input-4-451f71ad49a9>\u001b[0m in \u001b[0;36m<module>\u001b[0;34m()\u001b[0m\n\u001b[1;32m     12\u001b[0m \u001b[0mprint\u001b[0m\u001b[0;34m(\u001b[0m\u001b[0mnp\u001b[0m\u001b[0;34m.\u001b[0m\u001b[0mamax\u001b[0m\u001b[0;34m(\u001b[0m\u001b[0my\u001b[0m\u001b[0;34m[\u001b[0m\u001b[0;36m4\u001b[0m\u001b[0;34m]\u001b[0m\u001b[0;34m[\u001b[0m\u001b[0;34m:\u001b[0m\u001b[0;34m,\u001b[0m\u001b[0;34m:\u001b[0m\u001b[0;34m,\u001b[0m\u001b[0;36m1\u001b[0m\u001b[0;34m]\u001b[0m\u001b[0;34m,\u001b[0m \u001b[0maxis\u001b[0m\u001b[0;34m=\u001b[0m\u001b[0;36m1\u001b[0m\u001b[0;34m)\u001b[0m\u001b[0;34m)\u001b[0m\u001b[0;34m\u001b[0m\u001b[0m\n\u001b[1;32m     13\u001b[0m \u001b[0;34m\u001b[0m\u001b[0m\n\u001b[0;32m---> 14\u001b[0;31m \u001b[0mplt\u001b[0m\u001b[0;34m.\u001b[0m\u001b[0mimshow\u001b[0m\u001b[0;34m(\u001b[0m\u001b[0my\u001b[0m\u001b[0;34m[\u001b[0m\u001b[0;36m4\u001b[0m\u001b[0;34m]\u001b[0m\u001b[0;34m[\u001b[0m\u001b[0;34m:\u001b[0m\u001b[0;34m,\u001b[0m\u001b[0;34m:\u001b[0m\u001b[0;34m,\u001b[0m\u001b[0;36m2\u001b[0m\u001b[0;34m]\u001b[0m\u001b[0;34m,\u001b[0m \u001b[0mcmap\u001b[0m \u001b[0;34m=\u001b[0m \u001b[0;34m'gray'\u001b[0m\u001b[0;34m)\u001b[0m\u001b[0;34m\u001b[0m\u001b[0m\n\u001b[0m\u001b[1;32m     15\u001b[0m \u001b[0mplt\u001b[0m\u001b[0;34m.\u001b[0m\u001b[0mshow\u001b[0m\u001b[0;34m(\u001b[0m\u001b[0;34m)\u001b[0m\u001b[0;34m\u001b[0m\u001b[0m\n",
      "\u001b[0;31mIndexError\u001b[0m: index 2 is out of bounds for axis 2 with size 2"
     ]
    }
   ],
   "source": [
    "# Plots the images in jupyter notebook for comparison\n",
    "#y = y/255\n",
    "#showImage(x[600], cmap='gray')\n",
    "\n",
    "plt.imshow(y[4][:,:,0], cmap = 'gray')\n",
    "plt.show()\n",
    "print(np.amax(y[4][:,:,0], axis=1))\n",
    "\n",
    "plt.imshow(y[4][:,:,1], cmap = 'gray')\n",
    "plt.show()\n",
    "\n",
    "print(np.amax(y[4][:,:,1], axis=1))\n",
    "\n",
    "plt.imshow(y[4][:,:,2], cmap = 'gray')\n",
    "plt.show()"
   ]
  },
  {
   "cell_type": "code",
   "execution_count": 5,
   "metadata": {},
   "outputs": [
    {
     "name": "stdout",
     "output_type": "stream",
     "text": [
      "(3064, 224, 224, 2)\n"
     ]
    }
   ],
   "source": [
    "print(y.shape)"
   ]
  },
  {
   "cell_type": "code",
   "execution_count": 5,
   "metadata": {},
   "outputs": [],
   "source": [
    "# Defining the loss function \n",
    "def iou(y_true, y_pred):\n",
    "    y_true_f = K.flatten(y_true)\n",
    "    y_pred_f = K.flatten(y_pred)\n",
    "    intersection = K.sum(y_true_f * y_pred_f)\n",
    "    return (intersection + 1.) / (K.sum(y_true_f) + K.sum(y_pred_f) + 1. - intersection)\n",
    "\n",
    "def iou_loss(y_true, y_pred):\n",
    "    return  -iou(y_true, y_pred)\n",
    "\n",
    "def f1(y_true, y_pred):\n",
    "    y_true_f = K.flatten(y_true)\n",
    "    y_pred_f = K.flatten(y_pred)\n",
    "    intersection = K.sum(y_true_f * y_pred_f)\n",
    "    return (2. * intersection + 1.) / (K.sum(y_true_f) + K.sum(y_pred_f) + 1.)\n",
    "\n",
    "def f1_np(y_true, y_pred):\n",
    "    return (2. * (y_true * y_pred).sum() + 1.) / (y_true.sum() + y_pred.sum() + 1.)\n",
    "\n",
    "def f1_loss(y_true, y_pred):\n",
    "    return 1-f1(y_true, y_pred)\n",
    "\n",
    "def precision(y_true, y_pred):\n",
    "    y_true_f = K.flatten(y_true)\n",
    "    y_pred_f = K.flatten(y_pred)\n",
    "    intersection = K.sum(y_true_f * y_pred_f)\n",
    "    return (intersection + 1.) / (K.sum(y_pred_f) + 1.)\n",
    "\n",
    "def precision_np(y_true, y_pred):\n",
    "    return ((y_true * y_pred).sum() + 1.) / (y_pred.sum() + 1.)\n",
    "\n",
    "def recall(y_true, y_pred):\n",
    "    y_true_f = K.flatten(y_true)\n",
    "    y_pred_f = K.flatten(y_pred)\n",
    "    intersection = K.sum(y_true_f * y_pred_f)\n",
    "    return (intersection + 1.) / (K.sum(y_true_f) + 1.)\n",
    "\n",
    "def recall_np(y_true, y_pred):\n",
    "    return ((y_true * y_pred).sum() + 1.) / (y_true.sum() + 1.)\n",
    "\n",
    "def mae_img(y_true, y_pred):\n",
    "    y_true_f = K.flatten(y_true)\n",
    "    y_pred_f = K.flatten(y_pred)\n",
    "    return mae(y_true_f, y_pred_f)\n",
    "\n",
    "def bce_img(y_true, y_pred):\n",
    "    y_true_f = K.flatten(y_true)\n",
    "    y_pred_f = K.flatten(y_pred)\n",
    "    return binary_crossentropy(y_true_f, y_pred_f)\n",
    "\n",
    "def f1_bce(y_true, y_pred):\n",
    "    return f1_loss(y_true, y_pred) + bce_img(y_true, y_pred)\n",
    "\n",
    "# FP + FN\n",
    "def error(y_true, y_pred):\n",
    "    y_true_f = K.flatten(y_true)\n",
    "    y_pred_f = K.flatten(y_pred)\n",
    "    return K.sum(K.abs(y_true_f - y_pred_f)) / float(224*224)\n",
    "\n",
    "def error_np(y_true, y_pred):\n",
    "    return (abs(y_true - y_pred)).sum() / float(len(y_true.flatten()))"
   ]
  },
  {
   "cell_type": "markdown",
   "metadata": {
    "collapsed": true
   },
   "source": [
    "#Altes Modell laden\n",
    "from keras.models import load_model\n",
    "model = load_model('modelsave2.h5', custom_objects={'iou_loss': iou_loss})\n",
    "\n",
    "model.summary()"
   ]
  },
  {
   "cell_type": "code",
   "execution_count": 6,
   "metadata": {},
   "outputs": [
    {
     "name": "stdout",
     "output_type": "stream",
     "text": [
      "__________________________________________________________________________________________________\n",
      "Layer (type)                    Output Shape         Param #     Connected to                     \n",
      "==================================================================================================\n",
      "input_1 (InputLayer)            (None, 224, 224, 1)  0                                            \n",
      "__________________________________________________________________________________________________\n",
      "conv2d_1 (Conv2D)               (None, 224, 224, 16) 160         input_1[0][0]                    \n",
      "__________________________________________________________________________________________________\n",
      "conv2d_2 (Conv2D)               (None, 224, 224, 16) 2320        conv2d_1[0][0]                   \n",
      "__________________________________________________________________________________________________\n",
      "max_pooling2d_1 (MaxPooling2D)  (None, 112, 112, 16) 0           conv2d_2[0][0]                   \n",
      "__________________________________________________________________________________________________\n",
      "conv2d_3 (Conv2D)               (None, 112, 112, 32) 4640        max_pooling2d_1[0][0]            \n",
      "__________________________________________________________________________________________________\n",
      "conv2d_4 (Conv2D)               (None, 112, 112, 32) 9248        conv2d_3[0][0]                   \n",
      "__________________________________________________________________________________________________\n",
      "max_pooling2d_2 (MaxPooling2D)  (None, 56, 56, 32)   0           conv2d_4[0][0]                   \n",
      "__________________________________________________________________________________________________\n",
      "conv2d_5 (Conv2D)               (None, 56, 56, 64)   18496       max_pooling2d_2[0][0]            \n",
      "__________________________________________________________________________________________________\n",
      "conv2d_6 (Conv2D)               (None, 56, 56, 64)   36928       conv2d_5[0][0]                   \n",
      "__________________________________________________________________________________________________\n",
      "max_pooling2d_3 (MaxPooling2D)  (None, 28, 28, 64)   0           conv2d_6[0][0]                   \n",
      "__________________________________________________________________________________________________\n",
      "conv2d_7 (Conv2D)               (None, 28, 28, 128)  73856       max_pooling2d_3[0][0]            \n",
      "__________________________________________________________________________________________________\n",
      "conv2d_8 (Conv2D)               (None, 28, 28, 128)  147584      conv2d_7[0][0]                   \n",
      "__________________________________________________________________________________________________\n",
      "max_pooling2d_4 (MaxPooling2D)  (None, 14, 14, 128)  0           conv2d_8[0][0]                   \n",
      "__________________________________________________________________________________________________\n",
      "conv2d_9 (Conv2D)               (None, 14, 14, 256)  295168      max_pooling2d_4[0][0]            \n",
      "__________________________________________________________________________________________________\n",
      "dropout_1 (Dropout)             (None, 14, 14, 256)  0           conv2d_9[0][0]                   \n",
      "__________________________________________________________________________________________________\n",
      "conv2d_10 (Conv2D)              (None, 14, 14, 256)  590080      dropout_1[0][0]                  \n",
      "__________________________________________________________________________________________________\n",
      "up_sampling2d_1 (UpSampling2D)  (None, 28, 28, 256)  0           conv2d_10[0][0]                  \n",
      "__________________________________________________________________________________________________\n",
      "conv2d_11 (Conv2D)              (None, 28, 28, 128)  131200      up_sampling2d_1[0][0]            \n",
      "__________________________________________________________________________________________________\n",
      "concatenate_1 (Concatenate)     (None, 28, 28, 256)  0           conv2d_8[0][0]                   \n",
      "                                                                 conv2d_11[0][0]                  \n",
      "__________________________________________________________________________________________________\n",
      "conv2d_12 (Conv2D)              (None, 28, 28, 128)  295040      concatenate_1[0][0]              \n",
      "__________________________________________________________________________________________________\n",
      "conv2d_13 (Conv2D)              (None, 28, 28, 128)  147584      conv2d_12[0][0]                  \n",
      "__________________________________________________________________________________________________\n",
      "up_sampling2d_2 (UpSampling2D)  (None, 56, 56, 128)  0           conv2d_13[0][0]                  \n",
      "__________________________________________________________________________________________________\n",
      "conv2d_14 (Conv2D)              (None, 56, 56, 64)   32832       up_sampling2d_2[0][0]            \n",
      "__________________________________________________________________________________________________\n",
      "concatenate_2 (Concatenate)     (None, 56, 56, 128)  0           conv2d_6[0][0]                   \n",
      "                                                                 conv2d_14[0][0]                  \n",
      "__________________________________________________________________________________________________\n",
      "conv2d_15 (Conv2D)              (None, 56, 56, 64)   73792       concatenate_2[0][0]              \n",
      "__________________________________________________________________________________________________\n",
      "conv2d_16 (Conv2D)              (None, 56, 56, 64)   36928       conv2d_15[0][0]                  \n",
      "__________________________________________________________________________________________________\n",
      "up_sampling2d_3 (UpSampling2D)  (None, 112, 112, 64) 0           conv2d_16[0][0]                  \n",
      "__________________________________________________________________________________________________\n",
      "conv2d_17 (Conv2D)              (None, 112, 112, 32) 8224        up_sampling2d_3[0][0]            \n",
      "__________________________________________________________________________________________________\n",
      "concatenate_3 (Concatenate)     (None, 112, 112, 64) 0           conv2d_4[0][0]                   \n",
      "                                                                 conv2d_17[0][0]                  \n",
      "__________________________________________________________________________________________________\n",
      "conv2d_18 (Conv2D)              (None, 112, 112, 32) 18464       concatenate_3[0][0]              \n",
      "__________________________________________________________________________________________________\n",
      "conv2d_19 (Conv2D)              (None, 112, 112, 32) 9248        conv2d_18[0][0]                  \n",
      "__________________________________________________________________________________________________\n",
      "up_sampling2d_4 (UpSampling2D)  (None, 224, 224, 32) 0           conv2d_19[0][0]                  \n",
      "__________________________________________________________________________________________________\n",
      "conv2d_20 (Conv2D)              (None, 224, 224, 16) 2064        up_sampling2d_4[0][0]            \n",
      "__________________________________________________________________________________________________\n",
      "concatenate_4 (Concatenate)     (None, 224, 224, 32) 0           conv2d_2[0][0]                   \n",
      "                                                                 conv2d_20[0][0]                  \n",
      "__________________________________________________________________________________________________\n",
      "conv2d_21 (Conv2D)              (None, 224, 224, 16) 4624        concatenate_4[0][0]              \n",
      "__________________________________________________________________________________________________\n",
      "conv2d_22 (Conv2D)              (None, 224, 224, 16) 2320        conv2d_21[0][0]                  \n",
      "__________________________________________________________________________________________________\n",
      "conv2d_23 (Conv2D)              (None, 224, 224, 2)  34          conv2d_22[0][0]                  \n",
      "==================================================================================================\n",
      "Total params: 1,940,834\n",
      "Trainable params: 1,940,834\n",
      "Non-trainable params: 0\n",
      "__________________________________________________________________________________________________\n"
     ]
    }
   ],
   "source": [
    "from unet import UNet\n",
    "model = None\n",
    "model = UNet((224,224,1), 2, 16, 4, 2.0)\n",
    "model.summary()"
   ]
  },
  {
   "cell_type": "code",
   "execution_count": 7,
   "metadata": {},
   "outputs": [],
   "source": [
    "model.compile(optimizer=Adam(lr=0.0001), loss=f1_loss, metrics=[iou_loss, precision, error,recall])"
   ]
  },
  {
   "cell_type": "code",
   "execution_count": 12,
   "metadata": {
    "scrolled": false
   },
   "outputs": [
    {
     "name": "stdout",
     "output_type": "stream",
     "text": [
      "Train on 2450 samples, validate on 614 samples\n",
      "Epoch 1/15\n",
      "2450/2450 [==============================] - 22s 9ms/step - loss: 0.3988 - iou_loss: -0.4306 - precision: 0.8168 - error: 0.4060 - recall: 0.4776 - val_loss: 0.4031 - val_iou_loss: -0.4264 - val_precision: 0.7908 - val_error: 0.4333 - val_recall: 0.4810\n",
      "Epoch 2/15\n",
      "2450/2450 [==============================] - 22s 9ms/step - loss: 0.3930 - iou_loss: -0.4366 - precision: 0.8279 - error: 0.3991 - recall: 0.4807 - val_loss: 0.4006 - val_iou_loss: -0.4289 - val_precision: 0.7918 - val_error: 0.4319 - val_recall: 0.4840\n",
      "Epoch 3/15\n",
      "2450/2450 [==============================] - 22s 9ms/step - loss: 0.3884 - iou_loss: -0.4412 - precision: 0.8332 - error: 0.3944 - recall: 0.4850 - val_loss: 0.4173 - val_iou_loss: -0.4120 - val_precision: 0.7134 - val_error: 0.4723 - val_recall: 0.4944\n",
      "Epoch 4/15\n",
      "2450/2450 [==============================] - 22s 9ms/step - loss: 0.3893 - iou_loss: -0.4404 - precision: 0.8374 - error: 0.3945 - recall: 0.4834 - val_loss: 0.4091 - val_iou_loss: -0.4203 - val_precision: 0.7395 - val_error: 0.4554 - val_recall: 0.4939\n",
      "Epoch 5/15\n",
      "2450/2450 [==============================] - 22s 9ms/step - loss: 0.3794 - iou_loss: -0.4510 - precision: 0.8517 - error: 0.3840 - recall: 0.4900 - val_loss: 0.3912 - val_iou_loss: -0.4386 - val_precision: 0.8019 - val_error: 0.4217 - val_recall: 0.4924\n",
      "Epoch 6/15\n",
      "2450/2450 [==============================] - 22s 9ms/step - loss: 0.3748 - iou_loss: -0.4558 - precision: 0.8607 - error: 0.3787 - recall: 0.4927 - val_loss: 0.3838 - val_iou_loss: -0.4465 - val_precision: 0.8661 - val_error: 0.3989 - val_recall: 0.4799\n",
      "Epoch 7/15\n",
      "2450/2450 [==============================] - 22s 9ms/step - loss: 0.3719 - iou_loss: -0.4588 - precision: 0.8689 - error: 0.3744 - recall: 0.4934 - val_loss: 0.3824 - val_iou_loss: -0.4479 - val_precision: 0.8554 - val_error: 0.4008 - val_recall: 0.4850\n",
      "Epoch 8/15\n",
      "2450/2450 [==============================] - 23s 9ms/step - loss: 0.3711 - iou_loss: -0.4598 - precision: 0.8733 - error: 0.3723 - recall: 0.4935 - val_loss: 0.3824 - val_iou_loss: -0.4478 - val_precision: 0.8494 - val_error: 0.4022 - val_recall: 0.4868\n",
      "Epoch 9/15\n",
      "2450/2450 [==============================] - 22s 9ms/step - loss: 0.3687 - iou_loss: -0.4624 - precision: 0.8730 - error: 0.3711 - recall: 0.4957 - val_loss: 0.3833 - val_iou_loss: -0.4469 - val_precision: 0.8476 - val_error: 0.4032 - val_recall: 0.4864\n",
      "Epoch 10/15\n",
      "2450/2450 [==============================] - 22s 9ms/step - loss: 0.3675 - iou_loss: -0.4636 - precision: 0.8762 - error: 0.3701 - recall: 0.4967 - val_loss: 0.3796 - val_iou_loss: -0.4509 - val_precision: 0.8479 - val_error: 0.4009 - val_recall: 0.4909\n",
      "Epoch 11/15\n",
      "2450/2450 [==============================] - 23s 9ms/step - loss: 0.3638 - iou_loss: -0.4675 - precision: 0.8862 - error: 0.3649 - recall: 0.4977 - val_loss: 0.3769 - val_iou_loss: -0.4537 - val_precision: 0.8806 - val_error: 0.3905 - val_recall: 0.4838\n",
      "Epoch 12/15\n",
      "2450/2450 [==============================] - 23s 9ms/step - loss: 0.3633 - iou_loss: -0.4680 - precision: 0.8850 - error: 0.3650 - recall: 0.4986 - val_loss: 0.3751 - val_iou_loss: -0.4556 - val_precision: 0.8650 - val_error: 0.3930 - val_recall: 0.4909\n",
      "Epoch 13/15\n",
      "2450/2450 [==============================] - 22s 9ms/step - loss: 0.3615 - iou_loss: -0.4700 - precision: 0.8908 - error: 0.3615 - recall: 0.4992 - val_loss: 0.3767 - val_iou_loss: -0.4539 - val_precision: 0.8765 - val_error: 0.3917 - val_recall: 0.4855\n",
      "Epoch 14/15\n",
      "2450/2450 [==============================] - 22s 9ms/step - loss: 0.3603 - iou_loss: -0.4712 - precision: 0.8950 - error: 0.3595 - recall: 0.4990 - val_loss: 0.3851 - val_iou_loss: -0.4450 - val_precision: 0.8036 - val_error: 0.4178 - val_recall: 0.4998\n",
      "Epoch 15/15\n",
      "2450/2450 [==============================] - 22s 9ms/step - loss: 0.3610 - iou_loss: -0.4705 - precision: 0.8937 - error: 0.3602 - recall: 0.4986 - val_loss: 0.3733 - val_iou_loss: -0.4575 - val_precision: 0.8711 - val_error: 0.3903 - val_recall: 0.4912\n"
     ]
    },
    {
     "data": {
      "text/plain": [
       "<keras.callbacks.History at 0x7f1f52cec278>"
      ]
     },
     "execution_count": 12,
     "metadata": {},
     "output_type": "execute_result"
    }
   ],
   "source": [
    "train = 2450 # = 80% of all given data  \n",
    "model.fit(x[:train], y[:train], batch_size=32, epochs=15,\n",
    "         validation_data=(x[train:], y[train:]), shuffle=True)"
   ]
  },
  {
   "cell_type": "code",
   "execution_count": 9,
   "metadata": {},
   "outputs": [
    {
     "name": "stderr",
     "output_type": "stream",
     "text": [
      "/home/dan/.conda/envs/tf-gpu/lib/python3.6/site-packages/skimage/transform/_warps.py:105: UserWarning: The default mode, 'constant', will be changed to 'reflect' in skimage 0.15.\n",
      "  warn(\"The default mode, 'constant', will be changed to 'reflect' in \"\n",
      "/home/dan/.conda/envs/tf-gpu/lib/python3.6/site-packages/skimage/transform/_warps.py:110: UserWarning: Anti-aliasing will be enabled by default in skimage 0.15 to avoid aliasing artifacts when down-sampling images.\n",
      "  warn(\"Anti-aliasing will be enabled by default in skimage 0.15 to \"\n",
      "/home/dan/.conda/envs/tf-gpu/lib/python3.6/site-packages/skimage/util/dtype.py:130: UserWarning: Possible precision loss when converting from float64 to uint8\n",
      "  .format(dtypeobj_in, dtypeobj_out))\n"
     ]
    },
    {
     "name": "stdout",
     "output_type": "stream",
     "text": [
      "200\n",
      "400\n",
      "600\n",
      "800\n",
      "1000\n",
      "1200\n",
      "1400\n",
      "1600\n",
      "1800\n",
      "2000\n",
      "2200\n",
      "2400\n",
      "2600\n",
      "2800\n",
      "3000\n",
      "3200\n",
      "3400\n",
      "3600\n",
      "3800\n",
      "200\n",
      "400\n",
      "600\n",
      "800\n",
      "1000\n",
      "1200\n",
      "1400\n",
      "1600\n",
      "1800\n",
      "2000\n",
      "2200\n",
      "2400\n",
      "2600\n",
      "2800\n",
      "3000\n",
      "3200\n",
      "3400\n",
      "3600\n",
      "3800\n"
     ]
    }
   ],
   "source": [
    "z = read_imgs('/home/dan/Desktop/Datenset_TowerBuilding/test/images/data/*.png', (224,224,1))\n",
    "k = read_imgs('/home/dan/Desktop/Datenset_TowerBuilding/test/masks/data/*.png', (224,224,1))"
   ]
  },
  {
   "cell_type": "code",
   "execution_count": 10,
   "metadata": {},
   "outputs": [
    {
     "name": "stdout",
     "output_type": "stream",
     "text": [
      "3922/3922 [==============================] - 12s 3ms/step\n"
     ]
    }
   ],
   "source": [
    "# makes a prediction for the whole dataset\n",
    "pred = model.predict(z, verbose=1)"
   ]
  },
  {
   "cell_type": "code",
   "execution_count": 10,
   "metadata": {},
   "outputs": [
    {
     "name": "stdout",
     "output_type": "stream",
     "text": [
      "(3064, 224, 224, 2)\n"
     ]
    }
   ],
   "source": [
    "print(pred.shape)"
   ]
  },
  {
   "cell_type": "code",
   "execution_count": 109,
   "metadata": {},
   "outputs": [
    {
     "ename": "NameError",
     "evalue": "name 'testPred' is not defined",
     "output_type": "error",
     "traceback": [
      "\u001b[0;31m---------------------------------------------------------------------------\u001b[0m",
      "\u001b[0;31mNameError\u001b[0m                                 Traceback (most recent call last)",
      "\u001b[0;32m<ipython-input-109-82a6d8a7ce8e>\u001b[0m in \u001b[0;36m<module>\u001b[0;34m()\u001b[0m\n\u001b[1;32m      1\u001b[0m \u001b[0mpred\u001b[0m \u001b[0;34m=\u001b[0m \u001b[0mpred\u001b[0m\u001b[0;34m.\u001b[0m\u001b[0mreshape\u001b[0m\u001b[0;34m(\u001b[0m\u001b[0;34m(\u001b[0m\u001b[0;36m3064\u001b[0m\u001b[0;34m,\u001b[0m\u001b[0;36m224\u001b[0m\u001b[0;34m,\u001b[0m\u001b[0;36m224\u001b[0m\u001b[0;34m,\u001b[0m\u001b[0;36m2\u001b[0m\u001b[0;34m)\u001b[0m\u001b[0;34m)\u001b[0m\u001b[0;34m\u001b[0m\u001b[0m\n\u001b[0;32m----> 2\u001b[0;31m \u001b[0mprint\u001b[0m\u001b[0;34m(\u001b[0m\u001b[0mtestPred\u001b[0m\u001b[0;34m.\u001b[0m\u001b[0mshape\u001b[0m\u001b[0;34m)\u001b[0m\u001b[0;34m\u001b[0m\u001b[0m\n\u001b[0m",
      "\u001b[0;31mNameError\u001b[0m: name 'testPred' is not defined"
     ]
    }
   ],
   "source": []
  },
  {
   "cell_type": "code",
   "execution_count": 11,
   "metadata": {},
   "outputs": [
    {
     "data": {
      "image/png": "[encoded data removed]",
      "text/plain": [
       "<Figure size 432x288 with 1 Axes>"
      ]
     },
     "metadata": {},
     "output_type": "display_data"
    },
    {
     "data": {
      "image/png": "[encoded data removed]",
      "text/plain": [
       "<Figure size 432x288 with 1 Axes>"
      ]
     },
     "metadata": {},
     "output_type": "display_data"
    },
    {
     "data": {
      "image/png": "[encoded data removed]",
      "text/plain": [
       "<Figure size 432x288 with 1 Axes>"
      ]
     },
     "metadata": {},
     "output_type": "display_data"
    },
    {
     "data": {
      "image/png": "[encoded data removed]",
      "text/plain": [
       "<Figure size 432x288 with 1 Axes>"
      ]
     },
     "metadata": {},
     "output_type": "display_data"
    },
    {
     "data": {
      "image/png": "[encoded data removed]",
      "text/plain": [
       "<Figure size 432x288 with 1 Axes>"
      ]
     },
     "metadata": {},
     "output_type": "display_data"
    }
   ],
   "source": [
    "# Plots the prediction in jupyter notebook for comparison\n",
    "i = 420\n",
    "\n",
    "# Input Picture\n",
    "plt.imshow(z[i, ..., 0], cmap='gray')\n",
    "plt.show()\n",
    "\n",
    "# Ground Truth\n",
    "plt.imshow(k[i][:,:,0], cmap = 'gray')\n",
    "plt.show()\n",
    "\n",
    "# RGB Bild\n",
    "rg = np.concatenate([pred[i], np.zeros((224,224,1))], axis=2)\n",
    "plt.imshow(rg)\n",
    "plt.show()\n",
    "\n",
    "# Prediction Dim 0\n",
    "plt.imshow(pred[i][:,:,0], cmap = 'gray')\n",
    "plt.show()\n",
    "\n",
    "# Prediction Dim 1\n",
    "plt.imshow(pred[i][:,:,1], cmap = 'gray')\n",
    "plt.show()\n",
    "\n",
    "\n",
    "\n",
    "#plt.imshow(pred[i][:,:,2], cmap = 'gray')\n",
    "#plt.show()\n",
    "\n",
    "#plt.imshow(k[i][:,:,2], cmap = 'gray')\n",
    "#plt.show()\n",
    "\n",
    "#plt.imshow(y[i, ..., 0], cmap='gray')\n",
    "#plt.show()\n",
    "#plt.imshow(pred[i, ..., 0], cmap='gray')\n",
    "#plt.show()"
   ]
  },
  {
   "cell_type": "code",
   "execution_count": 89,
   "metadata": {},
   "outputs": [
    {
     "name": "stderr",
     "output_type": "stream",
     "text": [
      "/home/dan/.conda/envs/tf-gpu/lib/python3.6/site-packages/skimage/util/dtype.py:130: UserWarning: Possible precision loss when converting from float64 to uint8\n",
      "  .format(dtypeobj_in, dtypeobj_out))\n"
     ]
    }
   ],
   "source": [
    "l = pred[55]\n",
    "m = np.zeros((224,224,1))\n",
    "arr = np.concatenate([l,m], axis=2)\n",
    "io.imsave(\"teeest.png\",arr)"
   ]
  },
  {
   "cell_type": "markdown",
   "metadata": {},
   "source": [
    "# Save the Model\n",
    "Speichert\n",
    "* die Architektur\n",
    "* die Gewichte\n",
    "* die Trainingskonfigurationen (loss, optimizer)\n",
    "* State des Optimizers"
   ]
  },
  {
   "cell_type": "code",
   "execution_count": 14,
   "metadata": {
    "collapsed": true
   },
   "outputs": [],
   "source": [
    "model.save('ds1_1_small.h5')"
   ]
  },
  {
   "cell_type": "code",
   "execution_count": null,
   "metadata": {
    "collapsed": true
   },
   "outputs": [],
   "source": []
  },
  {
   "cell_type": "code",
   "execution_count": null,
   "metadata": {
    "collapsed": true
   },
   "outputs": [],
   "source": []
  }
 ],
 "metadata": {
  "kernelspec": {
   "display_name": "TensorFlow-GPU",
   "language": "python",
   "name": "tf-gpu"
  },
  "language_info": {
   "codemirror_mode": {
    "name": "ipython",
    "version": 3
   },
   "file_extension": ".py",
   "mimetype": "text/x-python",
   "name": "python",
   "nbconvert_exporter": "python",
   "pygments_lexer": "ipython3",
   "version": "3.6.6"
  }
 },
 "nbformat": 4,
 "nbformat_minor": 2
}
